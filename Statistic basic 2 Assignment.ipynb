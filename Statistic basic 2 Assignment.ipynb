{
 "cells": [
  {
   "cell_type": "markdown",
   "id": "c9a57cb1-e4ca-436f-8438-87f54b618277",
   "metadata": {},
   "source": [
    "# Statistic Basics-2 Assignment"
   ]
  },
  {
   "cell_type": "markdown",
   "id": "73124ba1-21ee-477f-8c99-b70b1502a6ff",
   "metadata": {},
   "source": [
    "# Q1. What are the three measures of central tendency?"
   ]
  },
  {
   "cell_type": "code",
   "execution_count": 3,
   "id": "9ebb93b3-d8a6-44a4-a8da-26e2205b3498",
   "metadata": {},
   "outputs": [
    {
     "data": {
      "text/plain": [
       "'\\nThe three measures of central tendency are:-\\n1) Mean\\n2) Median\\n3) Mode\\n'"
      ]
     },
     "execution_count": 3,
     "metadata": {},
     "output_type": "execute_result"
    }
   ],
   "source": [
    "'''\n",
    "The three measures of central tendency are:-\n",
    "1) Mean\n",
    "2) Median\n",
    "3) Mode\n",
    "'''"
   ]
  },
  {
   "cell_type": "code",
   "execution_count": null,
   "id": "7bbe0a50-b0b2-4887-831c-024c83c584de",
   "metadata": {},
   "outputs": [],
   "source": []
  },
  {
   "cell_type": "markdown",
   "id": "e887dd6b-ad9c-44e1-877a-92bf0e117473",
   "metadata": {},
   "source": [
    "# Q2. What is the difference between the mean, median, and mode? How are they used to measure the central tendency of a dataset?"
   ]
  },
  {
   "cell_type": "code",
   "execution_count": 5,
   "id": "0a74f4e3-ce63-412d-9f7e-3b04e53fa339",
   "metadata": {},
   "outputs": [
    {
     "data": {
      "text/plain": [
       "'\\nMean is use to measure the central tendency of dataset without any outlier.\\nMedian is used to find the central tendency when outlier is present in the dataset.\\nMode is use to find the maximum frequency of the dataset.\\n'"
      ]
     },
     "execution_count": 5,
     "metadata": {},
     "output_type": "execute_result"
    }
   ],
   "source": [
    "'''\n",
    "Mean is use to measure the central tendency of dataset without any outlier.\n",
    "Median is used to find the central tendency when outlier is present in the dataset.\n",
    "Mode is use to find the maximum frequency of the dataset.\n",
    "'''\n"
   ]
  },
  {
   "cell_type": "code",
   "execution_count": null,
   "id": "5ca1fa85-093a-4f9c-a3b6-b58b7a4e72b7",
   "metadata": {},
   "outputs": [],
   "source": []
  },
  {
   "cell_type": "markdown",
   "id": "520390bb-7e58-48c0-8d73-a8bb14dc487c",
   "metadata": {},
   "source": [
    "# Q3. Measure the three measures of central tendency for the given height data:\n",
    "# [178,177,176,177,178.2,178,175,179,180,175,178.9,176.2,177,172.5,178,176.5]"
   ]
  },
  {
   "cell_type": "code",
   "execution_count": 7,
   "id": "6b365327-5e09-4400-94f5-65310e24cfc6",
   "metadata": {},
   "outputs": [],
   "source": [
    "height = [178,177,176,177,178.2,178,175,179,180,175,178.9,176.2,177,172.5,178,176.5]"
   ]
  },
  {
   "cell_type": "code",
   "execution_count": 10,
   "id": "a82311a8-7021-4ef1-881e-821e809273c0",
   "metadata": {},
   "outputs": [],
   "source": [
    "import numpy as np"
   ]
  },
  {
   "cell_type": "code",
   "execution_count": 11,
   "id": "357c016a-0118-4d1b-a1dd-a8dd3ecd54c4",
   "metadata": {},
   "outputs": [
    {
     "data": {
      "text/plain": [
       "177.01875"
      ]
     },
     "execution_count": 11,
     "metadata": {},
     "output_type": "execute_result"
    }
   ],
   "source": [
    "np.mean(height)"
   ]
  },
  {
   "cell_type": "code",
   "execution_count": 12,
   "id": "6e20ed78-11ae-49b5-b22e-523841f8ba28",
   "metadata": {},
   "outputs": [
    {
     "data": {
      "text/plain": [
       "177.0"
      ]
     },
     "execution_count": 12,
     "metadata": {},
     "output_type": "execute_result"
    }
   ],
   "source": [
    "np.median(height)"
   ]
  },
  {
   "cell_type": "code",
   "execution_count": 15,
   "id": "12a44269-d9ee-48ff-b4bc-8e3f8b4de003",
   "metadata": {},
   "outputs": [],
   "source": [
    "from scipy import stats"
   ]
  },
  {
   "cell_type": "code",
   "execution_count": 16,
   "id": "80c5dc2f-e06c-40a2-8f19-80f46dabf571",
   "metadata": {},
   "outputs": [
    {
     "name": "stderr",
     "output_type": "stream",
     "text": [
      "/tmp/ipykernel_212/1690947930.py:1: FutureWarning: Unlike other reduction functions (e.g. `skew`, `kurtosis`), the default behavior of `mode` typically preserves the axis it acts along. In SciPy 1.11.0, this behavior will change: the default value of `keepdims` will become False, the `axis` over which the statistic is taken will be eliminated, and the value None will no longer be accepted. Set `keepdims` to True or False to avoid this warning.\n",
      "  stats.mode(height)\n"
     ]
    },
    {
     "data": {
      "text/plain": [
       "ModeResult(mode=array([177.]), count=array([3]))"
      ]
     },
     "execution_count": 16,
     "metadata": {},
     "output_type": "execute_result"
    }
   ],
   "source": [
    "stats.mode(height)"
   ]
  },
  {
   "cell_type": "markdown",
   "id": "e7a2ce0b-ea46-4915-b726-ac1bf9c43823",
   "metadata": {},
   "source": []
  },
  {
   "cell_type": "markdown",
   "id": "2b6b89c1-ce3b-40d6-ae2d-737c7b992df8",
   "metadata": {},
   "source": [
    "# Q4. Find the standard deviation for the given data:\n",
    "# [178,177,176,177,178.2,178,175,179,180,175,178.9,176.2,177,172.5,178,176.5]"
   ]
  },
  {
   "cell_type": "code",
   "execution_count": 17,
   "id": "5509b8bb-68c3-4bb3-b972-0a7850d89614",
   "metadata": {},
   "outputs": [
    {
     "data": {
      "text/plain": [
       "1.7885814036548633"
      ]
     },
     "execution_count": 17,
     "metadata": {},
     "output_type": "execute_result"
    }
   ],
   "source": [
    "np.std(height)"
   ]
  },
  {
   "cell_type": "code",
   "execution_count": null,
   "id": "90086ebf-aed0-49a3-80e3-75ae3c170689",
   "metadata": {},
   "outputs": [],
   "source": []
  },
  {
   "cell_type": "markdown",
   "id": "3658217a-d5e7-4856-8092-cc0891e6441f",
   "metadata": {},
   "source": [
    "# Q5. How are measures of dispersion such as range, variance, and standard deviation used to describe the spread of a dataset? Provide an example."
   ]
  },
  {
   "cell_type": "code",
   "execution_count": 21,
   "id": "918b8278-b96a-4ac7-9dab-529a87482775",
   "metadata": {},
   "outputs": [
    {
     "data": {
      "text/plain": [
       "[178,\n",
       " 177,\n",
       " 176,\n",
       " 177,\n",
       " 178.2,\n",
       " 178,\n",
       " 175,\n",
       " 179,\n",
       " 180,\n",
       " 175,\n",
       " 178.9,\n",
       " 176.2,\n",
       " 177,\n",
       " 172.5,\n",
       " 178,\n",
       " 176.5]"
      ]
     },
     "execution_count": 21,
     "metadata": {},
     "output_type": "execute_result"
    }
   ],
   "source": [
    "height"
   ]
  },
  {
   "cell_type": "code",
   "execution_count": 28,
   "id": "ce182fa9-ff5e-499c-ab77-f1aee6fca3e3",
   "metadata": {},
   "outputs": [
    {
     "data": {
      "text/plain": [
       "1.7885814036548633"
      ]
     },
     "execution_count": 28,
     "metadata": {},
     "output_type": "execute_result"
    }
   ],
   "source": [
    "np.std(height)   # Standard deviation"
   ]
  },
  {
   "cell_type": "code",
   "execution_count": 29,
   "id": "2bceddce-9fcc-4394-9a1b-42d7068d48d1",
   "metadata": {},
   "outputs": [
    {
     "data": {
      "text/plain": [
       "3.199023437500001"
      ]
     },
     "execution_count": 29,
     "metadata": {},
     "output_type": "execute_result"
    }
   ],
   "source": [
    "np.var(height)  # Varience"
   ]
  },
  {
   "cell_type": "code",
   "execution_count": 31,
   "id": "a8d70102-21ef-4a8e-af10-a70c60e6be41",
   "metadata": {},
   "outputs": [
    {
     "data": {
      "text/plain": [
       "7.5"
      ]
     },
     "execution_count": 31,
     "metadata": {},
     "output_type": "execute_result"
    }
   ],
   "source": [
    "np.ptp(height) # ptp = peak to peak"
   ]
  },
  {
   "cell_type": "code",
   "execution_count": null,
   "id": "1c5f0aa6-63ee-4418-bd85-47c279309a77",
   "metadata": {},
   "outputs": [],
   "source": []
  },
  {
   "cell_type": "markdown",
   "id": "53456364-6116-4c0b-9433-7bf7384e7cd2",
   "metadata": {},
   "source": [
    "# Q6. What is a Venn diagram?"
   ]
  },
  {
   "cell_type": "code",
   "execution_count": 32,
   "id": "e71be1ea-5934-4847-bed4-416eb0b4acd7",
   "metadata": {},
   "outputs": [
    {
     "data": {
      "text/plain": [
       "'\\nVenn diagram is that which shows the relationship between sets and its element.\\n'"
      ]
     },
     "execution_count": 32,
     "metadata": {},
     "output_type": "execute_result"
    }
   ],
   "source": [
    "'''\n",
    "Venn diagram is that which shows the relationship between sets and its element.\n",
    "'''"
   ]
  },
  {
   "cell_type": "code",
   "execution_count": null,
   "id": "0776a7e4-7b71-4595-bea0-3e9d7c503c50",
   "metadata": {},
   "outputs": [],
   "source": []
  },
  {
   "cell_type": "markdown",
   "id": "2cf79e79-773d-4540-8c57-40328eb9a71a",
   "metadata": {},
   "source": [
    "# Q7. For the two given sets A = (2,3,4,5,6,7) & B = (0,2,6,8,10). Find:\n",
    "# (i) A B\n",
    "# (ii) A ⋃ B"
   ]
  },
  {
   "cell_type": "code",
   "execution_count": 33,
   "id": "08b03d02-a491-4098-a536-ace6ea088c6d",
   "metadata": {},
   "outputs": [],
   "source": [
    "set_A = {2,3,4,5,6,7}\n",
    "set_B = {0,2,6,8,10}"
   ]
  },
  {
   "cell_type": "code",
   "execution_count": 44,
   "id": "643485e2-9c57-4b11-94a6-47d288bb18dd",
   "metadata": {},
   "outputs": [
    {
     "name": "stdout",
     "output_type": "stream",
     "text": [
      "{2, 6}\n"
     ]
    }
   ],
   "source": [
    "AB_intersection = set_A & set_B\n",
    "print(AB_intersection)"
   ]
  },
  {
   "cell_type": "code",
   "execution_count": 45,
   "id": "da263f4b-2d8f-4900-8a3e-ff0a824626c1",
   "metadata": {},
   "outputs": [
    {
     "name": "stdout",
     "output_type": "stream",
     "text": [
      "{0, 2, 3, 4, 5, 6, 7, 8, 10}\n"
     ]
    }
   ],
   "source": [
    "AB_union = set_A | set_B\n",
    "print(AB_union)"
   ]
  },
  {
   "cell_type": "code",
   "execution_count": null,
   "id": "506bf95a-f0d2-42f0-9654-570bfca35211",
   "metadata": {},
   "outputs": [],
   "source": []
  },
  {
   "cell_type": "markdown",
   "id": "f273c339-5a1b-450f-8ef3-7d0831dd062b",
   "metadata": {},
   "source": [
    "# Q8. What do you understand about skewness in data?"
   ]
  },
  {
   "cell_type": "code",
   "execution_count": 46,
   "id": "01537fb3-aa4b-4681-b496-540c32bed8f1",
   "metadata": {},
   "outputs": [
    {
     "data": {
      "text/plain": [
       "'\\n\\n1)skewness in data is the relationship between mean,median and mode.if the mean,median,mode have difference then we \\nsay right skewed data or left skewed data.\\n\\n2) Right skewed data when if,\\n    mean > median > mode\\n    \\n3) Left skewed data when if,\\n    mean < median < mode\\n\\n'"
      ]
     },
     "execution_count": 46,
     "metadata": {},
     "output_type": "execute_result"
    }
   ],
   "source": [
    "'''\n",
    "\n",
    "1)skewness in data is the relationship between mean,median and mode.if the mean,median,mode have difference then we \n",
    "say right skewed data or left skewed data.\n",
    "\n",
    "2) Right skewed data when if,\n",
    "    mean > median > mode\n",
    "    \n",
    "3) Left skewed data when if,\n",
    "    mean < median < mode\n",
    "\n",
    "'''"
   ]
  },
  {
   "cell_type": "code",
   "execution_count": null,
   "id": "8c2e1518-01ec-479b-8bd8-feaddf9c35b8",
   "metadata": {},
   "outputs": [],
   "source": []
  },
  {
   "cell_type": "markdown",
   "id": "5bcee8ff-fe3f-4433-8856-6d6b6a40d4a2",
   "metadata": {},
   "source": [
    "# Q9. If a data is right skewed then what will be the position of median with respect to mean?"
   ]
  },
  {
   "cell_type": "code",
   "execution_count": 48,
   "id": "a444d5f8-1647-4a4b-966c-2f87a401f058",
   "metadata": {},
   "outputs": [
    {
     "data": {
      "text/plain": [
       "'Right from the mean'"
      ]
     },
     "execution_count": 48,
     "metadata": {},
     "output_type": "execute_result"
    }
   ],
   "source": [
    "'Right from the mean'"
   ]
  },
  {
   "cell_type": "code",
   "execution_count": null,
   "id": "61acb5f6-efcb-4ff7-beb6-1a4b58e20fb2",
   "metadata": {},
   "outputs": [],
   "source": []
  },
  {
   "cell_type": "markdown",
   "id": "cda74fa9-f6fe-4154-81e7-5fefbf14e33e",
   "metadata": {},
   "source": [
    "# Q10. Explain the difference between covariance and correlation. How are these measures used in statistical analysis?"
   ]
  },
  {
   "cell_type": "code",
   "execution_count": 49,
   "id": "1a12ddbb-1866-42ae-8bb9-49036110eb8a",
   "metadata": {},
   "outputs": [
    {
     "data": {
      "text/plain": [
       "'\\n\\n1) Use to quantify the relationship between two features.\\n2) Covarience justify the spread of the data.\\n3) Covarience have positive and negative value which its advantage.\\n4) Covarience does not have a specific limit value.\\n5) To specify the limit of covarience there are two methods\\n   a) Pearson correlation coefficient:- It can measure the strength and direction of a linear relationship between two variables.\\n    b) Spearman correlation coefficient :- It is used when data is ordinal.\\n    \\n'"
      ]
     },
     "execution_count": 49,
     "metadata": {},
     "output_type": "execute_result"
    }
   ],
   "source": [
    "'''\n",
    "\n",
    "1) Use to quantify the relationship between two features.\n",
    "2) Covarience justify the spread of the data.\n",
    "3) Covarience have positive and negative value which its advantage.\n",
    "4) Covarience does not have a specific limit value.\n",
    "5) To specify the limit of covarience there are two methods\n",
    "   a) Pearson correlation coefficient:- It can measure the strength and direction of a linear relationship between two variables.\n",
    "    b) Spearman correlation coefficient :- It is used when data is ordinal.\n",
    "    \n",
    "'''"
   ]
  },
  {
   "cell_type": "code",
   "execution_count": null,
   "id": "d510e292-ac65-4f00-ac69-2e4d810cb312",
   "metadata": {},
   "outputs": [],
   "source": []
  },
  {
   "cell_type": "markdown",
   "id": "0e5c448c-408c-47f2-b20b-b609d38dc28c",
   "metadata": {},
   "source": [
    "# Q11. What is the formula for calculating the sample mean? Provide an example calculation for a dataset."
   ]
  },
  {
   "cell_type": "code",
   "execution_count": 52,
   "id": "86482c04-3196-4638-8f62-fe3d17fe5b6d",
   "metadata": {},
   "outputs": [
    {
     "data": {
      "text/plain": [
       "\"\\nFormula for sample mean is:-\\nnp.mean('______') and mathematical formula - (sum of Total values)/ total numbers of values.\\n\""
      ]
     },
     "execution_count": 52,
     "metadata": {},
     "output_type": "execute_result"
    }
   ],
   "source": [
    "'''\n",
    "Formula for sample mean is:-\n",
    "np.mean('______') and mathematical formula - (sum of Total values)/ total numbers of values.\n",
    "'''"
   ]
  },
  {
   "cell_type": "code",
   "execution_count": 53,
   "id": "630fc7cc-d1c3-4e82-8503-a0bce42ea962",
   "metadata": {},
   "outputs": [],
   "source": [
    "import seaborn as sns"
   ]
  },
  {
   "cell_type": "code",
   "execution_count": 55,
   "id": "775b1a9d-c124-43aa-bf7c-96507acd86a8",
   "metadata": {},
   "outputs": [],
   "source": [
    "df = sns.load_dataset('flights')"
   ]
  },
  {
   "cell_type": "code",
   "execution_count": 56,
   "id": "a03d5ca0-b4db-44b9-96c1-09a9a35582e9",
   "metadata": {},
   "outputs": [
    {
     "data": {
      "text/html": [
       "<div>\n",
       "<style scoped>\n",
       "    .dataframe tbody tr th:only-of-type {\n",
       "        vertical-align: middle;\n",
       "    }\n",
       "\n",
       "    .dataframe tbody tr th {\n",
       "        vertical-align: top;\n",
       "    }\n",
       "\n",
       "    .dataframe thead th {\n",
       "        text-align: right;\n",
       "    }\n",
       "</style>\n",
       "<table border=\"1\" class=\"dataframe\">\n",
       "  <thead>\n",
       "    <tr style=\"text-align: right;\">\n",
       "      <th></th>\n",
       "      <th>year</th>\n",
       "      <th>month</th>\n",
       "      <th>passengers</th>\n",
       "    </tr>\n",
       "  </thead>\n",
       "  <tbody>\n",
       "    <tr>\n",
       "      <th>0</th>\n",
       "      <td>1949</td>\n",
       "      <td>Jan</td>\n",
       "      <td>112</td>\n",
       "    </tr>\n",
       "    <tr>\n",
       "      <th>1</th>\n",
       "      <td>1949</td>\n",
       "      <td>Feb</td>\n",
       "      <td>118</td>\n",
       "    </tr>\n",
       "    <tr>\n",
       "      <th>2</th>\n",
       "      <td>1949</td>\n",
       "      <td>Mar</td>\n",
       "      <td>132</td>\n",
       "    </tr>\n",
       "    <tr>\n",
       "      <th>3</th>\n",
       "      <td>1949</td>\n",
       "      <td>Apr</td>\n",
       "      <td>129</td>\n",
       "    </tr>\n",
       "    <tr>\n",
       "      <th>4</th>\n",
       "      <td>1949</td>\n",
       "      <td>May</td>\n",
       "      <td>121</td>\n",
       "    </tr>\n",
       "  </tbody>\n",
       "</table>\n",
       "</div>"
      ],
      "text/plain": [
       "   year month  passengers\n",
       "0  1949   Jan         112\n",
       "1  1949   Feb         118\n",
       "2  1949   Mar         132\n",
       "3  1949   Apr         129\n",
       "4  1949   May         121"
      ]
     },
     "execution_count": 56,
     "metadata": {},
     "output_type": "execute_result"
    }
   ],
   "source": [
    "df.head()"
   ]
  },
  {
   "cell_type": "code",
   "execution_count": 57,
   "id": "10657f86-5e56-49d4-91c7-7eea369d8944",
   "metadata": {},
   "outputs": [
    {
     "data": {
      "text/plain": [
       "280.2986111111111"
      ]
     },
     "execution_count": 57,
     "metadata": {},
     "output_type": "execute_result"
    }
   ],
   "source": [
    "df['passengers'].mean()"
   ]
  },
  {
   "cell_type": "markdown",
   "id": "23b57baa-6afe-44e3-a2fb-f362ec002904",
   "metadata": {},
   "source": [
    "# Q12. For a normal distribution data what is the relationship between its measure of central tendency?"
   ]
  },
  {
   "cell_type": "code",
   "execution_count": 58,
   "id": "8edbb051-e002-41f8-bddb-de4ed9b5dbbb",
   "metadata": {},
   "outputs": [
    {
     "data": {
      "text/plain": [
       "'\\nNormal distribution is a bell shaped curve and which is measure the mean,median and mode.\\n'"
      ]
     },
     "execution_count": 58,
     "metadata": {},
     "output_type": "execute_result"
    }
   ],
   "source": [
    "'''\n",
    "Normal distribution is a bell shaped curve and which is measure the mean,median and mode.\n",
    "'''"
   ]
  },
  {
   "cell_type": "code",
   "execution_count": null,
   "id": "48e41fd6-4753-4495-b547-6d521901e763",
   "metadata": {},
   "outputs": [],
   "source": []
  },
  {
   "cell_type": "markdown",
   "id": "7e6bb027-04d9-4001-87f7-a312ef73d222",
   "metadata": {},
   "source": [
    "# Q13. How is covariance different from correlation?"
   ]
  },
  {
   "cell_type": "code",
   "execution_count": 60,
   "id": "18e728cd-09a5-45bf-b0a5-eddc416c0e3d",
   "metadata": {},
   "outputs": [
    {
     "data": {
      "text/plain": [
       "'\\nCovarience is use to find the spread of the data,it tells direction of the relationship not strength.\\nCorrelation is use find how closely two variables are related to each other and it tells both direction and strength.\\n'"
      ]
     },
     "execution_count": 60,
     "metadata": {},
     "output_type": "execute_result"
    }
   ],
   "source": [
    "'''\n",
    "Covarience is use to find the spread of the data,it tells direction of the relationship not strength.\n",
    "Correlation is use find how closely two variables are related to each other and it tells both direction and strength.\n",
    "'''"
   ]
  },
  {
   "cell_type": "code",
   "execution_count": null,
   "id": "86c74f24-a96f-46ac-b036-3c44a170caa9",
   "metadata": {},
   "outputs": [],
   "source": []
  },
  {
   "cell_type": "markdown",
   "id": "9f4097f6-2a04-40e7-91e9-22988ae7f5ac",
   "metadata": {},
   "source": [
    "# Q14. How do outliers affect measures of central tendency and dispersion? Provide an example."
   ]
  },
  {
   "cell_type": "code",
   "execution_count": 61,
   "id": "2ec39837-bae1-4151-9a5e-18d72e6b1f34",
   "metadata": {},
   "outputs": [
    {
     "data": {
      "text/plain": [
       "'\\nOutliers affect the measure of central tendency:-\\n\\nMean:- If an outlier is present when measuring the average of a dataset then it shows huge difference between mean without outlier \\n       and mean with outlier.\\n    \\nMedian:- Median is not affected by outlier when we calculating median of data with outlier because median shows the middle value which \\n         cannot be affected by outlier.\\n    \\nMode:- Mode is not affected by outlier because mode measure the frequency of the dataset.\\n\\n'"
      ]
     },
     "execution_count": 61,
     "metadata": {},
     "output_type": "execute_result"
    }
   ],
   "source": [
    "'''\n",
    "Outliers affect the measure of central tendency:-\n",
    "\n",
    "Mean:- If an outlier is present when measuring the average of a dataset then it shows huge difference between mean without outlier \n",
    "       and mean with outlier.\n",
    "    \n",
    "Median:- Median is not affected by outlier when we calculating median of data with outlier because median shows the middle value which \n",
    "         cannot be affected by outlier.\n",
    "    \n",
    "Mode:- Mode is not affected by outlier because mode measure the frequency of the dataset.\n",
    "\n",
    "'''"
   ]
  },
  {
   "cell_type": "code",
   "execution_count": 65,
   "id": "f2578286-fa82-455c-bae0-784332fd0759",
   "metadata": {},
   "outputs": [],
   "source": [
    "ankit = [1,2,3,4,5,6,7,8,9]         # without outlier\n",
    "\n",
    "ram = [1,2,3,4,5,6,7,8,9,100]       # with outlier"
   ]
  },
  {
   "cell_type": "code",
   "execution_count": 68,
   "id": "310ed4b9-fbae-4c49-aeb2-3b2b7230d8d9",
   "metadata": {},
   "outputs": [
    {
     "data": {
      "text/plain": [
       "5.0"
      ]
     },
     "execution_count": 68,
     "metadata": {},
     "output_type": "execute_result"
    }
   ],
   "source": [
    "np.mean(ankit) "
   ]
  },
  {
   "cell_type": "code",
   "execution_count": null,
   "id": "439941ab-391c-408d-b05a-3c5ae9e1cc67",
   "metadata": {},
   "outputs": [],
   "source": [
    "p"
   ]
  },
  {
   "cell_type": "code",
   "execution_count": null,
   "id": "ce372fbc-015c-4e1f-becc-10af7277016f",
   "metadata": {},
   "outputs": [],
   "source": []
  },
  {
   "cell_type": "code",
   "execution_count": null,
   "id": "813b359f-58b3-4209-9682-e6cfc8d403e7",
   "metadata": {},
   "outputs": [],
   "source": []
  },
  {
   "cell_type": "code",
   "execution_count": null,
   "id": "55b290ef-e7b7-4d86-a952-e2619334f15a",
   "metadata": {},
   "outputs": [],
   "source": []
  }
 ],
 "metadata": {
  "kernelspec": {
   "display_name": "Python 3 (ipykernel)",
   "language": "python",
   "name": "python3"
  },
  "language_info": {
   "codemirror_mode": {
    "name": "ipython",
    "version": 3
   },
   "file_extension": ".py",
   "mimetype": "text/x-python",
   "name": "python",
   "nbconvert_exporter": "python",
   "pygments_lexer": "ipython3",
   "version": "3.10.8"
  }
 },
 "nbformat": 4,
 "nbformat_minor": 5
}
