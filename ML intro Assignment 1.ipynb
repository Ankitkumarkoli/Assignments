{
 "cells": [
  {
   "cell_type": "markdown",
   "id": "c283cc88-e77d-4ab8-bb44-9e2644ed1c52",
   "metadata": {},
   "source": [
    "\n",
    "# Q1- Explain the following with an example:\n",
    "# 1) Artificial Intelligence\n",
    "# 2) Machine Learning\n",
    "# 3) Deep Learning"
   ]
  },
  {
   "cell_type": "markdown",
   "id": "28c0acf0-0e12-46d9-981a-6ea35359e563",
   "metadata": {},
   "source": [
    "'''\n",
    "Artificial Intelligence:- Artificial Intelligence is use to perform a task without human interference and the ability of machine who can work more smarter than human intelligence.\n",
    "Examples:- Learning new things,Calulator,Face recognition system,pattern recognition system....etc\n",
    "\n",
    "Machine Learning:- Machine learning is a subset of Artificial intelligence,which is use to train the dataset by Data and make models for\n",
    "better predictons and make a specific prediction from a data.\n",
    "Examples:- Classification,Regression,Prediction,Image Processing,Medical Diagnosis....etc\n",
    "\n",
    "Deep Learning:- Deep learning is a subset for machine learning and its uses neural networks with multiple layers to learn from data and make prediction.\n",
    "Example:- Virtual assistent, Self driving cars have sensors,Fraud detection .....etc\n",
    "'''"
   ]
  },
  {
   "cell_type": "markdown",
   "id": "bf1d80c8-0fdb-4c63-94b1-6c664c00ff95",
   "metadata": {},
   "source": [
    "# Q2- What is Supervised learning? List some examples of supervised learning."
   ]
  },
  {
   "cell_type": "markdown",
   "id": "42f22cf9-a4f4-43ab-b7e7-3506a53350a4",
   "metadata": {},
   "source": [
    "\"\"\"\n",
    "Supervised Learning:- Supervised learning is a machine learning technique which is used when input and output feature are known.supervised learning generally are of two types \n",
    "1) Classification\n",
    "2) Regression\n",
    "\n",
    "Examples:- Spam detection, Price prediction...etc\n",
    "\"\"\""
   ]
  },
  {
   "cell_type": "markdown",
   "id": "ace19979-1ecb-4e56-ac37-d3b8776eefb5",
   "metadata": {},
   "source": [
    "# Q3- What is unsupervised learning? List some examples of unsupervised learning."
   ]
  },
  {
   "cell_type": "markdown",
   "id": "3464b081-c122-4300-bd63-dd7d5566a27b",
   "metadata": {},
   "source": [
    "\"\"\"\n",
    "Unsupervised learning:- Unsupervised learning is a machine learning techinique which is used when input and output feature are unknown and\n",
    "forms cluster from the dataset for better prediction.\n",
    "\n",
    "examples :- Personalized recommendation, customer segmentation....etc\n",
    "\"\"\""
   ]
  },
  {
   "cell_type": "code",
   "execution_count": null,
   "id": "cc872e95-9548-4c54-9854-e3effc5c6891",
   "metadata": {},
   "outputs": [],
   "source": []
  },
  {
   "cell_type": "markdown",
   "id": "862517dd-a28c-498d-be1e-b82baed18e73",
   "metadata": {},
   "source": [
    "# Q4- What is the difference between AI, ML, DL, and DS?"
   ]
  },
  {
   "cell_type": "markdown",
   "id": "3821a6cf-72a9-4f5f-8fe0-86b688115c77",
   "metadata": {},
   "source": [
    "'''Artificial intelligence is the entire entity of data science\n",
    "Machie learning :- Machine learning is the subset of artificial intelligence\n",
    "Deep learning :- Deep learning is the subset of machine learning\n",
    "Data Science:- Data science is the mixer of artificial intelligence,machine learning,deep learning.'''"
   ]
  },
  {
   "cell_type": "code",
   "execution_count": null,
   "id": "180b04e6-00f5-45aa-b454-550ac5928ae8",
   "metadata": {},
   "outputs": [],
   "source": []
  },
  {
   "cell_type": "markdown",
   "id": "c7ebbb91-4e35-4d7e-b16a-630ad2e53c0f",
   "metadata": {},
   "source": [
    "# Q5- What are the main difference between supervised, unsupervised, and semi-supervised learning?"
   ]
  },
  {
   "cell_type": "markdown",
   "id": "a8a4d9fa-00f9-4de9-add9-b10ca68f7720",
   "metadata": {},
   "source": [
    "'''\n",
    "Supervised learning:- Supervised learning is the techinique of machine learning when input and output feature are known.\n",
    "                      it is generally two types \n",
    "                      1) Classification\n",
    "                      2) Regression\n",
    "                      \n",
    "Unsupervised learning:- Unsupervised learning is the machine learning technique used when input and output feature are unknown\n",
    "                        and makes a cluster from the dataset for better prediction.\n",
    "                        \n",
    "Semi-supervised learning:- It is a combination of supervised and unsupervised learning.\n",
    "\n",
    "'''"
   ]
  },
  {
   "cell_type": "code",
   "execution_count": null,
   "id": "cb6b0dda-0cf0-40c1-bf97-0b677626abdd",
   "metadata": {},
   "outputs": [],
   "source": []
  },
  {
   "cell_type": "markdown",
   "id": "e0454fa9-e425-4ecf-8a33-94100a973674",
   "metadata": {},
   "source": [
    "# Q6- What is train, test and validation split? Explain the importance of each term."
   ]
  },
  {
   "cell_type": "markdown",
   "id": "a0b47a02-05c7-43bb-87a3-c9d90d8fe8b7",
   "metadata": {},
   "source": [
    "'''\n",
    "Train dataset :- Train dataset is used to train the machine learning models by using train dataset for better predictions.\n",
    "Validation dataset:- Test dataset is used when their is any chance of enhancing the accuracy from the machine learning models.\n",
    "Test Dataset :- Test dataset is a unknown and hidden data which is used for testing the models. \n",
    "'''"
   ]
  },
  {
   "cell_type": "code",
   "execution_count": null,
   "id": "a097bced-7b16-4d11-bc28-8cd4c31d2aa7",
   "metadata": {},
   "outputs": [],
   "source": []
  },
  {
   "cell_type": "markdown",
   "id": "23df18c7-1cf6-4198-a71d-681dbdf43b1a",
   "metadata": {},
   "source": [
    "# Q7- How can unsupervised learning be used in anomaly detection?"
   ]
  },
  {
   "cell_type": "markdown",
   "id": "4426eb35-d578-480b-8ad0-c960670010dc",
   "metadata": {},
   "source": [
    "'''\n",
    "Unsupervised learning used in anomaly detection by clustering the data for better performance for model.\n",
    "'''"
   ]
  },
  {
   "cell_type": "code",
   "execution_count": null,
   "id": "c215fa30-dde9-42e0-918a-d301c63daece",
   "metadata": {},
   "outputs": [],
   "source": []
  },
  {
   "cell_type": "markdown",
   "id": "2dd23e48-5057-47bd-8294-c6b8e5c12e00",
   "metadata": {},
   "source": [
    "# Q8- List down some commonly used supervised learning algorithms and unsupervised learning algorithms."
   ]
  },
  {
   "cell_type": "code",
   "execution_count": null,
   "id": "413a174d-34f6-4511-9558-fe3002f3e275",
   "metadata": {},
   "outputs": [],
   "source": [
    "Supervised learning algorithms are linear regression,logistic regression,classification,Decision tree, support vector machine(SVM),K-nearest neighbour(KNN)..etc.\n",
    "\n",
    "Unsupervised learning algorithm are Clus\n"
   ]
  },
  {
   "cell_type": "code",
   "execution_count": null,
   "id": "64ef31d5-af78-4ce3-b82b-7a7594f69091",
   "metadata": {},
   "outputs": [],
   "source": []
  },
  {
   "cell_type": "code",
   "execution_count": null,
   "id": "91afe8eb-806b-4a16-a623-6b8d0b78ef11",
   "metadata": {},
   "outputs": [],
   "source": []
  },
  {
   "cell_type": "code",
   "execution_count": null,
   "id": "73317361-fce3-4809-a488-8b3e0c45988e",
   "metadata": {},
   "outputs": [],
   "source": []
  }
 ],
 "metadata": {
  "kernelspec": {
   "display_name": "Python 3 (ipykernel)",
   "language": "python",
   "name": "python3"
  },
  "language_info": {
   "codemirror_mode": {
    "name": "ipython",
    "version": 3
   },
   "file_extension": ".py",
   "mimetype": "text/x-python",
   "name": "python",
   "nbconvert_exporter": "python",
   "pygments_lexer": "ipython3",
   "version": "3.10.8"
  }
 },
 "nbformat": 4,
 "nbformat_minor": 5
}
