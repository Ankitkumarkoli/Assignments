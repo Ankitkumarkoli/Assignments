{
 "cells": [
  {
   "cell_type": "markdown",
   "id": "0273f056-c99b-4027-9397-9efdf4dd1c32",
   "metadata": {},
   "source": [
    "# Q1. What is Web Scraping? Why is it Used? Give three areas where Web Scraping is used to get data."
   ]
  },
  {
   "cell_type": "code",
   "execution_count": 1,
   "id": "ed1992b3-24f9-411a-82a4-1b350f7973d7",
   "metadata": {},
   "outputs": [
    {
     "data": {
      "text/plain": [
       "'\\nWebscrapping is a method to fetching large amount of data from websites.\\nIt is used to extract data faster,industries insight and statistics.\\nThe three areas are:-\\n 1. Websites\\n 2. Search engine \\n 3. social media\\n\\n'"
      ]
     },
     "execution_count": 1,
     "metadata": {},
     "output_type": "execute_result"
    }
   ],
   "source": [
    "'''\n",
    "Webscrapping is a method to fetching large amount of data from websites.\n",
    "It is used to extract data faster,industries insight and statistics.\n",
    "The three areas are:-\n",
    " 1. Websites\n",
    " 2. Search engine \n",
    " 3. social media\n",
    "\n",
    "'''"
   ]
  },
  {
   "cell_type": "markdown",
   "id": "ead0b0fc-77c8-43a2-a01f-4377f5e09029",
   "metadata": {},
   "source": [
    "# Q2. What are the different methods used for Web Scraping?"
   ]
  },
  {
   "cell_type": "code",
   "execution_count": 2,
   "id": "0f472c8e-8a4b-4a9b-83d7-3a96974a487c",
   "metadata": {},
   "outputs": [
    {
     "data": {
      "text/plain": [
       "'\\n\\n1) Extracting data from HTML parser\\n2) Scraping data by interecting with components from other websites\\n3) DOM parsing\\n4) Vertical Aggregation\\n\\n'"
      ]
     },
     "execution_count": 2,
     "metadata": {},
     "output_type": "execute_result"
    }
   ],
   "source": [
    "'''\n",
    "\n",
    "1) Extracting data from HTML parser\n",
    "2) Scraping data by interecting with components from other websites\n",
    "3) DOM parsing\n",
    "4) Vertical Aggregation\n",
    "\n",
    "'''"
   ]
  },
  {
   "cell_type": "markdown",
   "id": "b5a34f0f-cca7-4957-aa08-63bbc0f4ca9c",
   "metadata": {},
   "source": [
    "# Q3. What is Beautiful Soup? Why is it used?"
   ]
  },
  {
   "cell_type": "code",
   "execution_count": 3,
   "id": "651d2cda-459f-474d-bfb1-5be5982240a4",
   "metadata": {},
   "outputs": [
    {
     "data": {
      "text/plain": [
       "'\\nBeautiful soap is a python library which is used to structered the unstructured document in a readable format.\\n\\n'"
      ]
     },
     "execution_count": 3,
     "metadata": {},
     "output_type": "execute_result"
    }
   ],
   "source": [
    "'''\n",
    "Beautiful soap is a python library which is used to structered the unstructured document in a readable format.\n",
    "\n",
    "'''"
   ]
  },
  {
   "cell_type": "markdown",
   "id": "4a75b6c8-d00e-4b5b-908a-023d14f5051c",
   "metadata": {},
   "source": [
    "# Q4. Why is flask used in this Web Scraping project?"
   ]
  },
  {
   "cell_type": "code",
   "execution_count": 4,
   "id": "9e34ca9a-adc0-4a94-be31-2f7f1e5c2d03",
   "metadata": {},
   "outputs": [
    {
     "data": {
      "text/plain": [
       "'\\nFlask is a lightweight framework to communicate with the different platforms like mongodb,AWS..etc \\n\\n'"
      ]
     },
     "execution_count": 4,
     "metadata": {},
     "output_type": "execute_result"
    }
   ],
   "source": [
    "'''\n",
    "Flask is a lightweight framework to communicate with the different platforms like mongodb,AWS..etc \n",
    "\n",
    "'''"
   ]
  },
  {
   "cell_type": "markdown",
   "id": "3ada6c65-bb1c-4d0b-92b6-7b5f98cad3ed",
   "metadata": {},
   "source": [
    "# Q5. Write the names of AWS services used in this project. Also, explain the use of each service."
   ]
  },
  {
   "cell_type": "code",
   "execution_count": 5,
   "id": "433ab03a-674d-4ab0-b370-3f70951e350b",
   "metadata": {},
   "outputs": [
    {
     "data": {
      "text/plain": [
       "\"\\nThe names of AWS services used in this projects are 'Code pipeline' and 'Elastic Beanstack'.\\nCodepipeline is a integral service which is used in between Github and Beanstack.\\nBeanstack is that of service which is used for deploying web applications.\\n\\n\""
      ]
     },
     "execution_count": 5,
     "metadata": {},
     "output_type": "execute_result"
    }
   ],
   "source": [
    "'''\n",
    "The names of AWS services used in this projects are 'Code pipeline' and 'Elastic Beanstack'.\n",
    "Codepipeline is a integral service which is used in between Github and Beanstack.\n",
    "Beanstack is that of service which is used for deploying web applications.\n",
    "\n",
    "'''"
   ]
  },
  {
   "cell_type": "code",
   "execution_count": null,
   "id": "59a6a639-5ea5-481c-bd37-ba406bbfc708",
   "metadata": {},
   "outputs": [],
   "source": []
  }
 ],
 "metadata": {
  "kernelspec": {
   "display_name": "Python 3 (ipykernel)",
   "language": "python",
   "name": "python3"
  },
  "language_info": {
   "codemirror_mode": {
    "name": "ipython",
    "version": 3
   },
   "file_extension": ".py",
   "mimetype": "text/x-python",
   "name": "python",
   "nbconvert_exporter": "python",
   "pygments_lexer": "ipython3",
   "version": "3.10.8"
  }
 },
 "nbformat": 4,
 "nbformat_minor": 5
}
