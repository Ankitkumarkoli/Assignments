{
 "cells": [
  {
   "cell_type": "markdown",
   "id": "2962255d-090f-46d5-8660-b829f74f39c1",
   "metadata": {},
   "source": [
    "# Q1. What is Flask Framework? What are the advantages of Flask Framework?"
   ]
  },
  {
   "cell_type": "code",
   "execution_count": 12,
   "id": "012c98c6-c326-4d87-b169-c394eeeb29ad",
   "metadata": {},
   "outputs": [
    {
     "data": {
      "text/plain": [
       "'Flask is micro-framework which has very little dependency on external libraries. \\n   It is a very light framework and gives us freedom to do whatever we want.\\n   \\n   Advantages of Flask Framework:-\\n       - Routing URL in flask is very easy to implement.\\n       - Data integration is very simple and easy using flask.\\n       - Flexible\\n       - Easier deployment and development.\\n       - Fast debugging\\n   \\n   '"
      ]
     },
     "execution_count": 12,
     "metadata": {},
     "output_type": "execute_result"
    }
   ],
   "source": [
    "'''Flask is micro-framework which has very little dependency on external libraries. \n",
    "   It is a very light framework and gives us freedom to do whatever we want.\n",
    "   \n",
    "   Advantages of Flask Framework:-\n",
    "       - Routing URL in flask is very easy to implement.\n",
    "       - Data integration is very simple and easy using flask.\n",
    "       - Flexible\n",
    "       - Easier deployment and development.\n",
    "       - Fast debugging\n",
    "   \n",
    "   '''"
   ]
  },
  {
   "cell_type": "code",
   "execution_count": null,
   "id": "bf068017-acdf-42f4-93f5-29ba7177ec0e",
   "metadata": {},
   "outputs": [],
   "source": []
  },
  {
   "cell_type": "markdown",
   "id": "ae0ea460-621a-41e1-a0fb-454aa704db7a",
   "metadata": {},
   "source": [
    "# Q2. Create a simple Flask application to display ‘Hello World!!’. Attach the screenshot of the output in Jupyter Notebook."
   ]
  },
  {
   "cell_type": "code",
   "execution_count": 13,
   "id": "8a1056c3-d81e-4c9d-9945-ca0712394179",
   "metadata": {},
   "outputs": [
    {
     "data": {
      "text/plain": [
       "'\\nfrom flask import Flask\\n\\napp = Flask(__name__)\\n\\n@app.route(\"/ankit\")\\ndef namaste_duniya():\\n    return \"<h1>Hello World!!</h1>\"\\n\\nif __name__==\"__main__\":\\n    app.run(host=\"0.0.0.0\")\\n'"
      ]
     },
     "execution_count": 13,
     "metadata": {},
     "output_type": "execute_result"
    }
   ],
   "source": [
    "'''\n",
    "from flask import Flask\n",
    "\n",
    "app = Flask(__name__)\n",
    "\n",
    "@app.route(\"/ankit\")\n",
    "def namaste_duniya():\n",
    "    return \"<h1>Hello World!!</h1>\"\n",
    "\n",
    "if __name__==\"__main__\":\n",
    "    app.run(host=\"0.0.0.0\")\n",
    "'''"
   ]
  },
  {
   "attachments": {
    "d39930eb-a355-4d8b-b6be-7efb0c171ba3.jpg": {
     "image/jpeg": "[encoded data removed]"
    }
   },
   "cell_type": "markdown",
   "id": "ea2ce3aa-ee13-4f71-b488-329b98529b53",
   "metadata": {},
   "source": [
    "![HW_screenshot.jpg](attachment:d39930eb-a355-4d8b-b6be-7efb0c171ba3.jpg)"
   ]
  },
  {
   "cell_type": "code",
   "execution_count": null,
   "id": "545967f7-fe00-4ebc-b2c6-bd7f40500f8a",
   "metadata": {},
   "outputs": [],
   "source": []
  },
  {
   "cell_type": "markdown",
   "id": "41f67a0e-b05b-49f0-b0c8-606c02f70e9f",
   "metadata": {},
   "source": [
    "# Q3. What is App routing in Flask? Why do we use app routes?"
   ]
  },
  {
   "cell_type": "code",
   "execution_count": 14,
   "id": "0aeee007-8b8b-41b5-916c-70abf19e7868",
   "metadata": {},
   "outputs": [
    {
     "data": {
      "text/plain": [
       "'\\nApp routing is mapping the URL to a specific function that will handle the logic for that URL.\\n\\nTo define how user navigate from one part of your application to another.\\n'"
      ]
     },
     "execution_count": 14,
     "metadata": {},
     "output_type": "execute_result"
    }
   ],
   "source": [
    "'''\n",
    "App routing is mapping the URL to a specific function that will handle the logic for that URL.\n",
    "\n",
    "To define how user navigate from one part of your application to another.\n",
    "'''"
   ]
  },
  {
   "cell_type": "code",
   "execution_count": null,
   "id": "fd735d47-d343-49b2-94e1-163abc8b660f",
   "metadata": {},
   "outputs": [],
   "source": []
  },
  {
   "cell_type": "markdown",
   "id": "e5bf8381-6e1f-4d92-912b-5713fb73a5f0",
   "metadata": {},
   "source": [
    "# Q4. Create a “/welcome” route to display the welcome message “Welcome to ABC Corporation” and a “/”\n",
    "#      route to show the following details:\n",
    "#         Company Name: ABC Corporation\n",
    "#         Location: India\n",
    "#         Contact Detail: 999-999-9999"
   ]
  },
  {
   "cell_type": "code",
   "execution_count": 15,
   "id": "688fbe8c-5234-4032-8f66-d3c074d7791b",
   "metadata": {},
   "outputs": [
    {
     "data": {
      "text/plain": [
       "'\\n\\nfrom flask import Flask\\n\\napp = Flask(__name__)\\n\\n@app.route(\"/welcome\")\\ndef welcome_duniya():\\n    return \"Welcome to ABC Corporation\"\\n@app.route(\"/\")\\ndef ankit():\\n    return (\"Company name : ABC \\n, Location : India \\n, Contact Details : 999-999-9999\")\\n\\nif __name__==\"__main__\":\\n    app.run(host=\"0.0.0.0\")\\n    \\n'"
      ]
     },
     "execution_count": 15,
     "metadata": {},
     "output_type": "execute_result"
    }
   ],
   "source": [
    "'''\n",
    "\n",
    "from flask import Flask\n",
    "\n",
    "app = Flask(__name__)\n",
    "\n",
    "@app.route(\"/welcome\")\n",
    "def welcome_duniya():\n",
    "    return \"Welcome to ABC Corporation\"\n",
    "@app.route(\"/\")\n",
    "def ankit():\n",
    "    return (\"Company name : ABC \\n, Location : India \\n, Contact Details : 999-999-9999\")\n",
    "\n",
    "if __name__==\"__main__\":\n",
    "    app.run(host=\"0.0.0.0\")\n",
    "    \n",
    "'''"
   ]
  },
  {
   "attachments": {
    "9f791fce-8cb8-45b3-b5f7-b6d768c82f43.png": {
     "image/png": "[encoded data removed]"
    }
   },
   "cell_type": "markdown",
   "id": "bb64dfef-09f3-46ca-bd59-639b9f7ec4df",
   "metadata": {},
   "source": [
    "![ABC.png](attachment:9f791fce-8cb8-45b3-b5f7-b6d768c82f43.png)"
   ]
  },
  {
   "attachments": {
    "60574a6f-8aba-4333-ab44-7c2f9289fb69.png": {
     "image/png": "[encoded data removed]"
    }
   },
   "cell_type": "markdown",
   "id": "f5ad7721-0a7c-4b5c-b19f-dbf4aad65778",
   "metadata": {},
   "source": [
    "![company.png](attachment:60574a6f-8aba-4333-ab44-7c2f9289fb69.png)"
   ]
  },
  {
   "cell_type": "code",
   "execution_count": null,
   "id": "44cea294-27fa-4448-8655-bddc4eb1f273",
   "metadata": {},
   "outputs": [],
   "source": []
  },
  {
   "cell_type": "markdown",
   "id": "d05443b1-8d49-4b7b-ac1b-45a3d562550d",
   "metadata": {},
   "source": [
    "# Q5. What function is used in Flask for URL Building? Write a Python code to demonstrate the working of the url_for() function."
   ]
  },
  {
   "cell_type": "code",
   "execution_count": 16,
   "id": "dec4f70b-113c-4b9e-a44e-2d719ed451cf",
   "metadata": {},
   "outputs": [
    {
     "data": {
      "text/plain": [
       "\"\\nfrom flask import Flask , url_for\\n\\napp = Flask(__name__)\\n\\n@app.route('/ankit')\\ndef welcome_home():\\n   return 'Wahh bete moj krdi'\\n\\nwith app.test_request_context():\\n    print(url_for('login'))\\n    \\n\""
      ]
     },
     "execution_count": 16,
     "metadata": {},
     "output_type": "execute_result"
    }
   ],
   "source": [
    "# URL_for() function is used in flask for URL building.\n",
    "\n",
    "\n",
    "'''\n",
    "from flask import Flask , url_for\n",
    "\n",
    "app = Flask(__name__)\n",
    "\n",
    "@app.route('/ankit')\n",
    "def welcome_home():\n",
    "   return 'Wahh bete moj krdi'\n",
    "\n",
    "with app.test_request_context():\n",
    "    print(url_for('login'))\n",
    "    \n",
    "'''"
   ]
  },
  {
   "cell_type": "code",
   "execution_count": null,
   "id": "80a5d878-f771-4e2e-aff7-f002e1642cb9",
   "metadata": {},
   "outputs": [],
   "source": []
  },
  {
   "cell_type": "code",
   "execution_count": null,
   "id": "afe2bc8b-04be-4526-96c3-1bf00340a2ac",
   "metadata": {},
   "outputs": [],
   "source": []
  }
 ],
 "metadata": {
  "kernelspec": {
   "display_name": "Python 3 (ipykernel)",
   "language": "python",
   "name": "python3"
  },
  "language_info": {
   "codemirror_mode": {
    "name": "ipython",
    "version": 3
   },
   "file_extension": ".py",
   "mimetype": "text/x-python",
   "name": "python",
   "nbconvert_exporter": "python",
   "pygments_lexer": "ipython3",
   "version": "3.10.8"
  }
 },
 "nbformat": 4,
 "nbformat_minor": 5
}
