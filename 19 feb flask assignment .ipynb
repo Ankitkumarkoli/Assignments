{
 "cells": [
  {
   "cell_type": "markdown",
   "id": "2962255d-090f-46d5-8660-b829f74f39c1",
   "metadata": {},
   "source": [
    "# Q1. What is Flask Framework? What are the advantages of Flask Framework?"
   ]
  },
  {
   "cell_type": "code",
   "execution_count": 3,
   "id": "012c98c6-c326-4d87-b169-c394eeeb29ad",
   "metadata": {},
   "outputs": [
    {
     "data": {
      "text/plain": [
       "'Flask is micro-framework which has very little dependency on external libraries. \\n   It is a very light framework and gives us freedom to do whatever we want.\\n   \\n   Advantages of Flask Framework:-\\n       - Routing URL in flask is very easy to implement.\\n       - Data integration is very simple and easy using flask.\\n       - Flexible\\n       - Easier deployment and development.\\n       - Fast debugging\\n   \\n   '"
      ]
     },
     "execution_count": 3,
     "metadata": {},
     "output_type": "execute_result"
    }
   ],
   "source": [
    "'''Flask is micro-framework which has very little dependency on external libraries. \n",
    "   It is a very light framework and gives us freedom to do whatever we want.\n",
    "   \n",
    "   Advantages of Flask Framework:-\n",
    "       - Routing URL in flask is very easy to implement.\n",
    "       - Data integration is very simple and easy using flask.\n",
    "       - Flexible\n",
    "       - Easier deployment and development.\n",
    "       - Fast debugging\n",
    "   \n",
    "   '''"
   ]
  },
  {
   "cell_type": "code",
   "execution_count": null,
   "id": "bf068017-acdf-42f4-93f5-29ba7177ec0e",
   "metadata": {},
   "outputs": [],
   "source": []
  },
  {
   "cell_type": "markdown",
   "id": "ae0ea460-621a-41e1-a0fb-454aa704db7a",
   "metadata": {},
   "source": [
    "# Q2. Create a simple Flask application to display ‘Hello World!!’. Attach the screenshot of the output in Jupyter Notebook."
   ]
  },
  {
   "cell_type": "code",
   "execution_count": 5,
   "id": "8a1056c3-d81e-4c9d-9945-ca0712394179",
   "metadata": {},
   "outputs": [
    {
     "data": {
      "text/plain": [
       "'\\nfrom flask import Flask\\n\\napp = Flask(__name__)\\n\\n@app.route(\"/ankit\")\\ndef namaste_duniya():\\n    return \"<h1>Hello World!!</h1>\"\\n\\nif __name__==\"__main__\":\\n    app.run(host=\"0.0.0.0\")\\n'"
      ]
     },
     "execution_count": 5,
     "metadata": {},
     "output_type": "execute_result"
    }
   ],
   "source": [
    "'''\n",
    "from flask import Flask\n",
    "\n",
    "app = Flask(__name__)\n",
    "\n",
    "@app.route(\"/ankit\")\n",
    "def namaste_duniya():\n",
    "    return \"<h1>Hello World!!</h1>\"\n",
    "\n",
    "if __name__==\"__main__\":\n",
    "    app.run(host=\"0.0.0.0\")\n",
    "'''"
   ]
  },
  {
   "cell_type": "markdown",
   "id": "7a0a8af1-132c-4acc-baa1-746854332206",
   "metadata": {},
   "source": [
    "<img src=\"HW_screenshot\">"
   ]
  },
  {
   "cell_type": "code",
   "execution_count": null,
   "id": "68767a73-6a71-4741-b1e8-60f31f65bd7a",
   "metadata": {},
   "outputs": [],
   "source": []
  },
  {
   "cell_type": "markdown",
   "id": "41f67a0e-b05b-49f0-b0c8-606c02f70e9f",
   "metadata": {},
   "source": [
    "# Q3. What is App routing in Flask? Why do we use app routes?"
   ]
  },
  {
   "cell_type": "code",
   "execution_count": 6,
   "id": "0aeee007-8b8b-41b5-916c-70abf19e7868",
   "metadata": {},
   "outputs": [
    {
     "data": {
      "text/plain": [
       "'\\nApp routing is mapping the URL to a specific function that will handle the logic for that URL.\\n\\nTo define how user navigate from one part of your application to another.\\n'"
      ]
     },
     "execution_count": 6,
     "metadata": {},
     "output_type": "execute_result"
    }
   ],
   "source": [
    "'''\n",
    "App routing is mapping the URL to a specific function that will handle the logic for that URL.\n",
    "\n",
    "To define how user navigate from one part of your application to another.\n",
    "'''"
   ]
  },
  {
   "cell_type": "code",
   "execution_count": null,
   "id": "fd735d47-d343-49b2-94e1-163abc8b660f",
   "metadata": {},
   "outputs": [],
   "source": []
  },
  {
   "cell_type": "markdown",
   "id": "e5bf8381-6e1f-4d92-912b-5713fb73a5f0",
   "metadata": {},
   "source": [
    "# Q4. Create a “/welcome” route to display the welcome message “Welcome to ABC Corporation” and a “/”\n",
    "#      route to show the following details:\n",
    "#         Company Name: ABC Corporation\n",
    "#         Location: India\n",
    "#         Contact Detail: 999-999-9999"
   ]
  },
  {
   "cell_type": "code",
   "execution_count": 8,
   "id": "688fbe8c-5234-4032-8f66-d3c074d7791b",
   "metadata": {},
   "outputs": [
    {
     "data": {
      "text/plain": [
       "'\\n\\nfrom flask import Flask\\n\\napp = Flask(__name__)\\n\\n@app.route(\"/welcome\")\\ndef welcome_duniya():\\n    return \"Welcome to ABC Corporation\"\\n@app.route(\"/\")\\ndef ankit():\\n    return (\"Company name : ABC \\n, Location : India \\n, Contact Details : 999-999-9999\")\\n\\nif __name__==\"__main__\":\\n    app.run(host=\"0.0.0.0\")\\n    \\n'"
      ]
     },
     "execution_count": 8,
     "metadata": {},
     "output_type": "execute_result"
    }
   ],
   "source": [
    "'''\n",
    "\n",
    "from flask import Flask\n",
    "\n",
    "app = Flask(__name__)\n",
    "\n",
    "@app.route(\"/welcome\")\n",
    "def welcome_duniya():\n",
    "    return \"Welcome to ABC Corporation\"\n",
    "@app.route(\"/\")\n",
    "def ankit():\n",
    "    return (\"Company name : ABC \\n, Location : India \\n, Contact Details : 999-999-9999\")\n",
    "\n",
    "if __name__==\"__main__\":\n",
    "    app.run(host=\"0.0.0.0\")\n",
    "    \n",
    "'''"
   ]
  },
  {
   "cell_type": "markdown",
   "id": "c8cef169-1f1c-4b24-9ce1-aeddf7fddc47",
   "metadata": {},
   "source": [
    "<img src=\"ABC\">"
   ]
  },
  {
   "cell_type": "markdown",
   "id": "1342abb6-f255-4864-bdf8-fb5c2fd5113e",
   "metadata": {},
   "source": [
    "<img src=\"company\">"
   ]
  },
  {
   "cell_type": "code",
   "execution_count": null,
   "id": "7b7bc019-d515-4624-a9b4-7546feed5d10",
   "metadata": {},
   "outputs": [],
   "source": []
  },
  {
   "cell_type": "markdown",
   "id": "d05443b1-8d49-4b7b-ac1b-45a3d562550d",
   "metadata": {},
   "source": [
    "# Q5. What function is used in Flask for URL Building? Write a Python code to demonstrate the working of the url_for() function."
   ]
  },
  {
   "cell_type": "code",
   "execution_count": null,
   "id": "dec4f70b-113c-4b9e-a44e-2d719ed451cf",
   "metadata": {},
   "outputs": [],
   "source": [
    "# URL_for() function is used in flask for URL building.\n",
    "\n"
   ]
  }
 ],
 "metadata": {
  "kernelspec": {
   "display_name": "Python 3 (ipykernel)",
   "language": "python",
   "name": "python3"
  },
  "language_info": {
   "codemirror_mode": {
    "name": "ipython",
    "version": 3
   },
   "file_extension": ".py",
   "mimetype": "text/x-python",
   "name": "python",
   "nbconvert_exporter": "python",
   "pygments_lexer": "ipython3",
   "version": "3.10.8"
  }
 },
 "nbformat": 4,
 "nbformat_minor": 5
}
