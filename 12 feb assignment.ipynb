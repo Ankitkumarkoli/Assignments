{
 "cells": [
  {
   "cell_type": "markdown",
   "id": "2cad410b-7a91-4173-a3a4-1be3ae667d66",
   "metadata": {},
   "source": [
    "# Q1 - what is an exception in python? write the difference between exceptions and syntax errors. "
   ]
  },
  {
   "cell_type": "code",
   "execution_count": 1,
   "id": "3c5e81d5-0429-476a-8d36-60f128f9376e",
   "metadata": {},
   "outputs": [
    {
     "data": {
      "text/plain": [
       "'Exception is an event which occurs during the execution of a program which disturb the flow of the program.'"
      ]
     },
     "execution_count": 1,
     "metadata": {},
     "output_type": "execute_result"
    }
   ],
   "source": [
    "'''Exception is an event which occurs during the execution of a program which disturb the flow of the program.'''"
   ]
  },
  {
   "cell_type": "code",
   "execution_count": 2,
   "id": "44e2e8e4-4c5f-4df2-a6d0-96c04b805996",
   "metadata": {},
   "outputs": [
    {
     "data": {
      "text/plain": [
       "'  Exception :- Exception is caused by program.\\n          :- Condition is caused by a runtime error in the program.\\n\\nsyntax error :- syntax error is caused by due to system resources.\\n             :- Something that make a program go wrong.  '"
      ]
     },
     "execution_count": 2,
     "metadata": {},
     "output_type": "execute_result"
    }
   ],
   "source": [
    "'''  Exception :- Exception is caused by program.\n",
    "          :- Condition is caused by a runtime error in the program.\n",
    "\n",
    "syntax error :- syntax error is caused by due to system resources.\n",
    "             :- Something that make a program go wrong.  '''"
   ]
  },
  {
   "cell_type": "code",
   "execution_count": null,
   "id": "4d098e3d-e0d3-46d6-b3f1-ced5df5ca938",
   "metadata": {},
   "outputs": [],
   "source": []
  },
  {
   "cell_type": "markdown",
   "id": "637c02f2-4d61-4ce3-9274-08adeeece2fd",
   "metadata": {},
   "source": [
    "# Q2 - what happens when execution is not handled? Explain with an example."
   ]
  },
  {
   "cell_type": "code",
   "execution_count": 11,
   "id": "c7c63710-7020-4ca1-b8de-a1da2cc2f29b",
   "metadata": {},
   "outputs": [
    {
     "data": {
      "text/plain": [
       "'Python has many built-in exceptions which forces your program to output an error when something in it goes wrong.\\nWhen these exceptions occur, it causes the current process to stop and passes it to the calling process until it is handled. \\nIf not handled, our program will crash'"
      ]
     },
     "execution_count": 11,
     "metadata": {},
     "output_type": "execute_result"
    }
   ],
   "source": [
    "\"\"\"Python has many built-in exceptions which forces your program to output an error when something in it goes wrong.\n",
    "When these exceptions occur, it causes the current process to stop and passes it to the calling process until it is handled. \n",
    "If not handled, our program will crash\"\"\""
   ]
  },
  {
   "cell_type": "code",
   "execution_count": 4,
   "id": "f08b4ca6-de87-4406-a069-b3eae821c982",
   "metadata": {},
   "outputs": [
    {
     "name": "stdout",
     "output_type": "stream",
     "text": [
      "file is executed\n"
     ]
    },
    {
     "ename": "FileNotFoundError",
     "evalue": "[Errno 2] No such file or directory: 'test3.txt'",
     "output_type": "error",
     "traceback": [
      "\u001b[0;31m---------------------------------------------------------------------------\u001b[0m",
      "\u001b[0;31mFileNotFoundError\u001b[0m                         Traceback (most recent call last)",
      "Cell \u001b[0;32mIn[4], line 2\u001b[0m\n\u001b[1;32m      1\u001b[0m \u001b[38;5;28;01mtry\u001b[39;00m:\n\u001b[0;32m----> 2\u001b[0m     f \u001b[38;5;241m=\u001b[39m \u001b[38;5;28;43mopen\u001b[39;49m\u001b[43m(\u001b[49m\u001b[38;5;124;43m\"\u001b[39;49m\u001b[38;5;124;43mtest3.txt\u001b[39;49m\u001b[38;5;124;43m\"\u001b[39;49m\u001b[43m,\u001b[49m\u001b[38;5;124;43m\"\u001b[39;49m\u001b[38;5;124;43mr\u001b[39;49m\u001b[38;5;124;43m\"\u001b[39;49m\u001b[43m)\u001b[49m\n\u001b[1;32m      3\u001b[0m     f\u001b[38;5;241m.\u001b[39mwrite(\u001b[38;5;124m\"\u001b[39m\u001b[38;5;124mwrite something\u001b[39m\u001b[38;5;124m\"\u001b[39m)\n\u001b[1;32m      5\u001b[0m \u001b[38;5;28;01mfinally\u001b[39;00m:\n",
      "File \u001b[0;32m/opt/conda/lib/python3.10/site-packages/IPython/core/interactiveshell.py:282\u001b[0m, in \u001b[0;36m_modified_open\u001b[0;34m(file, *args, **kwargs)\u001b[0m\n\u001b[1;32m    275\u001b[0m \u001b[38;5;28;01mif\u001b[39;00m file \u001b[38;5;129;01min\u001b[39;00m {\u001b[38;5;241m0\u001b[39m, \u001b[38;5;241m1\u001b[39m, \u001b[38;5;241m2\u001b[39m}:\n\u001b[1;32m    276\u001b[0m     \u001b[38;5;28;01mraise\u001b[39;00m \u001b[38;5;167;01mValueError\u001b[39;00m(\n\u001b[1;32m    277\u001b[0m         \u001b[38;5;124mf\u001b[39m\u001b[38;5;124m\"\u001b[39m\u001b[38;5;124mIPython won\u001b[39m\u001b[38;5;124m'\u001b[39m\u001b[38;5;124mt let you open fd=\u001b[39m\u001b[38;5;132;01m{\u001b[39;00mfile\u001b[38;5;132;01m}\u001b[39;00m\u001b[38;5;124m by default \u001b[39m\u001b[38;5;124m\"\u001b[39m\n\u001b[1;32m    278\u001b[0m         \u001b[38;5;124m\"\u001b[39m\u001b[38;5;124mas it is likely to crash IPython. If you know what you are doing, \u001b[39m\u001b[38;5;124m\"\u001b[39m\n\u001b[1;32m    279\u001b[0m         \u001b[38;5;124m\"\u001b[39m\u001b[38;5;124myou can use builtins\u001b[39m\u001b[38;5;124m'\u001b[39m\u001b[38;5;124m open.\u001b[39m\u001b[38;5;124m\"\u001b[39m\n\u001b[1;32m    280\u001b[0m     )\n\u001b[0;32m--> 282\u001b[0m \u001b[38;5;28;01mreturn\u001b[39;00m \u001b[43mio_open\u001b[49m\u001b[43m(\u001b[49m\u001b[43mfile\u001b[49m\u001b[43m,\u001b[49m\u001b[43m \u001b[49m\u001b[38;5;241;43m*\u001b[39;49m\u001b[43margs\u001b[49m\u001b[43m,\u001b[49m\u001b[43m \u001b[49m\u001b[38;5;241;43m*\u001b[39;49m\u001b[38;5;241;43m*\u001b[39;49m\u001b[43mkwargs\u001b[49m\u001b[43m)\u001b[49m\n",
      "\u001b[0;31mFileNotFoundError\u001b[0m: [Errno 2] No such file or directory: 'test3.txt'"
     ]
    }
   ],
   "source": [
    "try:\n",
    "    f = open(\"test3.txt\",\"r\")\n",
    "    f.write(\"write something\")\n",
    "    \n",
    "finally:\n",
    "    print(\"file is executed\")"
   ]
  },
  {
   "cell_type": "code",
   "execution_count": null,
   "id": "ff31b6aa-490a-4d39-a6ea-cb1690a4e398",
   "metadata": {},
   "outputs": [],
   "source": []
  },
  {
   "cell_type": "markdown",
   "id": "f6725331-db4d-4b54-aa98-b4e6e5d571fd",
   "metadata": {},
   "source": [
    "# Q3 - which python statement are used to catch and handle exceptions? exxplain with an example. "
   ]
  },
  {
   "cell_type": "code",
   "execution_count": 5,
   "id": "97c2e6fd-c7a6-49f0-a6c2-cfafbe85bc10",
   "metadata": {},
   "outputs": [
    {
     "data": {
      "text/plain": [
       "'There are four statements:-\\n1) try block\\n2) except block\\n3) else block\\n4) finally block '"
      ]
     },
     "execution_count": 5,
     "metadata": {},
     "output_type": "execute_result"
    }
   ],
   "source": [
    "'''There are four statements:-\n",
    "1) try block\n",
    "2) except block\n",
    "3) else block\n",
    "4) finally block '''"
   ]
  },
  {
   "cell_type": "code",
   "execution_count": 6,
   "id": "c57c586a-bbfd-42a0-9d5f-ba492c8c583b",
   "metadata": {},
   "outputs": [
    {
     "name": "stdout",
     "output_type": "stream",
     "text": [
      "this is my exept block [Errno 2] No such file or directory: 'test1.txt'\n",
      "file is executed\n"
     ]
    }
   ],
   "source": [
    "try:                                      \n",
    "    f = open(\"test1.txt\",\"r\")\n",
    "    f.write(\"write into my file\")\n",
    "    \n",
    "except Exception as e :                   \n",
    "    print(\"this is my exept block\", e)\n",
    "    \n",
    "else:\n",
    "    print(\"this will be executed once your try will execute without error\")\n",
    "    \n",
    "finally:\n",
    "    print(\"file is executed\") "
   ]
  },
  {
   "cell_type": "code",
   "execution_count": null,
   "id": "fb409994-d83c-4596-b74c-6597255eca6d",
   "metadata": {},
   "outputs": [],
   "source": []
  },
  {
   "cell_type": "markdown",
   "id": "e8908a5d-f37d-47a2-a562-6e7137a1990a",
   "metadata": {},
   "source": [
    "# Q4 - Explain with an example\n",
    "#      1) try and else\n",
    "#      2) finally\n",
    "#      3) raise"
   ]
  },
  {
   "cell_type": "code",
   "execution_count": 13,
   "id": "ec702ebe-b54a-474a-8e89-932142d98fca",
   "metadata": {},
   "outputs": [
    {
     "data": {
      "text/plain": [
       "'try - try block test the block of code for errors\\n\\n   else - else block execute code when there is no error\\n\\n   finally - finally block always execute regardless of the result of try and except block\\n\\n   raise - raise allow the programmer to force a specified exception to occur'"
      ]
     },
     "execution_count": 13,
     "metadata": {},
     "output_type": "execute_result"
    }
   ],
   "source": [
    "\"\"\"try - try block test the block of code for errors\n",
    "\n",
    "   else - else block execute code when there is no error\n",
    "\n",
    "   finally - finally block always execute regardless of the result of try and except block\n",
    "\n",
    "   raise - raise allow the programmer to force a specified exception to occur\"\"\""
   ]
  },
  {
   "cell_type": "code",
   "execution_count": 9,
   "id": "40fbd70f-e11d-455d-8f7f-56069ddc8071",
   "metadata": {},
   "outputs": [
    {
     "name": "stdout",
     "output_type": "stream",
     "text": [
      "this will be executed once your try will execute without error\n"
     ]
    }
   ],
   "source": [
    "try:                                     \n",
    "    f = open(\"test.txt\",\"w\")\n",
    "    f.write(\"write into my file\")\n",
    "    \n",
    "except Exception as e :                   \n",
    "    print(\"this is my exept block\", e)\n",
    "    \n",
    "else:\n",
    "    f.close()\n",
    "    print(\"this will be executed once your try will execute without error\")"
   ]
  },
  {
   "cell_type": "code",
   "execution_count": 10,
   "id": "b1ffbe04-c901-4e1c-9f4d-01f8ad665154",
   "metadata": {},
   "outputs": [
    {
     "name": "stdout",
     "output_type": "stream",
     "text": [
      "this is my exept block [Errno 2] No such file or directory: 'test1.txt'\n",
      "file is executed\n"
     ]
    }
   ],
   "source": [
    "try:                                      \n",
    "    f = open(\"test1.txt\",\"r\")\n",
    "    f.write(\"write into my file\")\n",
    "    \n",
    "except Exception as e :                   \n",
    "    print(\"this is my exept block\", e)\n",
    "    \n",
    "else:\n",
    "    print(\"this will be executed once your try will execute without error\")\n",
    "    \n",
    "finally:\n",
    "    print(\"file is executed\")"
   ]
  },
  {
   "cell_type": "code",
   "execution_count": 11,
   "id": "0f5c6c9f-8715-4a0e-9d9e-c0d6fd7f566e",
   "metadata": {},
   "outputs": [
    {
     "ename": "Exception",
     "evalue": "sorry,no number below zero",
     "output_type": "error",
     "traceback": [
      "\u001b[0;31m---------------------------------------------------------------------------\u001b[0m",
      "\u001b[0;31mException\u001b[0m                                 Traceback (most recent call last)",
      "Cell \u001b[0;32mIn[11], line 4\u001b[0m\n\u001b[1;32m      1\u001b[0m x \u001b[38;5;241m=\u001b[39m \u001b[38;5;241m-\u001b[39m\u001b[38;5;241m1\u001b[39m\n\u001b[1;32m      3\u001b[0m \u001b[38;5;28;01mif\u001b[39;00m x \u001b[38;5;241m<\u001b[39m \u001b[38;5;241m0\u001b[39m :\n\u001b[0;32m----> 4\u001b[0m     \u001b[38;5;28;01mraise\u001b[39;00m \u001b[38;5;167;01mException\u001b[39;00m(\u001b[38;5;124m\"\u001b[39m\u001b[38;5;124msorry,no number below zero\u001b[39m\u001b[38;5;124m\"\u001b[39m)\n",
      "\u001b[0;31mException\u001b[0m: sorry,no number below zero"
     ]
    }
   ],
   "source": [
    "x = -1\n",
    "\n",
    "if x < 0 :\n",
    "    raise Exception(\"sorry,no number below zero\")"
   ]
  },
  {
   "cell_type": "code",
   "execution_count": null,
   "id": "6a3ddb20-fad0-4f79-b186-a1f8e3dcdbaf",
   "metadata": {},
   "outputs": [],
   "source": []
  },
  {
   "cell_type": "markdown",
   "id": "6dfbd16c-80e2-45f1-8ed7-c683906914ae",
   "metadata": {},
   "source": [
    "# Q5 - what are custom exception in python? why do we need custom exception? explain with example."
   ]
  },
  {
   "cell_type": "code",
   "execution_count": null,
   "id": "0544a044-a5c3-47b4-9344-f76abfec2d8c",
   "metadata": {},
   "outputs": [],
   "source": [
    "'''Custom exception define by creating a new class that is derived from the built-in exception class.'''"
   ]
  },
  {
   "cell_type": "code",
   "execution_count": null,
   "id": "97e8a631-6be7-4783-aa69-2b9a0a96b64a",
   "metadata": {},
   "outputs": [],
   "source": [
    "'''we need custom exception beacause to enhance the reuseability of code and to improve readabilty of code.'''"
   ]
  },
  {
   "cell_type": "code",
   "execution_count": 13,
   "id": "de0bcd7d-0099-4424-9526-9828698bbc22",
   "metadata": {},
   "outputs": [
    {
     "name": "stdin",
     "output_type": "stream",
     "text": [
      "share your feelings:  98\n"
     ]
    },
    {
     "name": "stdout",
     "output_type": "stream",
     "text": [
      "she like's me too\n"
     ]
    }
   ],
   "source": [
    "class crush(Exception):\n",
    "    \n",
    "    def __init__(self,feeling):\n",
    "        self.feeling = feeling\n",
    "        \n",
    "def propose(love):\n",
    "    if love < 0:\n",
    "        raise crush(\"feeling is not real\")\n",
    "        \n",
    "    elif love <= 60:\n",
    "        raise crush(\"feeling is real\")\n",
    "        \n",
    "    else:\n",
    "        print(\"she like's me too\")\n",
    "        \n",
    "try:\n",
    "    love = int(input(\"share your feelings: \"))\n",
    "    propose(love)\n",
    "    \n",
    "except crush as e :\n",
    "    print(e)"
   ]
  },
  {
   "cell_type": "code",
   "execution_count": null,
   "id": "afc2ccab-2fc1-4e35-8eb5-9a68502d19f9",
   "metadata": {},
   "outputs": [],
   "source": []
  },
  {
   "cell_type": "markdown",
   "id": "03b73cc1-5675-42f7-a23f-6248142d70bb",
   "metadata": {},
   "source": [
    "# Q6- Create a custom exception class. use this class to handle an exception"
   ]
  },
  {
   "cell_type": "code",
   "execution_count": 14,
   "id": "ae5d7bc0-6e2a-48d8-a3a1-fd033f8daac3",
   "metadata": {},
   "outputs": [],
   "source": [
    "class tour(Exception):\n",
    "    \n",
    "    def __init__(self,place):\n",
    "        self.place = place"
   ]
  },
  {
   "cell_type": "code",
   "execution_count": 15,
   "id": "82ab182d-0413-4eac-be43-1cbfc9c9335d",
   "metadata": {},
   "outputs": [],
   "source": [
    "def Dubai_tour(rating):\n",
    "    if rating < 10:\n",
    "        raise tour(\"not interested in tour\")\n",
    "        \n",
    "    elif rating < 50:\n",
    "        raise tour(\"think about the tour place\")\n",
    "        \n",
    "    else:\n",
    "        print(\"I am interested in tour\")\n",
    "        "
   ]
  },
  {
   "cell_type": "code",
   "execution_count": 16,
   "id": "f550e67d-0b9e-4a2b-934f-740bf091396e",
   "metadata": {},
   "outputs": [
    {
     "name": "stdin",
     "output_type": "stream",
     "text": [
      "enter your ratings:  89\n"
     ]
    },
    {
     "name": "stdout",
     "output_type": "stream",
     "text": [
      "I am interested in tour\n"
     ]
    }
   ],
   "source": [
    "try:\n",
    "    rating = int(input(\"enter your ratings: \"))\n",
    "    Dubai_tour(rating)\n",
    "    \n",
    "except tour as t:\n",
    "    print(t)\n",
    "    "
   ]
  },
  {
   "cell_type": "code",
   "execution_count": null,
   "id": "22449271-2760-4730-a080-fdc0cd0466f7",
   "metadata": {},
   "outputs": [],
   "source": []
  }
 ],
 "metadata": {
  "kernelspec": {
   "display_name": "Python 3 (ipykernel)",
   "language": "python",
   "name": "python3"
  },
  "language_info": {
   "codemirror_mode": {
    "name": "ipython",
    "version": 3
   },
   "file_extension": ".py",
   "mimetype": "text/x-python",
   "name": "python",
   "nbconvert_exporter": "python",
   "pygments_lexer": "ipython3",
   "version": "3.10.8"
  }
 },
 "nbformat": 4,
 "nbformat_minor": 5
}
