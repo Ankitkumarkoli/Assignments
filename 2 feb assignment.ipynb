{
 "cells": [
  {
   "cell_type": "markdown",
   "id": "40c89d03-bc65-4644-9611-9634bcc7e861",
   "metadata": {},
   "source": [
    "# Question1: Explain with an example each when to use a for loop and while loop"
   ]
  },
  {
   "cell_type": "markdown",
   "id": "5d3f3370-1b30-4072-b17d-04cb8e0508cf",
   "metadata": {},
   "source": [
    "for loop = for loop is use when we call all index values from the list one by one.\n",
    "example:"
   ]
  },
  {
   "cell_type": "code",
   "execution_count": 1,
   "id": "ebb9fad0-88b3-49fc-8c34-d03d9142ee88",
   "metadata": {},
   "outputs": [],
   "source": [
    "a = [1,2,3,4,5]"
   ]
  },
  {
   "cell_type": "code",
   "execution_count": 2,
   "id": "6e84ac41-4a65-467c-83dc-b5ada7bfe655",
   "metadata": {},
   "outputs": [
    {
     "name": "stdout",
     "output_type": "stream",
     "text": [
      "1\n",
      "2\n",
      "3\n",
      "4\n",
      "5\n"
     ]
    }
   ],
   "source": [
    "for i in a:\n",
    "    print(i)"
   ]
  },
  {
   "cell_type": "markdown",
   "id": "1c52cdb1-a4c0-4ccc-9082-311bc06d7a8a",
   "metadata": {},
   "source": [
    "while loop = while loop is use when a particular condition satisfy first than after body part will execute.\n",
    "example:\n"
   ]
  },
  {
   "cell_type": "code",
   "execution_count": 3,
   "id": "4ac44591-4bba-4155-8b70-a90332ccadde",
   "metadata": {},
   "outputs": [
    {
     "data": {
      "text/plain": [
       "[1, 2, 3, 4, 5]"
      ]
     },
     "execution_count": 3,
     "metadata": {},
     "output_type": "execute_result"
    }
   ],
   "source": [
    "a"
   ]
  },
  {
   "cell_type": "code",
   "execution_count": 6,
   "id": "3f93c538-c641-4c37-b620-3957f82b73a3",
   "metadata": {},
   "outputs": [
    {
     "name": "stdout",
     "output_type": "stream",
     "text": [
      "1\n",
      "2\n",
      "3\n",
      "4\n",
      "5\n"
     ]
    }
   ],
   "source": [
    "a1=1\n",
    "while a1<=5:\n",
    "    print(a1)\n",
    "    a1 = a1 + 1"
   ]
  },
  {
   "cell_type": "markdown",
   "id": "608bb916-8cb7-4c92-bc2b-b4258e1a7bb1",
   "metadata": {},
   "source": [
    "# Question2: Write a python program to print the sum and product  of the first 10 natural numbers using for and while loop."
   ]
  },
  {
   "cell_type": "code",
   "execution_count": 9,
   "id": "0b899897-dd1a-4650-abe4-9dd978682cd9",
   "metadata": {},
   "outputs": [],
   "source": [
    "q = [1,2,3,4,5,6,7,8,9,10]"
   ]
  },
  {
   "cell_type": "code",
   "execution_count": 15,
   "id": "7ea31eb4-ba09-4061-a36b-9564cc7a4ed3",
   "metadata": {},
   "outputs": [
    {
     "data": {
      "text/plain": [
       "55"
      ]
     },
     "execution_count": 15,
     "metadata": {},
     "output_type": "execute_result"
    }
   ],
   "source": [
    "add = 0                                   #sum by for loop\n",
    "for i in q:\n",
    "    add = add + i\n",
    "\n",
    "add"
   ]
  },
  {
   "cell_type": "code",
   "execution_count": 16,
   "id": "7b42673f-268e-4e58-9a30-5286b24a173d",
   "metadata": {},
   "outputs": [
    {
     "data": {
      "text/plain": [
       "3628800"
      ]
     },
     "execution_count": 16,
     "metadata": {},
     "output_type": "execute_result"
    }
   ],
   "source": [
    "product = 1                                # product by for loop\n",
    "for i in q:\n",
    "    product = product * i\n",
    "\n",
    "product"
   ]
  },
  {
   "cell_type": "code",
   "execution_count": 20,
   "id": "74656902-5d25-4940-9ce9-0912eac434eb",
   "metadata": {},
   "outputs": [
    {
     "name": "stdin",
     "output_type": "stream",
     "text": [
      "enter your number:  10\n"
     ]
    },
    {
     "data": {
      "text/plain": [
       "55"
      ]
     },
     "execution_count": 20,
     "metadata": {},
     "output_type": "execute_result"
    }
   ],
   "source": [
    "n = int(input(\"enter your number: \"))                     # sum by while loop\n",
    "number1 = 0\n",
    "number2 = 1\n",
    "\n",
    "while number2 <= n:\n",
    "    number1 = number1 + number2\n",
    "    number2 = number2 + 1\n",
    "    \n",
    "number1\n",
    "    \n"
   ]
  },
  {
   "cell_type": "code",
   "execution_count": 2,
   "id": "33b91f45-f0d6-48e0-ba94-70a57a26a529",
   "metadata": {},
   "outputs": [
    {
     "name": "stdin",
     "output_type": "stream",
     "text": [
      "enter your number:  10\n"
     ]
    },
    {
     "data": {
      "text/plain": [
       "3628800"
      ]
     },
     "execution_count": 2,
     "metadata": {},
     "output_type": "execute_result"
    }
   ],
   "source": [
    "n = int(input(\"enter your number: \"))\n",
    "number1 = 1\n",
    "number2 = 1\n",
    "\n",
    "while number2 <= n:\n",
    "    number1 = number1 * number2\n",
    "    number2 = number2 + 1\n",
    "    \n",
    "number1"
   ]
  },
  {
   "cell_type": "code",
   "execution_count": null,
   "id": "1783b88a-89a2-4ec3-a9e0-541733ab5fd9",
   "metadata": {},
   "outputs": [],
   "source": []
  },
  {
   "cell_type": "code",
   "execution_count": null,
   "id": "1fc3e98e-9744-4316-9a1d-4350a2e142bd",
   "metadata": {},
   "outputs": [],
   "source": []
  },
  {
   "cell_type": "markdown",
   "id": "168e3c66-e684-4476-9e7d-677438841c54",
   "metadata": {},
   "source": [
    "# Question3:  Create a python program to compute the electricity bill for a household.The per-unit charges in rupees are as follows: For the first 100 units, the user will be charged Rs. 4.5 per unit, for the next 100 units, the user will be charged Rs. 6 per unit, and for the next 100 units, the user will be charged Rs. 10 per unit, After 300 units and above the user will be charged Rs. 20 per unit"
   ]
  },
  {
   "cell_type": "code",
   "execution_count": 9,
   "id": "e8ccec5b-7730-446a-add9-30b0fbc17726",
   "metadata": {},
   "outputs": [
    {
     "name": "stdin",
     "output_type": "stream",
     "text": [
      "enter your electricity unit cunsumed in a month:  310\n"
     ]
    },
    {
     "name": "stdout",
     "output_type": "stream",
     "text": [
      "elctricity bill in rupees:  2250.0\n"
     ]
    }
   ],
   "source": [
    "unit = int(input(\"enter your electricity unit cunsumed in a month: \"))\n",
    "\n",
    "if unit <= 100:\n",
    "    electricity_bill = unit*4.5\n",
    "    \n",
    "elif unit <= 200:\n",
    "     electricity_bill = 100*4.5 + (unit-100)*6\n",
    "        \n",
    "elif unit <= 300:\n",
    "    electricity_bill = 100*4.5 + 100*6 + (unit-200)*10\n",
    "    \n",
    "else:\n",
    "    electricity_bill = 100*4.5 + 100*6 + 100*10 + (unit-300)*20\n",
    "    \n",
    "print(\"elctricity bill in rupees: \", electricity_bill)\n",
    "    \n",
    "    \n",
    "    \n",
    "    \n",
    "    \n",
    "    \n",
    "    "
   ]
  },
  {
   "cell_type": "code",
   "execution_count": null,
   "id": "6322735c-9eb6-4fe5-97b6-2ad6e54ebb16",
   "metadata": {},
   "outputs": [],
   "source": []
  },
  {
   "cell_type": "markdown",
   "id": "28f73066-cd2a-4d09-89ef-d097be02796f",
   "metadata": {},
   "source": [
    "# Question4 :  Create a list of numbers from 1 to 100. Use for loop and while loop to calculate the cube of each number and if the cube of that number is divisible by 4 or 5 then append that number in a list and print that list"
   ]
  },
  {
   "cell_type": "code",
   "execution_count": 13,
   "id": "e3ed872b-c25d-41d5-a402-4f4af2c41995",
   "metadata": {},
   "outputs": [
    {
     "name": "stdout",
     "output_type": "stream",
     "text": [
      "number is divisible by 4 or 5:  [8, 64, 125, 216, 512, 1000, 1728, 2744, 3375, 4096, 5832, 8000, 10648, 13824, 15625, 17576, 21952, 27000, 32768, 39304, 42875, 46656, 54872, 64000, 74088, 85184, 91125, 97336, 110592, 125000, 140608, 157464, 166375, 175616, 195112, 216000, 238328, 262144, 274625, 287496, 314432, 343000, 373248, 405224, 421875, 438976, 474552, 512000, 551368, 592704, 614125, 636056, 681472, 729000, 778688, 830584, 857375, 884736, 941192, 1000000]\n"
     ]
    }
   ],
   "source": [
    "a = []\n",
    "power_3 = []\n",
    "\n",
    "for i in range(1,101):\n",
    "    a.append(i)\n",
    "    cube = i**3\n",
    "    if cube % 4 == 0 or cube % 5 == 0:\n",
    "        power_3.append(cube)\n",
    "        \n",
    "print(\"number is divisible by 4 or 5: \", power_3)\n",
    "    "
   ]
  },
  {
   "cell_type": "code",
   "execution_count": null,
   "id": "a309a9eb-4355-449e-ac23-d137ffe99e7a",
   "metadata": {},
   "outputs": [],
   "source": []
  },
  {
   "cell_type": "markdown",
   "id": "538220da-adf0-419c-9cdf-c49aeab68a69",
   "metadata": {},
   "source": [
    "# Question5: Write a program to filter count vowels in the below-given string. string = \"I want to become a data scientist\""
   ]
  },
  {
   "cell_type": "code",
   "execution_count": 2,
   "id": "214c6592-797d-4770-a6a9-ea00fc6277a5",
   "metadata": {},
   "outputs": [
    {
     "name": "stdout",
     "output_type": "stream",
     "text": [
      "vowels in string:  12\n"
     ]
    }
   ],
   "source": [
    "string = \"I want to became a data scientist\"\n",
    "\n",
    "vowel = \"a,e,i,o,u,A,E,I,O,U\"\n",
    "\n",
    "counter = 0\n",
    "\n",
    "for char in string:\n",
    "    if char in vowel:\n",
    "        counter = counter + 1\n",
    "        \n",
    "print(\"vowels in string: \", counter)"
   ]
  },
  {
   "cell_type": "code",
   "execution_count": null,
   "id": "b0fa44fe-caf7-4dc1-b16a-26bf05b45638",
   "metadata": {},
   "outputs": [],
   "source": []
  }
 ],
 "metadata": {
  "kernelspec": {
   "display_name": "Python 3 (ipykernel)",
   "language": "python",
   "name": "python3"
  },
  "language_info": {
   "codemirror_mode": {
    "name": "ipython",
    "version": 3
   },
   "file_extension": ".py",
   "mimetype": "text/x-python",
   "name": "python",
   "nbconvert_exporter": "python",
   "pygments_lexer": "ipython3",
   "version": "3.10.8"
  }
 },
 "nbformat": 4,
 "nbformat_minor": 5
}
