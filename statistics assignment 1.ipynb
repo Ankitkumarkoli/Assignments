{
 "cells": [
  {
   "cell_type": "markdown",
   "id": "cadcaa2d-62b2-4ef8-9594-02e3cf772530",
   "metadata": {},
   "source": [
    "# Q1. What is Statistics?"
   ]
  },
  {
   "cell_type": "code",
   "execution_count": 2,
   "id": "2ba03ad4-56ef-4565-8fc1-8f1974ddebd3",
   "metadata": {},
   "outputs": [],
   "source": [
    "# Statistics is defined as the collection of collecting,organising and analyzing data."
   ]
  },
  {
   "cell_type": "markdown",
   "id": "ea8750b7-7459-4555-8dea-2be0ac0a040c",
   "metadata": {},
   "source": [
    "# Q2. Define the different types of statistics and give an example of when each type might be used."
   ]
  },
  {
   "cell_type": "code",
   "execution_count": 3,
   "id": "663ae71e-7d48-4515-9f3b-ab39f1009938",
   "metadata": {},
   "outputs": [
    {
     "data": {
      "text/plain": [
       "'\\nThere are two types of statistics\\n\\n1) Descriptive statistics\\nExample:- What is the average weight of the entire classroom\\n\\n\\n2) Inferential statistics\\nExample:- Are the weight of the students is similar to what you expect in the entire school\\n\\n'"
      ]
     },
     "execution_count": 3,
     "metadata": {},
     "output_type": "execute_result"
    }
   ],
   "source": [
    "'''\n",
    "There are two types of statistics\n",
    "\n",
    "1) Descriptive statistics\n",
    "Example:- What is the average weight of the entire classroom\n",
    "\n",
    "\n",
    "2) Inferential statistics\n",
    "Example:- Are the weight of the students is similar to what you expect in the entire school\n",
    "\n",
    "'''"
   ]
  },
  {
   "cell_type": "markdown",
   "id": "45e9cd05-46e1-4c6f-a996-e78ada8ea1ee",
   "metadata": {},
   "source": [
    "# Q3. What are the different types of data and how do they differ from each other? Provide an example of each type of data."
   ]
  },
  {
   "cell_type": "code",
   "execution_count": 4,
   "id": "89de60b1-8e6e-43bd-86f9-e4998d2e25da",
   "metadata": {},
   "outputs": [
    {
     "data": {
      "text/plain": [
       "'\\nTypes of data:-\\n1) Quantitative data(Numerical values)\\n  \\n  1.1) Discrete data\\n       Example:- Number of balls in the buckets\\n       \\n  1.2) Continous data\\n       Example:- Speed of the car\\n  \\n2)Qualitative data(Cateforical values)\\n  \\n  2.1) Nominal data\\n       Example:- Blood group of the entire class\\n       \\n  2.2) Ordinal data\\n       Example:- Mood of the peoples\\n\\n\\n'"
      ]
     },
     "execution_count": 4,
     "metadata": {},
     "output_type": "execute_result"
    }
   ],
   "source": [
    "'''\n",
    "Types of data:-\n",
    "1) Quantitative data(Numerical values)\n",
    "  \n",
    "  1.1) Discrete data\n",
    "       Example:- Number of balls in the buckets\n",
    "       \n",
    "  1.2) Continous data\n",
    "       Example:- Speed of the car\n",
    "  \n",
    "2)Qualitative data(Cateforical values)\n",
    "  \n",
    "  2.1) Nominal data\n",
    "       Example:- Blood group of the entire class\n",
    "       \n",
    "  2.2) Ordinal data\n",
    "       Example:- Mood of the peoples\n",
    "\n",
    "\n",
    "'''"
   ]
  },
  {
   "cell_type": "markdown",
   "id": "08e5bae2-d299-4e98-af01-55f195f28346",
   "metadata": {},
   "source": [
    "# Q4. Categorise the following datasets with respect to quantitative and qualitative data types:\n",
    "# (i) Grading in exam: A+, A, B+, B, C+, C, D, E\n",
    "# (ii) Colour of mangoes: yellow, green, orange, red\n",
    "# (iii) Height data of a class: [178.9, 179, 179.5, 176, 177.2, 178.3, 175.8,...]\n",
    "# (iv) Number of mangoes exported by a farm: [500, 600, 478, 672, ...]"
   ]
  },
  {
   "cell_type": "code",
   "execution_count": 5,
   "id": "2018365a-3d4d-4c2b-b875-b8e7a1161ac8",
   "metadata": {},
   "outputs": [
    {
     "data": {
      "text/plain": [
       "'\\n(i) Grading in exam: A+, A, B+, B, C+, C, D, E = Qualitative data (Ordinal data)\\n(ii) Colour of mangoes: yellow, green, orange, red = Qualitative data (Nominal data)\\n(iii) Height data of a class: [178.9, 179, 179.5, 176, 177.2, 178.3, 175.8,...] = Quantitative data (Continuous data)\\n(iv) Number of mangoes exported by a farm: [500, 600, 478, 672, ...] = Quantitative data (Discrete data)\\n\\n'"
      ]
     },
     "execution_count": 5,
     "metadata": {},
     "output_type": "execute_result"
    }
   ],
   "source": [
    "'''\n",
    "(i) Grading in exam: A+, A, B+, B, C+, C, D, E = Qualitative data (Ordinal data)\n",
    "(ii) Colour of mangoes: yellow, green, orange, red = Qualitative data (Nominal data)\n",
    "(iii) Height data of a class: [178.9, 179, 179.5, 176, 177.2, 178.3, 175.8,...] = Quantitative data (Continuous data)\n",
    "(iv) Number of mangoes exported by a farm: [500, 600, 478, 672, ...] = Quantitative data (Discrete data)\n",
    "\n",
    "'''"
   ]
  },
  {
   "cell_type": "markdown",
   "id": "4542b295-1a9e-4ea3-918a-bcfd5a3cdc47",
   "metadata": {},
   "source": [
    "# Q5. Explain the concept of levels of measurement and give an example of a variable for each level."
   ]
  },
  {
   "cell_type": "code",
   "execution_count": 6,
   "id": "e992badf-b3e9-4913-9865-a235d345c128",
   "metadata": {},
   "outputs": [
    {
     "data": {
      "text/plain": [
       "'\\nLevels of measurement is to find the different types of data from nominal scale,ordinal scale,internal scale,ratio scale.\\nThere are four types of measurements:-\\n1) Nominal scale data\\nExample:- gender\\n\\n2) Ordinal scale data\\nExample:- Customer feedback\\n\\n3) Internal scale data\\nExample:- Temperature difference\\n\\n4) Ratio scale data\\nExample:- Contestant point in the game\\n\\n\\n'"
      ]
     },
     "execution_count": 6,
     "metadata": {},
     "output_type": "execute_result"
    }
   ],
   "source": [
    "'''\n",
    "Levels of measurement is to find the different types of data from nominal scale,ordinal scale,internal scale,ratio scale.\n",
    "There are four types of measurements:-\n",
    "1) Nominal scale data\n",
    "Example:- gender\n",
    "\n",
    "2) Ordinal scale data\n",
    "Example:- Customer feedback\n",
    "\n",
    "3) Internal scale data\n",
    "Example:- Temperature difference\n",
    "\n",
    "4) Ratio scale data\n",
    "Example:- Contestant point in the game\n",
    "\n",
    "\n",
    "'''"
   ]
  },
  {
   "cell_type": "code",
   "execution_count": null,
   "id": "9b5e3e1f-bbe3-4061-b9ea-f3a7521727e3",
   "metadata": {},
   "outputs": [],
   "source": []
  },
  {
   "cell_type": "markdown",
   "id": "068f57b2-8530-46e6-b313-e8915974a6cb",
   "metadata": {},
   "source": [
    "# Q6. Why is it important to understand the level of measurement when analyzing data? Provide an example to illustrate your answer."
   ]
  },
  {
   "cell_type": "code",
   "execution_count": 7,
   "id": "9842faaf-6cea-45ac-8155-45c287b12249",
   "metadata": {},
   "outputs": [
    {
     "data": {
      "text/plain": [
       "'\\nThe level of measurement is important for analyzing the data because there are different types of data exists during the analysis process where \\nwe have to find the particular type of level of data.\\n\\nExample:- In a big box, there are different colour balls in which we have to seperate that balls and this type of data is the nominal level data.\\n\\n'"
      ]
     },
     "execution_count": 7,
     "metadata": {},
     "output_type": "execute_result"
    }
   ],
   "source": [
    "'''\n",
    "The level of measurement is important for analyzing the data because there are different types of data exists during the analysis process where \n",
    "we have to find the particular type of level of data.\n",
    "\n",
    "Example:- In a big box, there are different colour balls in which we have to seperate that balls and this type of data is the nominal level data.\n",
    "\n",
    "'''"
   ]
  },
  {
   "cell_type": "code",
   "execution_count": null,
   "id": "e250052a-6808-474b-bc24-3e3016822f06",
   "metadata": {},
   "outputs": [],
   "source": []
  },
  {
   "cell_type": "markdown",
   "id": "fa0a2ff8-b473-4e6d-88dd-ccac98645fc4",
   "metadata": {},
   "source": [
    "# Q7. How nominal data type is different from ordinal data type."
   ]
  },
  {
   "cell_type": "code",
   "execution_count": 8,
   "id": "4974ee85-cdac-44c2-9968-b9ec14d381d4",
   "metadata": {},
   "outputs": [
    {
     "data": {
      "text/plain": [
       "'\\nIn nominal data, order does not exists,difference can ne measured but in ordinal data, order matters and differnce cannot be measured.\\n\\n'"
      ]
     },
     "execution_count": 8,
     "metadata": {},
     "output_type": "execute_result"
    }
   ],
   "source": [
    "'''\n",
    "In nominal data, order does not exists,difference can ne measured but in ordinal data, order matters and differnce cannot be measured.\n",
    "\n",
    "'''"
   ]
  },
  {
   "cell_type": "markdown",
   "id": "f2ba620f-88d0-47d5-879e-098d2a9332f5",
   "metadata": {},
   "source": [
    "# Q8. Which type of plot can be used to display data in terms of range?"
   ]
  },
  {
   "cell_type": "code",
   "execution_count": 9,
   "id": "21638063-3de4-4e6c-9f55-349c91d0d2e2",
   "metadata": {},
   "outputs": [],
   "source": [
    "# Histogram"
   ]
  },
  {
   "cell_type": "code",
   "execution_count": null,
   "id": "d655154e-4f98-4307-bc30-ce2053bfcdd0",
   "metadata": {},
   "outputs": [],
   "source": []
  },
  {
   "cell_type": "markdown",
   "id": "1c8f1eab-7d94-4ae0-92a4-c75ef8a38e27",
   "metadata": {},
   "source": [
    "# Q9. Describe the difference between descriptive and inferential statistics. Give an example of each type of statistics and explain how they are used."
   ]
  },
  {
   "cell_type": "code",
   "execution_count": 10,
   "id": "4a0f0210-ff24-490b-ae8a-7abd9c91fa9a",
   "metadata": {},
   "outputs": [
    {
     "data": {
      "text/plain": [
       "'\\nDescriptive statistics:- It consists of organizing and summarising the data.\\nExample :- Average weight of the member in the family.\\n\\nInferential statistics:- Using data you have to measured to from conclusion(population and sample data is used in inferential statistics).\\nExample :- Are the weight of the member similar to what you expect in the family\\n\\n\\n'"
      ]
     },
     "execution_count": 10,
     "metadata": {},
     "output_type": "execute_result"
    }
   ],
   "source": [
    "'''\n",
    "Descriptive statistics:- It consists of organizing and summarising the data.\n",
    "Example :- Average weight of the member in the family.\n",
    "\n",
    "Inferential statistics:- Using data you have to measured to from conclusion(population and sample data is used in inferential statistics).\n",
    "Example :- Are the weight of the member similar to what you expect in the family\n",
    "\n",
    "\n",
    "'''"
   ]
  },
  {
   "cell_type": "code",
   "execution_count": null,
   "id": "020c76d9-30ba-496d-9e60-b26c6860b2b1",
   "metadata": {},
   "outputs": [],
   "source": []
  },
  {
   "cell_type": "markdown",
   "id": "4ceaeea7-73cc-4675-af4b-4e4709f07f38",
   "metadata": {},
   "source": [
    "# Q10. What are some common measures of central tendency and variability used in statistics? Explain how each measure can be used to describe a dataset."
   ]
  },
  {
   "cell_type": "code",
   "execution_count": 11,
   "id": "58ceffd3-6beb-4eec-aa93-2a3b21b3006d",
   "metadata": {},
   "outputs": [],
   "source": [
    "# Some common measures of central tendency and variability used in statistics is mean,median,mode,range,standard deciation and varience"
   ]
  },
  {
   "cell_type": "code",
   "execution_count": null,
   "id": "315d4999-e7c7-4665-8316-58741f96b014",
   "metadata": {},
   "outputs": [],
   "source": []
  }
 ],
 "metadata": {
  "kernelspec": {
   "display_name": "Python 3 (ipykernel)",
   "language": "python",
   "name": "python3"
  },
  "language_info": {
   "codemirror_mode": {
    "name": "ipython",
    "version": 3
   },
   "file_extension": ".py",
   "mimetype": "text/x-python",
   "name": "python",
   "nbconvert_exporter": "python",
   "pygments_lexer": "ipython3",
   "version": "3.10.8"
  }
 },
 "nbformat": 4,
 "nbformat_minor": 5
}
