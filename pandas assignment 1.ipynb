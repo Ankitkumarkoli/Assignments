{
 "cells": [
  {
   "cell_type": "markdown",
   "id": "f3fda62f-3c24-4b82-9f17-499fc21c4165",
   "metadata": {},
   "source": [
    "# Q1. Create a Pandas Series that contains the following data: 4, 8, 15, 16, 23, and 42. Then, print the series."
   ]
  },
  {
   "cell_type": "code",
   "execution_count": 1,
   "id": "44866bf3-25d4-4f87-b8a9-c6e6f965de87",
   "metadata": {},
   "outputs": [],
   "source": [
    "import pandas as pd"
   ]
  },
  {
   "cell_type": "code",
   "execution_count": 2,
   "id": "4004c156-4925-400f-9154-48fa6e2b0fa8",
   "metadata": {},
   "outputs": [],
   "source": [
    "a1 = pd.Series([4,8,15,16,23,42])"
   ]
  },
  {
   "cell_type": "code",
   "execution_count": 3,
   "id": "ebc1c9c1-71b0-42a6-a438-4f3890619031",
   "metadata": {},
   "outputs": [
    {
     "data": {
      "text/plain": [
       "0     4\n",
       "1     8\n",
       "2    15\n",
       "3    16\n",
       "4    23\n",
       "5    42\n",
       "dtype: int64"
      ]
     },
     "execution_count": 3,
     "metadata": {},
     "output_type": "execute_result"
    }
   ],
   "source": [
    "a1"
   ]
  },
  {
   "cell_type": "code",
   "execution_count": 4,
   "id": "1beb4193-b390-4398-a781-a1f056176d31",
   "metadata": {},
   "outputs": [
    {
     "data": {
      "text/plain": [
       "pandas.core.series.Series"
      ]
     },
     "execution_count": 4,
     "metadata": {},
     "output_type": "execute_result"
    }
   ],
   "source": [
    "type(a1)"
   ]
  },
  {
   "cell_type": "markdown",
   "id": "8ae9abbc-c18a-4e69-b0b9-949caf5591a6",
   "metadata": {},
   "source": [
    "# Q2. Create a variable of list type containing 10 elements in it, and apply pandas.Series function on the variable print it."
   ]
  },
  {
   "cell_type": "code",
   "execution_count": 5,
   "id": "2ace7789-2f74-4d10-9465-acf3df5acf58",
   "metadata": {},
   "outputs": [],
   "source": [
    "a2 = pd.Series([[1,2,3,4,5,6,7,8,9,10]])"
   ]
  },
  {
   "cell_type": "code",
   "execution_count": 6,
   "id": "c7b149c3-9219-4dc1-9984-f229d2689a25",
   "metadata": {},
   "outputs": [
    {
     "data": {
      "text/plain": [
       "0    [1, 2, 3, 4, 5, 6, 7, 8, 9, 10]\n",
       "dtype: object"
      ]
     },
     "execution_count": 6,
     "metadata": {},
     "output_type": "execute_result"
    }
   ],
   "source": [
    "a2"
   ]
  },
  {
   "cell_type": "code",
   "execution_count": 7,
   "id": "f6e1da2f-cafc-4849-8f45-8c5c518bd060",
   "metadata": {},
   "outputs": [
    {
     "data": {
      "text/plain": [
       "pandas.core.series.Series"
      ]
     },
     "execution_count": 7,
     "metadata": {},
     "output_type": "execute_result"
    }
   ],
   "source": [
    "type(a2)"
   ]
  },
  {
   "cell_type": "markdown",
   "id": "4f85c856-d6f4-4d09-933c-80d7c5e0c375",
   "metadata": {},
   "source": [
    "# Q3. Create a Pandas DataFrame that contains the following data"
   ]
  },
  {
   "cell_type": "code",
   "execution_count": 8,
   "id": "07718745-9793-4c6c-8528-acc391236173",
   "metadata": {},
   "outputs": [],
   "source": [
    "l1 = [['Alice',25,'Female'],\n",
    "     ['Bob',30,'Male'],\n",
    "     ['Claire',27,'Female']]"
   ]
  },
  {
   "cell_type": "code",
   "execution_count": 9,
   "id": "87dad3ca-eb37-4c40-8fd9-af9df3aacd16",
   "metadata": {},
   "outputs": [
    {
     "data": {
      "text/html": [
       "<div>\n",
       "<style scoped>\n",
       "    .dataframe tbody tr th:only-of-type {\n",
       "        vertical-align: middle;\n",
       "    }\n",
       "\n",
       "    .dataframe tbody tr th {\n",
       "        vertical-align: top;\n",
       "    }\n",
       "\n",
       "    .dataframe thead th {\n",
       "        text-align: right;\n",
       "    }\n",
       "</style>\n",
       "<table border=\"1\" class=\"dataframe\">\n",
       "  <thead>\n",
       "    <tr style=\"text-align: right;\">\n",
       "      <th></th>\n",
       "      <th>Name</th>\n",
       "      <th>Age</th>\n",
       "      <th>Gender</th>\n",
       "    </tr>\n",
       "  </thead>\n",
       "  <tbody>\n",
       "    <tr>\n",
       "      <th>0</th>\n",
       "      <td>Alice</td>\n",
       "      <td>25</td>\n",
       "      <td>Female</td>\n",
       "    </tr>\n",
       "    <tr>\n",
       "      <th>1</th>\n",
       "      <td>Bob</td>\n",
       "      <td>30</td>\n",
       "      <td>Male</td>\n",
       "    </tr>\n",
       "    <tr>\n",
       "      <th>2</th>\n",
       "      <td>Claire</td>\n",
       "      <td>27</td>\n",
       "      <td>Female</td>\n",
       "    </tr>\n",
       "  </tbody>\n",
       "</table>\n",
       "</div>"
      ],
      "text/plain": [
       "     Name  Age  Gender\n",
       "0   Alice   25  Female\n",
       "1     Bob   30    Male\n",
       "2  Claire   27  Female"
      ]
     },
     "execution_count": 9,
     "metadata": {},
     "output_type": "execute_result"
    }
   ],
   "source": [
    "pd.DataFrame(l1, columns =['Name','Age','Gender'] )"
   ]
  },
  {
   "cell_type": "markdown",
   "id": "069b7d1a-3e1c-4511-a638-6a3bb08eea26",
   "metadata": {},
   "source": [
    "# Q4. What is ‘DataFrame’ in pandas and how is it different from pandas.series? Explain with an example."
   ]
  },
  {
   "cell_type": "code",
   "execution_count": 10,
   "id": "56afe3c3-5329-4047-a9da-28c5869957fe",
   "metadata": {},
   "outputs": [
    {
     "data": {
      "text/plain": [
       "'\\nDataFrame is a method of library which can convert data the into tabular form and which is a list.\\n\\nIt is different from pandas.series because of series shows only a particular column but DataFrame shows the whole data in a tabular form.\\n\\n'"
      ]
     },
     "execution_count": 10,
     "metadata": {},
     "output_type": "execute_result"
    }
   ],
   "source": [
    "'''\n",
    "DataFrame is a method of library which can convert data the into tabular form and which is a list.\n",
    "\n",
    "It is different from pandas.series because of series shows only a particular column but DataFrame shows the whole data in a tabular form.\n",
    "\n",
    "'''"
   ]
  },
  {
   "cell_type": "code",
   "execution_count": 11,
   "id": "3ee679b6-9f82-4e3a-ba74-bfc9998c0dd7",
   "metadata": {},
   "outputs": [],
   "source": [
    "l2 = [['Shiv',22,'Cricketer'],\n",
    "     ['Salman khan',45,'Bakwass actor'],\n",
    "     ['Tiger sheroff',33,'Choti bachi ho kya']]"
   ]
  },
  {
   "cell_type": "code",
   "execution_count": 12,
   "id": "a6677075-cbc3-4308-b5df-b6da5c27b0a4",
   "metadata": {},
   "outputs": [],
   "source": [
    "q1 = pd.DataFrame(l2, index = None, columns = ['Name','age','profession'] )"
   ]
  },
  {
   "cell_type": "code",
   "execution_count": 13,
   "id": "6aac5a39-d24b-49a8-a0e8-03a5e5a3982d",
   "metadata": {},
   "outputs": [
    {
     "data": {
      "text/html": [
       "<div>\n",
       "<style scoped>\n",
       "    .dataframe tbody tr th:only-of-type {\n",
       "        vertical-align: middle;\n",
       "    }\n",
       "\n",
       "    .dataframe tbody tr th {\n",
       "        vertical-align: top;\n",
       "    }\n",
       "\n",
       "    .dataframe thead th {\n",
       "        text-align: right;\n",
       "    }\n",
       "</style>\n",
       "<table border=\"1\" class=\"dataframe\">\n",
       "  <thead>\n",
       "    <tr style=\"text-align: right;\">\n",
       "      <th></th>\n",
       "      <th>Name</th>\n",
       "      <th>age</th>\n",
       "      <th>profession</th>\n",
       "    </tr>\n",
       "  </thead>\n",
       "  <tbody>\n",
       "    <tr>\n",
       "      <th>0</th>\n",
       "      <td>Shiv</td>\n",
       "      <td>22</td>\n",
       "      <td>Cricketer</td>\n",
       "    </tr>\n",
       "    <tr>\n",
       "      <th>1</th>\n",
       "      <td>Salman khan</td>\n",
       "      <td>45</td>\n",
       "      <td>Bakwass actor</td>\n",
       "    </tr>\n",
       "    <tr>\n",
       "      <th>2</th>\n",
       "      <td>Tiger sheroff</td>\n",
       "      <td>33</td>\n",
       "      <td>Choti bachi ho kya</td>\n",
       "    </tr>\n",
       "  </tbody>\n",
       "</table>\n",
       "</div>"
      ],
      "text/plain": [
       "            Name  age          profession\n",
       "0           Shiv   22           Cricketer\n",
       "1    Salman khan   45       Bakwass actor\n",
       "2  Tiger sheroff   33  Choti bachi ho kya"
      ]
     },
     "execution_count": 13,
     "metadata": {},
     "output_type": "execute_result"
    }
   ],
   "source": [
    "q1"
   ]
  },
  {
   "cell_type": "code",
   "execution_count": 14,
   "id": "d0862a05-f76b-4879-8823-481f865544dc",
   "metadata": {},
   "outputs": [
    {
     "data": {
      "text/plain": [
       "0             Shiv\n",
       "1      Salman khan\n",
       "2    Tiger sheroff\n",
       "Name: Name, dtype: object"
      ]
     },
     "execution_count": 14,
     "metadata": {},
     "output_type": "execute_result"
    }
   ],
   "source": [
    "q1['Name']"
   ]
  },
  {
   "cell_type": "code",
   "execution_count": 15,
   "id": "51956935-f8d0-48d4-9748-1b6feed09478",
   "metadata": {},
   "outputs": [
    {
     "data": {
      "text/html": [
       "<div>\n",
       "<style scoped>\n",
       "    .dataframe tbody tr th:only-of-type {\n",
       "        vertical-align: middle;\n",
       "    }\n",
       "\n",
       "    .dataframe tbody tr th {\n",
       "        vertical-align: top;\n",
       "    }\n",
       "\n",
       "    .dataframe thead th {\n",
       "        text-align: right;\n",
       "    }\n",
       "</style>\n",
       "<table border=\"1\" class=\"dataframe\">\n",
       "  <thead>\n",
       "    <tr style=\"text-align: right;\">\n",
       "      <th></th>\n",
       "      <th>age</th>\n",
       "      <th>profession</th>\n",
       "    </tr>\n",
       "  </thead>\n",
       "  <tbody>\n",
       "    <tr>\n",
       "      <th>0</th>\n",
       "      <td>22</td>\n",
       "      <td>Cricketer</td>\n",
       "    </tr>\n",
       "    <tr>\n",
       "      <th>1</th>\n",
       "      <td>45</td>\n",
       "      <td>Bakwass actor</td>\n",
       "    </tr>\n",
       "    <tr>\n",
       "      <th>2</th>\n",
       "      <td>33</td>\n",
       "      <td>Choti bachi ho kya</td>\n",
       "    </tr>\n",
       "  </tbody>\n",
       "</table>\n",
       "</div>"
      ],
      "text/plain": [
       "   age          profession\n",
       "0   22           Cricketer\n",
       "1   45       Bakwass actor\n",
       "2   33  Choti bachi ho kya"
      ]
     },
     "execution_count": 15,
     "metadata": {},
     "output_type": "execute_result"
    }
   ],
   "source": [
    "q1[['age','profession']]"
   ]
  },
  {
   "cell_type": "markdown",
   "id": "fd0935db-ca6a-4cd6-b499-5edce8451894",
   "metadata": {},
   "source": [
    "# Q5. What are some common functions you can use to manipulate data in a Pandas DataFrame? Canyou give an example of when you might use one of these functions?"
   ]
  },
  {
   "cell_type": "code",
   "execution_count": 16,
   "id": "fa280cd2-34d5-44dc-be89-18de30d5539d",
   "metadata": {},
   "outputs": [
    {
     "data": {
      "text/plain": [
       "'\\nThe commmon functions are :\\n1) head()\\n2) tail()\\n3) dropna()\\n4) shape()\\n5) sort_values()\\n\\n'"
      ]
     },
     "execution_count": 16,
     "metadata": {},
     "output_type": "execute_result"
    }
   ],
   "source": [
    "'''\n",
    "The commmon functions are :\n",
    "1) head()\n",
    "2) tail()\n",
    "3) dropna()\n",
    "4) shape()\n",
    "5) sort_values()\n",
    "\n",
    "'''"
   ]
  },
  {
   "cell_type": "code",
   "execution_count": 17,
   "id": "9035e693-b5a4-4aaf-b8f4-5beba2de7f39",
   "metadata": {},
   "outputs": [],
   "source": [
    "w1 = pd.read_csv('Customer-Table.csv')"
   ]
  },
  {
   "cell_type": "code",
   "execution_count": 18,
   "id": "79d989cb-ac62-428a-9d77-13f2a04edf9b",
   "metadata": {},
   "outputs": [
    {
     "data": {
      "text/html": [
       "<div>\n",
       "<style scoped>\n",
       "    .dataframe tbody tr th:only-of-type {\n",
       "        vertical-align: middle;\n",
       "    }\n",
       "\n",
       "    .dataframe tbody tr th {\n",
       "        vertical-align: top;\n",
       "    }\n",
       "\n",
       "    .dataframe thead th {\n",
       "        text-align: right;\n",
       "    }\n",
       "</style>\n",
       "<table border=\"1\" class=\"dataframe\">\n",
       "  <thead>\n",
       "    <tr style=\"text-align: right;\">\n",
       "      <th></th>\n",
       "      <th>customer_id</th>\n",
       "      <th>name</th>\n",
       "      <th>address</th>\n",
       "      <th>city</th>\n",
       "      <th>state</th>\n",
       "      <th>zipcode</th>\n",
       "      <th>country</th>\n",
       "    </tr>\n",
       "  </thead>\n",
       "  <tbody>\n",
       "    <tr>\n",
       "      <th>0</th>\n",
       "      <td>1980</td>\n",
       "      <td>Leocadia Andersen</td>\n",
       "      <td>7015 Fairground Street</td>\n",
       "      <td>Dearborn</td>\n",
       "      <td>MI</td>\n",
       "      <td>48124</td>\n",
       "      <td>US</td>\n",
       "    </tr>\n",
       "    <tr>\n",
       "      <th>1</th>\n",
       "      <td>2463</td>\n",
       "      <td>Chad Lucero</td>\n",
       "      <td>142 Wakehurst Drive</td>\n",
       "      <td>Santa Clara</td>\n",
       "      <td>CA</td>\n",
       "      <td>95050</td>\n",
       "      <td>US</td>\n",
       "    </tr>\n",
       "    <tr>\n",
       "      <th>2</th>\n",
       "      <td>1978</td>\n",
       "      <td>Stone Randall</td>\n",
       "      <td>898 Peninsula Circle</td>\n",
       "      <td>Oakland Gardens</td>\n",
       "      <td>NY</td>\n",
       "      <td>11364</td>\n",
       "      <td>US</td>\n",
       "    </tr>\n",
       "    <tr>\n",
       "      <th>3</th>\n",
       "      <td>9383</td>\n",
       "      <td>Emelia Braun</td>\n",
       "      <td>101 Military Street</td>\n",
       "      <td>Blacksburg</td>\n",
       "      <td>VA</td>\n",
       "      <td>24060</td>\n",
       "      <td>US</td>\n",
       "    </tr>\n",
       "    <tr>\n",
       "      <th>4</th>\n",
       "      <td>8940</td>\n",
       "      <td>Ridley Velez</td>\n",
       "      <td>280 Pennington Drive</td>\n",
       "      <td>Clemmens</td>\n",
       "      <td>NC</td>\n",
       "      <td>27012</td>\n",
       "      <td>US</td>\n",
       "    </tr>\n",
       "    <tr>\n",
       "      <th>5</th>\n",
       "      <td>8940</td>\n",
       "      <td>Ridley Velez</td>\n",
       "      <td>280 Pennington Drive</td>\n",
       "      <td>Clemmens</td>\n",
       "      <td>NC</td>\n",
       "      <td>27012</td>\n",
       "      <td>US</td>\n",
       "    </tr>\n",
       "    <tr>\n",
       "      <th>6</th>\n",
       "      <td>2512</td>\n",
       "      <td>Devadas Sloan</td>\n",
       "      <td>8906 East John Street</td>\n",
       "      <td>Carol Stream</td>\n",
       "      <td>IL</td>\n",
       "      <td>60188</td>\n",
       "      <td>US</td>\n",
       "    </tr>\n",
       "    <tr>\n",
       "      <th>7</th>\n",
       "      <td>1928</td>\n",
       "      <td>Jamaal Proctor</td>\n",
       "      <td>374 New Lane</td>\n",
       "      <td>Westerville</td>\n",
       "      <td>OH</td>\n",
       "      <td>43081</td>\n",
       "      <td>US</td>\n",
       "    </tr>\n",
       "    <tr>\n",
       "      <th>8</th>\n",
       "      <td>4524</td>\n",
       "      <td>Reba Morris</td>\n",
       "      <td>755 Hanover Street</td>\n",
       "      <td>High Point</td>\n",
       "      <td>NC</td>\n",
       "      <td>27265</td>\n",
       "      <td>US</td>\n",
       "    </tr>\n",
       "    <tr>\n",
       "      <th>9</th>\n",
       "      <td>9886</td>\n",
       "      <td>Nomusa Knight</td>\n",
       "      <td>8787 River Street</td>\n",
       "      <td>Palm City</td>\n",
       "      <td>FL</td>\n",
       "      <td>34990</td>\n",
       "      <td>US</td>\n",
       "    </tr>\n",
       "    <tr>\n",
       "      <th>10</th>\n",
       "      <td>9815</td>\n",
       "      <td>Romaine Dunlap</td>\n",
       "      <td>72 1st Street</td>\n",
       "      <td>Boston</td>\n",
       "      <td>MA</td>\n",
       "      <td>2127</td>\n",
       "      <td>US</td>\n",
       "    </tr>\n",
       "    <tr>\n",
       "      <th>11</th>\n",
       "      <td>7571</td>\n",
       "      <td>Regan Wilcox</td>\n",
       "      <td>55 Brewery Drive</td>\n",
       "      <td>North Ridgeville</td>\n",
       "      <td>OH</td>\n",
       "      <td>44039</td>\n",
       "      <td>US</td>\n",
       "    </tr>\n",
       "    <tr>\n",
       "      <th>12</th>\n",
       "      <td>1980</td>\n",
       "      <td>Forest Grimes</td>\n",
       "      <td>306 South Peninsula Road</td>\n",
       "      <td>Dayton</td>\n",
       "      <td>OH</td>\n",
       "      <td>45420</td>\n",
       "      <td>US</td>\n",
       "    </tr>\n",
       "    <tr>\n",
       "      <th>13</th>\n",
       "      <td>335</td>\n",
       "      <td>Feliciana Gillespie</td>\n",
       "      <td>62 Old Carriage Drive</td>\n",
       "      <td>Mount Vernon</td>\n",
       "      <td>NY</td>\n",
       "      <td>10550</td>\n",
       "      <td>US</td>\n",
       "    </tr>\n",
       "    <tr>\n",
       "      <th>14</th>\n",
       "      <td>4687</td>\n",
       "      <td>Ella Logan</td>\n",
       "      <td>8758 Chapel Street</td>\n",
       "      <td>Sandusky</td>\n",
       "      <td>OH</td>\n",
       "      <td>44870</td>\n",
       "      <td>US</td>\n",
       "    </tr>\n",
       "    <tr>\n",
       "      <th>15</th>\n",
       "      <td>3821</td>\n",
       "      <td>Abel Black</td>\n",
       "      <td>88 Beacon Lane</td>\n",
       "      <td>Bonita Springs</td>\n",
       "      <td>FL</td>\n",
       "      <td>34135</td>\n",
       "      <td>US</td>\n",
       "    </tr>\n",
       "    <tr>\n",
       "      <th>16</th>\n",
       "      <td>9607</td>\n",
       "      <td>Josceline Mills</td>\n",
       "      <td>784 Bridge Street</td>\n",
       "      <td>Harrisonburg</td>\n",
       "      <td>VA</td>\n",
       "      <td>22801</td>\n",
       "      <td>US</td>\n",
       "    </tr>\n",
       "    <tr>\n",
       "      <th>17</th>\n",
       "      <td>6323</td>\n",
       "      <td>Kit Dixon</td>\n",
       "      <td>115 Proctor Street</td>\n",
       "      <td>Margantown</td>\n",
       "      <td>WV</td>\n",
       "      <td>26508</td>\n",
       "      <td>US</td>\n",
       "    </tr>\n",
       "    <tr>\n",
       "      <th>18</th>\n",
       "      <td>6355</td>\n",
       "      <td>Annice Ruiz</td>\n",
       "      <td>8352 Hartford Street</td>\n",
       "      <td>Chevy Chase</td>\n",
       "      <td>MD</td>\n",
       "      <td>20815</td>\n",
       "      <td>USA</td>\n",
       "    </tr>\n",
       "    <tr>\n",
       "      <th>19</th>\n",
       "      <td>4374</td>\n",
       "      <td>Alesia Rubio</td>\n",
       "      <td>726 Charles Drive</td>\n",
       "      <td>Douglasville</td>\n",
       "      <td>GA</td>\n",
       "      <td>30134</td>\n",
       "      <td>US</td>\n",
       "    </tr>\n",
       "    <tr>\n",
       "      <th>20</th>\n",
       "      <td>9080</td>\n",
       "      <td>Magnolia Craig</td>\n",
       "      <td>247 Paris Hill Avenue</td>\n",
       "      <td>Solon</td>\n",
       "      <td>OH</td>\n",
       "      <td>44139</td>\n",
       "      <td>US</td>\n",
       "    </tr>\n",
       "    <tr>\n",
       "      <th>21</th>\n",
       "      <td>9080</td>\n",
       "      <td>Magnolia Craig</td>\n",
       "      <td>247 Paris Hill Avenue</td>\n",
       "      <td>Solon</td>\n",
       "      <td>OH</td>\n",
       "      <td>44139</td>\n",
       "      <td>US</td>\n",
       "    </tr>\n",
       "    <tr>\n",
       "      <th>22</th>\n",
       "      <td>9080</td>\n",
       "      <td>Magnolia Craig</td>\n",
       "      <td>247 Paris Hill Avenue</td>\n",
       "      <td>Solon</td>\n",
       "      <td>OH</td>\n",
       "      <td>44139</td>\n",
       "      <td>USA</td>\n",
       "    </tr>\n",
       "    <tr>\n",
       "      <th>23</th>\n",
       "      <td>5306</td>\n",
       "      <td>Elouan Blanchard</td>\n",
       "      <td>8328 North Cobblestone Avenue</td>\n",
       "      <td>Pueblo</td>\n",
       "      <td>CO</td>\n",
       "      <td>81001</td>\n",
       "      <td>US</td>\n",
       "    </tr>\n",
       "    <tr>\n",
       "      <th>24</th>\n",
       "      <td>2816</td>\n",
       "      <td>McKinley Cummings</td>\n",
       "      <td>7302 Surrey Court</td>\n",
       "      <td>Ronkonkoma</td>\n",
       "      <td>NY</td>\n",
       "      <td>11779</td>\n",
       "      <td>US</td>\n",
       "    </tr>\n",
       "    <tr>\n",
       "      <th>25</th>\n",
       "      <td>1268</td>\n",
       "      <td>Trecia Costa</td>\n",
       "      <td>32 Circle Drive</td>\n",
       "      <td>Paterson</td>\n",
       "      <td>NJ</td>\n",
       "      <td>7501</td>\n",
       "      <td>US</td>\n",
       "    </tr>\n",
       "    <tr>\n",
       "      <th>26</th>\n",
       "      <td>4297</td>\n",
       "      <td>Placide Chambers</td>\n",
       "      <td>9212 Birchpond Street</td>\n",
       "      <td>Winston Salem</td>\n",
       "      <td>NC</td>\n",
       "      <td>27103</td>\n",
       "      <td>US</td>\n",
       "    </tr>\n",
       "    <tr>\n",
       "      <th>27</th>\n",
       "      <td>4957</td>\n",
       "      <td>Korey Savage</td>\n",
       "      <td>9258 Woodland Street</td>\n",
       "      <td>Glen Ellyn</td>\n",
       "      <td>IL</td>\n",
       "      <td>60137</td>\n",
       "      <td>US</td>\n",
       "    </tr>\n",
       "    <tr>\n",
       "      <th>28</th>\n",
       "      <td>4957</td>\n",
       "      <td>Korey Savage</td>\n",
       "      <td>9258 Woodland Street</td>\n",
       "      <td>Glen Ellyn</td>\n",
       "      <td>IL</td>\n",
       "      <td>60137</td>\n",
       "      <td>US</td>\n",
       "    </tr>\n",
       "  </tbody>\n",
       "</table>\n",
       "</div>"
      ],
      "text/plain": [
       "    customer_id                 name                        address  \\\n",
       "0          1980    Leocadia Andersen         7015 Fairground Street   \n",
       "1          2463          Chad Lucero            142 Wakehurst Drive   \n",
       "2          1978        Stone Randall           898 Peninsula Circle   \n",
       "3          9383         Emelia Braun            101 Military Street   \n",
       "4          8940         Ridley Velez           280 Pennington Drive   \n",
       "5          8940         Ridley Velez           280 Pennington Drive   \n",
       "6          2512        Devadas Sloan          8906 East John Street   \n",
       "7          1928       Jamaal Proctor                   374 New Lane   \n",
       "8          4524          Reba Morris             755 Hanover Street   \n",
       "9          9886        Nomusa Knight              8787 River Street   \n",
       "10         9815       Romaine Dunlap                  72 1st Street   \n",
       "11         7571         Regan Wilcox               55 Brewery Drive   \n",
       "12         1980        Forest Grimes       306 South Peninsula Road   \n",
       "13          335  Feliciana Gillespie          62 Old Carriage Drive   \n",
       "14         4687           Ella Logan             8758 Chapel Street   \n",
       "15         3821           Abel Black                 88 Beacon Lane   \n",
       "16         9607      Josceline Mills              784 Bridge Street   \n",
       "17         6323            Kit Dixon             115 Proctor Street   \n",
       "18         6355          Annice Ruiz           8352 Hartford Street   \n",
       "19         4374         Alesia Rubio              726 Charles Drive   \n",
       "20         9080       Magnolia Craig          247 Paris Hill Avenue   \n",
       "21         9080       Magnolia Craig          247 Paris Hill Avenue   \n",
       "22         9080       Magnolia Craig          247 Paris Hill Avenue   \n",
       "23         5306     Elouan Blanchard  8328 North Cobblestone Avenue   \n",
       "24         2816    McKinley Cummings              7302 Surrey Court   \n",
       "25         1268         Trecia Costa                32 Circle Drive   \n",
       "26         4297     Placide Chambers          9212 Birchpond Street   \n",
       "27         4957         Korey Savage           9258 Woodland Street   \n",
       "28         4957         Korey Savage           9258 Woodland Street   \n",
       "\n",
       "                city state  zipcode country  \n",
       "0           Dearborn    MI    48124      US  \n",
       "1        Santa Clara    CA    95050      US  \n",
       "2    Oakland Gardens    NY    11364      US  \n",
       "3         Blacksburg    VA    24060      US  \n",
       "4           Clemmens    NC    27012      US  \n",
       "5           Clemmens    NC    27012      US  \n",
       "6       Carol Stream    IL    60188      US  \n",
       "7        Westerville    OH    43081      US  \n",
       "8         High Point    NC    27265      US  \n",
       "9          Palm City    FL    34990      US  \n",
       "10            Boston    MA     2127      US  \n",
       "11  North Ridgeville    OH    44039      US  \n",
       "12            Dayton    OH    45420      US  \n",
       "13      Mount Vernon    NY    10550      US  \n",
       "14          Sandusky    OH    44870      US  \n",
       "15    Bonita Springs    FL    34135      US  \n",
       "16      Harrisonburg    VA    22801      US  \n",
       "17        Margantown    WV    26508      US  \n",
       "18       Chevy Chase    MD    20815     USA  \n",
       "19      Douglasville    GA    30134      US  \n",
       "20             Solon    OH    44139      US  \n",
       "21             Solon   OH     44139      US  \n",
       "22             Solon    OH    44139     USA  \n",
       "23            Pueblo    CO    81001      US  \n",
       "24        Ronkonkoma    NY    11779      US  \n",
       "25          Paterson    NJ     7501      US  \n",
       "26     Winston Salem    NC    27103      US  \n",
       "27        Glen Ellyn    IL    60137      US  \n",
       "28        Glen Ellyn    IL    60137      US  "
      ]
     },
     "execution_count": 18,
     "metadata": {},
     "output_type": "execute_result"
    }
   ],
   "source": [
    "w1"
   ]
  },
  {
   "cell_type": "code",
   "execution_count": 19,
   "id": "565e55ec-2809-43b2-b121-1132421a0dd2",
   "metadata": {},
   "outputs": [
    {
     "data": {
      "text/html": [
       "<div>\n",
       "<style scoped>\n",
       "    .dataframe tbody tr th:only-of-type {\n",
       "        vertical-align: middle;\n",
       "    }\n",
       "\n",
       "    .dataframe tbody tr th {\n",
       "        vertical-align: top;\n",
       "    }\n",
       "\n",
       "    .dataframe thead th {\n",
       "        text-align: right;\n",
       "    }\n",
       "</style>\n",
       "<table border=\"1\" class=\"dataframe\">\n",
       "  <thead>\n",
       "    <tr style=\"text-align: right;\">\n",
       "      <th></th>\n",
       "      <th>customer_id</th>\n",
       "      <th>name</th>\n",
       "      <th>address</th>\n",
       "      <th>city</th>\n",
       "      <th>state</th>\n",
       "      <th>zipcode</th>\n",
       "      <th>country</th>\n",
       "    </tr>\n",
       "  </thead>\n",
       "  <tbody>\n",
       "    <tr>\n",
       "      <th>0</th>\n",
       "      <td>1980</td>\n",
       "      <td>Leocadia Andersen</td>\n",
       "      <td>7015 Fairground Street</td>\n",
       "      <td>Dearborn</td>\n",
       "      <td>MI</td>\n",
       "      <td>48124</td>\n",
       "      <td>US</td>\n",
       "    </tr>\n",
       "    <tr>\n",
       "      <th>1</th>\n",
       "      <td>2463</td>\n",
       "      <td>Chad Lucero</td>\n",
       "      <td>142 Wakehurst Drive</td>\n",
       "      <td>Santa Clara</td>\n",
       "      <td>CA</td>\n",
       "      <td>95050</td>\n",
       "      <td>US</td>\n",
       "    </tr>\n",
       "    <tr>\n",
       "      <th>2</th>\n",
       "      <td>1978</td>\n",
       "      <td>Stone Randall</td>\n",
       "      <td>898 Peninsula Circle</td>\n",
       "      <td>Oakland Gardens</td>\n",
       "      <td>NY</td>\n",
       "      <td>11364</td>\n",
       "      <td>US</td>\n",
       "    </tr>\n",
       "    <tr>\n",
       "      <th>3</th>\n",
       "      <td>9383</td>\n",
       "      <td>Emelia Braun</td>\n",
       "      <td>101 Military Street</td>\n",
       "      <td>Blacksburg</td>\n",
       "      <td>VA</td>\n",
       "      <td>24060</td>\n",
       "      <td>US</td>\n",
       "    </tr>\n",
       "    <tr>\n",
       "      <th>4</th>\n",
       "      <td>8940</td>\n",
       "      <td>Ridley Velez</td>\n",
       "      <td>280 Pennington Drive</td>\n",
       "      <td>Clemmens</td>\n",
       "      <td>NC</td>\n",
       "      <td>27012</td>\n",
       "      <td>US</td>\n",
       "    </tr>\n",
       "  </tbody>\n",
       "</table>\n",
       "</div>"
      ],
      "text/plain": [
       "   customer_id               name                 address             city  \\\n",
       "0         1980  Leocadia Andersen  7015 Fairground Street         Dearborn   \n",
       "1         2463        Chad Lucero     142 Wakehurst Drive      Santa Clara   \n",
       "2         1978      Stone Randall    898 Peninsula Circle  Oakland Gardens   \n",
       "3         9383       Emelia Braun     101 Military Street       Blacksburg   \n",
       "4         8940       Ridley Velez    280 Pennington Drive         Clemmens   \n",
       "\n",
       "  state  zipcode country  \n",
       "0    MI    48124      US  \n",
       "1    CA    95050      US  \n",
       "2    NY    11364      US  \n",
       "3    VA    24060      US  \n",
       "4    NC    27012      US  "
      ]
     },
     "execution_count": 19,
     "metadata": {},
     "output_type": "execute_result"
    }
   ],
   "source": [
    "w1.head()"
   ]
  },
  {
   "cell_type": "code",
   "execution_count": 20,
   "id": "f9eabded-b21c-4313-8978-2a844059d7de",
   "metadata": {},
   "outputs": [
    {
     "data": {
      "text/html": [
       "<div>\n",
       "<style scoped>\n",
       "    .dataframe tbody tr th:only-of-type {\n",
       "        vertical-align: middle;\n",
       "    }\n",
       "\n",
       "    .dataframe tbody tr th {\n",
       "        vertical-align: top;\n",
       "    }\n",
       "\n",
       "    .dataframe thead th {\n",
       "        text-align: right;\n",
       "    }\n",
       "</style>\n",
       "<table border=\"1\" class=\"dataframe\">\n",
       "  <thead>\n",
       "    <tr style=\"text-align: right;\">\n",
       "      <th></th>\n",
       "      <th>customer_id</th>\n",
       "      <th>name</th>\n",
       "      <th>address</th>\n",
       "      <th>city</th>\n",
       "      <th>state</th>\n",
       "      <th>zipcode</th>\n",
       "      <th>country</th>\n",
       "    </tr>\n",
       "  </thead>\n",
       "  <tbody>\n",
       "    <tr>\n",
       "      <th>24</th>\n",
       "      <td>2816</td>\n",
       "      <td>McKinley Cummings</td>\n",
       "      <td>7302 Surrey Court</td>\n",
       "      <td>Ronkonkoma</td>\n",
       "      <td>NY</td>\n",
       "      <td>11779</td>\n",
       "      <td>US</td>\n",
       "    </tr>\n",
       "    <tr>\n",
       "      <th>25</th>\n",
       "      <td>1268</td>\n",
       "      <td>Trecia Costa</td>\n",
       "      <td>32 Circle Drive</td>\n",
       "      <td>Paterson</td>\n",
       "      <td>NJ</td>\n",
       "      <td>7501</td>\n",
       "      <td>US</td>\n",
       "    </tr>\n",
       "    <tr>\n",
       "      <th>26</th>\n",
       "      <td>4297</td>\n",
       "      <td>Placide Chambers</td>\n",
       "      <td>9212 Birchpond Street</td>\n",
       "      <td>Winston Salem</td>\n",
       "      <td>NC</td>\n",
       "      <td>27103</td>\n",
       "      <td>US</td>\n",
       "    </tr>\n",
       "    <tr>\n",
       "      <th>27</th>\n",
       "      <td>4957</td>\n",
       "      <td>Korey Savage</td>\n",
       "      <td>9258 Woodland Street</td>\n",
       "      <td>Glen Ellyn</td>\n",
       "      <td>IL</td>\n",
       "      <td>60137</td>\n",
       "      <td>US</td>\n",
       "    </tr>\n",
       "    <tr>\n",
       "      <th>28</th>\n",
       "      <td>4957</td>\n",
       "      <td>Korey Savage</td>\n",
       "      <td>9258 Woodland Street</td>\n",
       "      <td>Glen Ellyn</td>\n",
       "      <td>IL</td>\n",
       "      <td>60137</td>\n",
       "      <td>US</td>\n",
       "    </tr>\n",
       "  </tbody>\n",
       "</table>\n",
       "</div>"
      ],
      "text/plain": [
       "    customer_id               name                address           city  \\\n",
       "24         2816  McKinley Cummings      7302 Surrey Court     Ronkonkoma   \n",
       "25         1268       Trecia Costa        32 Circle Drive       Paterson   \n",
       "26         4297   Placide Chambers  9212 Birchpond Street  Winston Salem   \n",
       "27         4957       Korey Savage   9258 Woodland Street     Glen Ellyn   \n",
       "28         4957       Korey Savage   9258 Woodland Street     Glen Ellyn   \n",
       "\n",
       "   state  zipcode country  \n",
       "24    NY    11779      US  \n",
       "25    NJ     7501      US  \n",
       "26    NC    27103      US  \n",
       "27    IL    60137      US  \n",
       "28    IL    60137      US  "
      ]
     },
     "execution_count": 20,
     "metadata": {},
     "output_type": "execute_result"
    }
   ],
   "source": [
    "w1.tail()"
   ]
  },
  {
   "cell_type": "code",
   "execution_count": 21,
   "id": "6b59fcc0-ed47-441c-9f84-f76682ca0a09",
   "metadata": {},
   "outputs": [
    {
     "data": {
      "text/plain": [
       "(29, 7)"
      ]
     },
     "execution_count": 21,
     "metadata": {},
     "output_type": "execute_result"
    }
   ],
   "source": [
    "w1.shape"
   ]
  },
  {
   "cell_type": "code",
   "execution_count": 22,
   "id": "fd397775-ffdd-4b9e-877e-3d2cbc42d025",
   "metadata": {},
   "outputs": [
    {
     "data": {
      "text/plain": [
       "<bound method DataFrame.sort_values of     customer_id                 name                        address  \\\n",
       "0          1980    Leocadia Andersen         7015 Fairground Street   \n",
       "1          2463          Chad Lucero            142 Wakehurst Drive   \n",
       "2          1978        Stone Randall           898 Peninsula Circle   \n",
       "3          9383         Emelia Braun            101 Military Street   \n",
       "4          8940         Ridley Velez           280 Pennington Drive   \n",
       "5          8940         Ridley Velez           280 Pennington Drive   \n",
       "6          2512        Devadas Sloan          8906 East John Street   \n",
       "7          1928       Jamaal Proctor                   374 New Lane   \n",
       "8          4524          Reba Morris             755 Hanover Street   \n",
       "9          9886        Nomusa Knight              8787 River Street   \n",
       "10         9815       Romaine Dunlap                  72 1st Street   \n",
       "11         7571         Regan Wilcox               55 Brewery Drive   \n",
       "12         1980        Forest Grimes       306 South Peninsula Road   \n",
       "13          335  Feliciana Gillespie          62 Old Carriage Drive   \n",
       "14         4687           Ella Logan             8758 Chapel Street   \n",
       "15         3821           Abel Black                 88 Beacon Lane   \n",
       "16         9607      Josceline Mills              784 Bridge Street   \n",
       "17         6323            Kit Dixon             115 Proctor Street   \n",
       "18         6355          Annice Ruiz           8352 Hartford Street   \n",
       "19         4374         Alesia Rubio              726 Charles Drive   \n",
       "20         9080       Magnolia Craig          247 Paris Hill Avenue   \n",
       "21         9080       Magnolia Craig          247 Paris Hill Avenue   \n",
       "22         9080       Magnolia Craig          247 Paris Hill Avenue   \n",
       "23         5306     Elouan Blanchard  8328 North Cobblestone Avenue   \n",
       "24         2816    McKinley Cummings              7302 Surrey Court   \n",
       "25         1268         Trecia Costa                32 Circle Drive   \n",
       "26         4297     Placide Chambers          9212 Birchpond Street   \n",
       "27         4957         Korey Savage           9258 Woodland Street   \n",
       "28         4957         Korey Savage           9258 Woodland Street   \n",
       "\n",
       "                city state  zipcode country  \n",
       "0           Dearborn    MI    48124      US  \n",
       "1        Santa Clara    CA    95050      US  \n",
       "2    Oakland Gardens    NY    11364      US  \n",
       "3         Blacksburg    VA    24060      US  \n",
       "4           Clemmens    NC    27012      US  \n",
       "5           Clemmens    NC    27012      US  \n",
       "6       Carol Stream    IL    60188      US  \n",
       "7        Westerville    OH    43081      US  \n",
       "8         High Point    NC    27265      US  \n",
       "9          Palm City    FL    34990      US  \n",
       "10            Boston    MA     2127      US  \n",
       "11  North Ridgeville    OH    44039      US  \n",
       "12            Dayton    OH    45420      US  \n",
       "13      Mount Vernon    NY    10550      US  \n",
       "14          Sandusky    OH    44870      US  \n",
       "15    Bonita Springs    FL    34135      US  \n",
       "16      Harrisonburg    VA    22801      US  \n",
       "17        Margantown    WV    26508      US  \n",
       "18       Chevy Chase    MD    20815     USA  \n",
       "19      Douglasville    GA    30134      US  \n",
       "20             Solon    OH    44139      US  \n",
       "21             Solon   OH     44139      US  \n",
       "22             Solon    OH    44139     USA  \n",
       "23            Pueblo    CO    81001      US  \n",
       "24        Ronkonkoma    NY    11779      US  \n",
       "25          Paterson    NJ     7501      US  \n",
       "26     Winston Salem    NC    27103      US  \n",
       "27        Glen Ellyn    IL    60137      US  \n",
       "28        Glen Ellyn    IL    60137      US  >"
      ]
     },
     "execution_count": 22,
     "metadata": {},
     "output_type": "execute_result"
    }
   ],
   "source": [
    "w1.sort_values"
   ]
  },
  {
   "cell_type": "code",
   "execution_count": 23,
   "id": "bd6bc322-a6ed-42ab-92a6-ab944fe0b64a",
   "metadata": {},
   "outputs": [
    {
     "data": {
      "text/plain": [
       "Index(['customer_id', 'name', 'address', 'city', 'state', 'zipcode',\n",
       "       'country'],\n",
       "      dtype='object')"
      ]
     },
     "execution_count": 23,
     "metadata": {},
     "output_type": "execute_result"
    }
   ],
   "source": [
    "w1.columns"
   ]
  },
  {
   "cell_type": "markdown",
   "id": "370b3407-1d8e-49e2-b96b-9d96bebb967a",
   "metadata": {},
   "source": [
    "# Q6. Which of the following is mutable in nature Series, DataFrame, Panel?"
   ]
  },
  {
   "cell_type": "code",
   "execution_count": 24,
   "id": "dff3f877-7f62-4941-8d02-79e989edf2ae",
   "metadata": {},
   "outputs": [
    {
     "data": {
      "text/plain": [
       "'\\nseries - immutable\\nDataframe - mutable\\nPanel - mutable\\n\\n'"
      ]
     },
     "execution_count": 24,
     "metadata": {},
     "output_type": "execute_result"
    }
   ],
   "source": [
    "'''\n",
    "series - immutable\n",
    "Dataframe - mutable\n",
    "Panel - mutable\n",
    "\n",
    "'''"
   ]
  },
  {
   "cell_type": "markdown",
   "id": "f1316731-9545-4342-af4b-fe466bfb7be0",
   "metadata": {},
   "source": [
    "# Q7. Create a DataFrame using multiple Series. Explain with an example."
   ]
  },
  {
   "cell_type": "code",
   "execution_count": 25,
   "id": "d4785db8-654b-4326-ad9d-df144a5902d4",
   "metadata": {},
   "outputs": [],
   "source": [
    "s1 = pd.Series(['customer_id'])"
   ]
  },
  {
   "cell_type": "code",
   "execution_count": 26,
   "id": "37af9802-6891-4d10-86d8-995e57bcc919",
   "metadata": {},
   "outputs": [
    {
     "data": {
      "text/plain": [
       "0    customer_id\n",
       "dtype: object"
      ]
     },
     "execution_count": 26,
     "metadata": {},
     "output_type": "execute_result"
    }
   ],
   "source": [
    "s1"
   ]
  },
  {
   "cell_type": "code",
   "execution_count": 27,
   "id": "2231671f-bc5c-4593-b9bf-3909c2052af1",
   "metadata": {},
   "outputs": [],
   "source": [
    "s2 = pd.Series(['name'])"
   ]
  },
  {
   "cell_type": "code",
   "execution_count": 28,
   "id": "56a2d60e-0a13-4adf-a5e1-d2c7390c497a",
   "metadata": {},
   "outputs": [
    {
     "data": {
      "text/plain": [
       "0    name\n",
       "dtype: object"
      ]
     },
     "execution_count": 28,
     "metadata": {},
     "output_type": "execute_result"
    }
   ],
   "source": [
    "s2"
   ]
  },
  {
   "cell_type": "code",
   "execution_count": 29,
   "id": "c311ea74-8346-4f25-95ab-9c935b883577",
   "metadata": {},
   "outputs": [],
   "source": [
    "s3 = pd.DataFrame([['customer_id','name']])"
   ]
  },
  {
   "cell_type": "code",
   "execution_count": 30,
   "id": "d2158657-1c28-4f78-8927-730e753a29fd",
   "metadata": {},
   "outputs": [
    {
     "data": {
      "text/html": [
       "<div>\n",
       "<style scoped>\n",
       "    .dataframe tbody tr th:only-of-type {\n",
       "        vertical-align: middle;\n",
       "    }\n",
       "\n",
       "    .dataframe tbody tr th {\n",
       "        vertical-align: top;\n",
       "    }\n",
       "\n",
       "    .dataframe thead th {\n",
       "        text-align: right;\n",
       "    }\n",
       "</style>\n",
       "<table border=\"1\" class=\"dataframe\">\n",
       "  <thead>\n",
       "    <tr style=\"text-align: right;\">\n",
       "      <th></th>\n",
       "      <th>0</th>\n",
       "      <th>1</th>\n",
       "    </tr>\n",
       "  </thead>\n",
       "  <tbody>\n",
       "    <tr>\n",
       "      <th>0</th>\n",
       "      <td>customer_id</td>\n",
       "      <td>name</td>\n",
       "    </tr>\n",
       "  </tbody>\n",
       "</table>\n",
       "</div>"
      ],
      "text/plain": [
       "             0     1\n",
       "0  customer_id  name"
      ]
     },
     "execution_count": 30,
     "metadata": {},
     "output_type": "execute_result"
    }
   ],
   "source": [
    "s3"
   ]
  },
  {
   "cell_type": "code",
   "execution_count": null,
   "id": "fc88e03f-0c60-438d-bd3d-2efac80bdd22",
   "metadata": {},
   "outputs": [],
   "source": []
  },
  {
   "cell_type": "code",
   "execution_count": null,
   "id": "2965336d-12a3-4b30-b02f-273d472e7bba",
   "metadata": {},
   "outputs": [],
   "source": []
  },
  {
   "cell_type": "code",
   "execution_count": null,
   "id": "caf833d2-0eb6-4c87-8406-c704af988652",
   "metadata": {},
   "outputs": [],
   "source": []
  }
 ],
 "metadata": {
  "kernelspec": {
   "display_name": "Python 3 (ipykernel)",
   "language": "python",
   "name": "python3"
  },
  "language_info": {
   "codemirror_mode": {
    "name": "ipython",
    "version": 3
   },
   "file_extension": ".py",
   "mimetype": "text/x-python",
   "name": "python",
   "nbconvert_exporter": "python",
   "pygments_lexer": "ipython3",
   "version": "3.10.8"
  }
 },
 "nbformat": 4,
 "nbformat_minor": 5
}
