{
 "cells": [
  {
   "cell_type": "markdown",
   "id": "c65c8fd0-cb5e-4a5e-8814-c830e970f2a8",
   "metadata": {},
   "source": [
    "# Q1). what is multithreading in python? why is it used? Name the module used to handle threads in python"
   ]
  },
  {
   "cell_type": "code",
   "execution_count": 16,
   "id": "83507ff1-e0d5-4078-8ed3-72463562ef79",
   "metadata": {},
   "outputs": [],
   "source": [
    "# Multithreading is the ability of a processor to execute multiple threads concurrently\n",
    "# Running more than one thread under same process and has the ability of resource sharing."
   ]
  },
  {
   "cell_type": "code",
   "execution_count": 17,
   "id": "f22b9c06-983e-486d-9ca2-3e457fef1482",
   "metadata": {},
   "outputs": [],
   "source": [
    "# To improve the performance of a program by using multiple CPU cores."
   ]
  },
  {
   "cell_type": "code",
   "execution_count": 18,
   "id": "2e93d9bc-58b1-405c-ac52-0e4feac0bf81",
   "metadata": {},
   "outputs": [],
   "source": [
    "# threading module used to handle threads in python."
   ]
  },
  {
   "cell_type": "code",
   "execution_count": null,
   "id": "7bff84de-4b07-4dca-9b85-4b443987f795",
   "metadata": {},
   "outputs": [],
   "source": []
  },
  {
   "cell_type": "markdown",
   "id": "454bd54d-d8f2-4a01-8b88-44a4462f3adb",
   "metadata": {},
   "source": [
    "# Q2. why threading module used? write the use of the following functions\n",
    "#       1) activeCount()\n",
    "#       2) currentThread()\n",
    "#       3) enumerate()"
   ]
  },
  {
   "cell_type": "code",
   "execution_count": 19,
   "id": "06d2b108-8542-4331-abf7-26f468cf33e0",
   "metadata": {},
   "outputs": [],
   "source": [
    "# To achieve the multitasking process and improve the performance of program"
   ]
  },
  {
   "cell_type": "code",
   "execution_count": 20,
   "id": "129d9d71-2138-41b4-ab3c-ccc27aa05b36",
   "metadata": {},
   "outputs": [],
   "source": [
    "# activecount() function is used to return the number of active threads.\n",
    "# currentThread() function is used to return a reference to the currently executing thread object.\n",
    "# enumerate() function add a counter as the key of the enumerate object."
   ]
  },
  {
   "cell_type": "code",
   "execution_count": null,
   "id": "bfd6011b-4371-406c-ab01-5cbb76ab89b1",
   "metadata": {},
   "outputs": [],
   "source": []
  },
  {
   "cell_type": "markdown",
   "id": "630208bb-b1a3-412f-a341-1288895a1a84",
   "metadata": {},
   "source": [
    "# Q3. Explain the following functions\n",
    "#     1) run()\n",
    "#     2) start()\n",
    "#     3) join()\n",
    "#     4) isAlive()"
   ]
  },
  {
   "cell_type": "code",
   "execution_count": 21,
   "id": "b2949e85-fea4-4c3e-9b08-bc7a7ff390a4",
   "metadata": {},
   "outputs": [
    {
     "data": {
      "text/plain": [
       "\"1) run() :- \\n This method is used to represent a thread's activity. \\n It calls the method expressed as the target argument in the Thread object along with the positional and keyword arguments taken from the args and kwargs arguments, respectively. \\n This method can also be overridden in the subclass.\\n\\n  2) start():-\\n  It is used to start a thread's activity. \\n  This method calls the run() method internally which then executes the target method. \\n  This method must be called at most one time for one thread. If it is called more than once,it raises a RuntimeError.\\n\\n  3) join() :-\\n  Whenever this method is called for any Thread object,\\n  it blocks the calling thread till the time the thread whose join() method is called terminates, \\n  either normally or through an unhandled exception.\\n\\n  4) isAlive() :-\\n  It uses a Thread object, and checks whether that thread is alive or not, i.e ,\\n  it is still running or not. This method returns True before the run() starts until just after the run() method is executed.\""
      ]
     },
     "execution_count": 21,
     "metadata": {},
     "output_type": "execute_result"
    }
   ],
   "source": [
    "'''1) run() :- \n",
    " This method is used to represent a thread's activity. \n",
    " It calls the method expressed as the target argument in the Thread object along with the positional and keyword arguments taken from the args and kwargs arguments, respectively. \n",
    " This method can also be overridden in the subclass.\n",
    "\n",
    "  2) start():-\n",
    "  It is used to start a thread's activity. \n",
    "  This method calls the run() method internally which then executes the target method. \n",
    "  This method must be called at most one time for one thread. If it is called more than once,it raises a RuntimeError.\n",
    "\n",
    "  3) join() :-\n",
    "  Whenever this method is called for any Thread object,\n",
    "  it blocks the calling thread till the time the thread whose join() method is called terminates, \n",
    "  either normally or through an unhandled exception.\n",
    "\n",
    "  4) isAlive() :-\n",
    "  It uses a Thread object, and checks whether that thread is alive or not, i.e ,\n",
    "  it is still running or not. This method returns True before the run() starts until just after the run() method is executed.'''\n",
    "    "
   ]
  },
  {
   "cell_type": "code",
   "execution_count": null,
   "id": "0bceb717-163b-4124-8992-fe8fc1cfa0ae",
   "metadata": {},
   "outputs": [],
   "source": []
  },
  {
   "cell_type": "markdown",
   "id": "dcab9c12-4c7c-4a37-af2c-8839ad1fac40",
   "metadata": {},
   "source": [
    "# Q4. Write a python program to create two threads. Thread one must print the list of squares and thread two must print the list of cubes"
   ]
  },
  {
   "cell_type": "code",
   "execution_count": 22,
   "id": "a75a437a-7d5a-4fbb-9cd9-2d6244438a80",
   "metadata": {},
   "outputs": [
    {
     "name": "stdout",
     "output_type": "stream",
     "text": [
      "square: 81 \n",
      "cube: 729 \n",
      "completed\n"
     ]
    }
   ],
   "source": [
    "import threading\n",
    "\n",
    "def num_square(number):\n",
    "    print(\"square: {} \".format(number*number))\n",
    "    \n",
    "def num_cube(number):\n",
    "    print(\"cube: {} \".format(number*number*number))\n",
    "\n",
    "if __name__ == \"__main__\" :\n",
    "    ther1 = threading.Thread(target=num_square, args=(9,))\n",
    "    ther2 = threading.Thread(target=num_cube, args=(9,))\n",
    "\n",
    "    ther1.start()\n",
    "    ther2.start()\n",
    "\n",
    "    ther1.join()\n",
    "    ther2.join()\n",
    "\n",
    "    print(\"completed\")"
   ]
  },
  {
   "cell_type": "markdown",
   "id": "f9d4d43f-71e9-45a1-b872-8629961db1dd",
   "metadata": {},
   "source": [
    "# Q5. State advantages and disadvantages of multithreading"
   ]
  },
  {
   "cell_type": "code",
   "execution_count": 23,
   "id": "4ffe15ec-e1f7-42e3-89be-3e845be7a7f1",
   "metadata": {},
   "outputs": [],
   "source": [
    "# Advantage of Multithreading:\n",
    "#   1) thread are independent of each other,the user is not blocked.\n",
    "#   2) threads do parallel execution, the resources of the device can be used efficiently.\n",
    "#   3) Enhance the performance of the multi-processor machines.\n",
    "#   4) Many of the GUIs and CPUs used in the current days include multithreading.\n",
    "\n",
    "# Disadvantages of Multithreading:\n",
    "#   1)Increase complexity with the increase in the number of thread.\n",
    "#   2) It is necessary to maintain synchronization while sharing the resources among multiple threads.\n",
    "#   3) It is difficult to debug the process with thread as the result is sometimes unpredictable.\n",
    "#   4) The process odf constructing and synchronization the thread is CPU."
   ]
  },
  {
   "cell_type": "code",
   "execution_count": null,
   "id": "66c04c05-5062-468a-955f-19334293ae6d",
   "metadata": {},
   "outputs": [],
   "source": []
  },
  {
   "cell_type": "markdown",
   "id": "b069b726-dcf7-420b-bfe4-fc0db38a0674",
   "metadata": {},
   "source": [
    "# Q6. Explain deadlocks and race conditions."
   ]
  },
  {
   "cell_type": "code",
   "execution_count": 24,
   "id": "b9e91e82-f081-4e41-ae86-89a24aed6e05",
   "metadata": {},
   "outputs": [],
   "source": [
    "# race condition :- When two processes are completing with each other causing data corruption.\n",
    "\n",
    "# deadlock :- When two processes are waiting for each other directly or indirectly."
   ]
  },
  {
   "cell_type": "code",
   "execution_count": null,
   "id": "9bd18146-ec82-4b64-8bd3-da83b3fa4425",
   "metadata": {},
   "outputs": [],
   "source": []
  }
 ],
 "metadata": {
  "kernelspec": {
   "display_name": "Python 3 (ipykernel)",
   "language": "python",
   "name": "python3"
  },
  "language_info": {
   "codemirror_mode": {
    "name": "ipython",
    "version": 3
   },
   "file_extension": ".py",
   "mimetype": "text/x-python",
   "name": "python",
   "nbconvert_exporter": "python",
   "pygments_lexer": "ipython3",
   "version": "3.10.8"
  }
 },
 "nbformat": 4,
 "nbformat_minor": 5
}
