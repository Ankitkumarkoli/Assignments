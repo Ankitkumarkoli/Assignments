{
 "cells": [
  {
   "cell_type": "markdown",
   "id": "c8d676a4-a644-4e6d-aee8-2598344c4e98",
   "metadata": {},
   "source": [
    "# Q1. Explain Class and Object with respect to Object-Oriented Programming. Give a suitable example."
   ]
  },
  {
   "cell_type": "code",
   "execution_count": null,
   "id": "0f2b5630-3208-4519-9161-718af53d5a77",
   "metadata": {},
   "outputs": [],
   "source": [
    "# class is a skeleton , classification or blueprint of real world entity but not specific to a real world entity.\n",
    "# object is a real world entity and object is also known as variable or instance.\n",
    " \n"
   ]
  },
  {
   "cell_type": "markdown",
   "id": "f6d7fd13-86c7-4f1c-a182-6dc8e6c758b0",
   "metadata": {},
   "source": [
    "# Q2. Name the four pillars of OOPs."
   ]
  },
  {
   "cell_type": "code",
   "execution_count": 2,
   "id": "eb42c75c-7470-4f94-a1f7-2a51b9e0db23",
   "metadata": {},
   "outputs": [],
   "source": [
    "# Answer - Encapsulation,polymorphism,inheritence,Abstraction"
   ]
  },
  {
   "cell_type": "markdown",
   "id": "45593a9e-07b8-435b-b84f-2cc46304e4e9",
   "metadata": {},
   "source": [
    "# Q3. Explain why the __init__() function is used. Give a suitable example."
   ]
  },
  {
   "cell_type": "code",
   "execution_count": 5,
   "id": "881a39c9-b7ad-401d-b82e-9d2a9a9a7dfb",
   "metadata": {},
   "outputs": [],
   "source": [
    "# __init__() function is used in class to take object specific input from the user, it is inbuilt function and it is a constructor. \n",
    "\n",
    "class pwskills :\n",
    "    \n",
    "    def __init__(self,number_of_boys,number_of_girls,total_students):\n",
    "        self.number_of_boys = number_of_boys\n",
    "        self.number_of_girls = number_of_girls\n",
    "        self.total_students = total_students\n",
    "        \n",
    "    def return_details(self):\n",
    "        return self.number_of_boys,self.number_of_girls,self.total_students"
   ]
  },
  {
   "cell_type": "code",
   "execution_count": 6,
   "id": "d214ca5f-7d9b-4f9b-8b67-1d7298be2144",
   "metadata": {},
   "outputs": [],
   "source": [
    "ram = pwskills(15,20,35)"
   ]
  },
  {
   "cell_type": "code",
   "execution_count": 7,
   "id": "3d0ca1ec-1ebd-4e29-b4a6-95d69edb8382",
   "metadata": {},
   "outputs": [
    {
     "data": {
      "text/plain": [
       "(15, 20, 35)"
      ]
     },
     "execution_count": 7,
     "metadata": {},
     "output_type": "execute_result"
    }
   ],
   "source": [
    "ram.return_details()"
   ]
  },
  {
   "cell_type": "markdown",
   "id": "2163c59e-4859-4300-a4a4-d9a2ca116abb",
   "metadata": {},
   "source": [
    "# Q4. Why self is used in OOPs?"
   ]
  },
  {
   "cell_type": "code",
   "execution_count": null,
   "id": "5eec0cbe-3c64-4470-b054-e19df690b8c3",
   "metadata": {},
   "outputs": [],
   "source": [
    "# self is used to bind the variable to the class, self work as a pointer or reference and self is not a reserved keyword."
   ]
  },
  {
   "cell_type": "markdown",
   "id": "46739523-e0f8-4cdf-8da0-062ca6a9a3a4",
   "metadata": {},
   "source": [
    "# Q5. What is inheritance? Give an example for each type of inheritance."
   ]
  },
  {
   "cell_type": "code",
   "execution_count": 2,
   "id": "91ea5e53-7614-46f6-add1-0c18099aa352",
   "metadata": {},
   "outputs": [],
   "source": [
    "# Inheritance is oops concept in which we can use parent class method in child class by inheritance and it is of five types\n",
    "#1) Single Inheritance\n",
    "#2) Multiple Inheritance\n",
    "#3) Multi-level Inheritance\n",
    "#4) Hierarchal Inheritance\n",
    "#5) Hybrid Inheritance\n",
    "\n",
    "class pwskills :\n",
    "    \n",
    "    def test_pwskills(self):\n",
    "        print(\"I want to become a Data Scientist\")\n"
   ]
  },
  {
   "cell_type": "code",
   "execution_count": 3,
   "id": "594d1aae-7bce-40b2-8cc9-1d99f04df0b4",
   "metadata": {},
   "outputs": [],
   "source": [
    "class pwskills1(pwskills) :\n",
    "    pass"
   ]
  },
  {
   "cell_type": "code",
   "execution_count": 4,
   "id": "1767d97a-ce2c-4e5e-823e-011f516f2ab9",
   "metadata": {},
   "outputs": [],
   "source": [
    "object_ankit = pwskills1()"
   ]
  },
  {
   "cell_type": "code",
   "execution_count": 5,
   "id": "128a60f7-1b57-4bf7-9027-570b3c12751b",
   "metadata": {},
   "outputs": [
    {
     "name": "stdout",
     "output_type": "stream",
     "text": [
      "I want to become a Data Scientist\n"
     ]
    }
   ],
   "source": [
    "object_ankit.test_pwskills()"
   ]
  },
  {
   "cell_type": "code",
   "execution_count": null,
   "id": "181b11d1-3c66-41f9-8c9e-045f3c0deb0a",
   "metadata": {},
   "outputs": [],
   "source": []
  }
 ],
 "metadata": {
  "kernelspec": {
   "display_name": "Python 3 (ipykernel)",
   "language": "python",
   "name": "python3"
  },
  "language_info": {
   "codemirror_mode": {
    "name": "ipython",
    "version": 3
   },
   "file_extension": ".py",
   "mimetype": "text/x-python",
   "name": "python",
   "nbconvert_exporter": "python",
   "pygments_lexer": "ipython3",
   "version": "3.10.8"
  }
 },
 "nbformat": 4,
 "nbformat_minor": 5
}
