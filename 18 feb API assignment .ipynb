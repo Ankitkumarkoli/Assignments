{
 "cells": [
  {
   "cell_type": "markdown",
   "id": "e8837d84-5287-41ba-9026-59d39b3797ac",
   "metadata": {},
   "source": [
    "# Q1. What is an API? Give an example, where an API is used in real life."
   ]
  },
  {
   "cell_type": "code",
   "execution_count": 1,
   "id": "5af1a544-5763-48c2-b99f-8cd39c3d5fd7",
   "metadata": {},
   "outputs": [],
   "source": [
    "# API is Application programming interface which is used to connect client to the server\n",
    "# Ex - Google is using web API "
   ]
  },
  {
   "cell_type": "code",
   "execution_count": null,
   "id": "ad195440-8a82-484a-a7b6-796cc1d4b59d",
   "metadata": {},
   "outputs": [],
   "source": []
  },
  {
   "cell_type": "markdown",
   "id": "54e73159-4397-4a12-980f-5373de6a6cec",
   "metadata": {},
   "source": [
    "# Q2. Give advantages and disadvantages of using API."
   ]
  },
  {
   "cell_type": "code",
   "execution_count": 2,
   "id": "dcec55c3-0104-4e47-9ba3-7b7143e10cca",
   "metadata": {},
   "outputs": [
    {
     "data": {
      "text/plain": [
       "'Advantages:-\\n1) Interpretation of real object\\n2) Identification of complex patterns and complex situations.\\n3) Multi scale representation\\n4) Ability to include\\n5) Ignore feature intelligently\\n\\nDisadvantages:-\\n1) Subjective\\n2) Time consuming\\n3) Human error\\n4) Fixed scale is necessary'"
      ]
     },
     "execution_count": 2,
     "metadata": {},
     "output_type": "execute_result"
    }
   ],
   "source": [
    "'''Advantages:-\n",
    "1) Interpretation of real object\n",
    "2) Identification of complex patterns and complex situations.\n",
    "3) Multi scale representation\n",
    "4) Ability to include\n",
    "5) Ignore feature intelligently\n",
    "\n",
    "Disadvantages:-\n",
    "1) Subjective\n",
    "2) Time consuming\n",
    "3) Human error\n",
    "4) Fixed scale is necessary'''"
   ]
  },
  {
   "cell_type": "code",
   "execution_count": null,
   "id": "e2a1f69c-eae5-4bc8-b4af-d73bfdcde3e7",
   "metadata": {},
   "outputs": [],
   "source": []
  },
  {
   "cell_type": "markdown",
   "id": "76c38ec5-33c2-4e11-9ffe-65d434f85047",
   "metadata": {},
   "source": [
    "# Q3. What is a Web API? Differentiate between API and Web API."
   ]
  },
  {
   "cell_type": "code",
   "execution_count": 3,
   "id": "7f9a427b-89a9-4ce1-addb-0803102b3d07",
   "metadata": {},
   "outputs": [
    {
     "data": {
      "text/plain": [
       "'Web API is a interface which is having a set of functions and these set of function allow programmers to acquire some specific feature or the data of an application.\\n\\nDifference:-\\n\\nWeb API\\n- Web service is a collection of open source protocols and standards used for exchanging data between systems or applications.\\n- Web service is used for REST, SOAP, and XML-RPC for communication.\\n- Web service supports only HTTP protocol.\\n- All Web services are API.\\n\\nAPI\\n- API is a software interface that allows two applications to interact with each other without any user involvement.\\n- API is used for any style of communication.\\n- API supports HTTP/HTTPS protocol.\\n- All APIs are not web services.'"
      ]
     },
     "execution_count": 3,
     "metadata": {},
     "output_type": "execute_result"
    }
   ],
   "source": [
    "'''Web API is a interface which is having a set of functions and these set of function allow programmers to acquire some specific feature or the data of an application.\n",
    "\n",
    "Difference:-\n",
    "\n",
    "Web API\n",
    "- Web service is a collection of open source protocols and standards used for exchanging data between systems or applications.\n",
    "- Web service is used for REST, SOAP, and XML-RPC for communication.\n",
    "- Web service supports only HTTP protocol.\n",
    "- All Web services are API.\n",
    "\n",
    "API\n",
    "- API is a software interface that allows two applications to interact with each other without any user involvement.\n",
    "- API is used for any style of communication.\n",
    "- API supports HTTP/HTTPS protocol.\n",
    "- All APIs are not web services.'''"
   ]
  },
  {
   "cell_type": "code",
   "execution_count": null,
   "id": "d9d33c5a-62dd-428b-b03b-f73191ed84c4",
   "metadata": {},
   "outputs": [],
   "source": []
  },
  {
   "cell_type": "markdown",
   "id": "68b93b06-d38f-4de4-9573-a7509ea3db25",
   "metadata": {},
   "source": [
    "# Q4. Explain REST and SOAP Architecture. Mention shortcomings of SOAP."
   ]
  },
  {
   "cell_type": "code",
   "execution_count": 4,
   "id": "3ad9f761-7769-4d90-a6b5-ebc2c409e614",
   "metadata": {},
   "outputs": [
    {
     "data": {
      "text/plain": [
       "'REST Architecture:-\\n\\nREST is Representatiional state transfer, REST Architacture is a set of rule to be used for creating web services and it allow requesting system and manipulate \\nby using a uniform and predefined set of rule and REST is known for its simplicity,Scalability,Flexibilty,ease of use,stateless protocols.\\n\\nSOAP Architecture:-\\n\\nSOAP is simple object access protocol is a network protocols for exchanging structured data between nodes, its uses XML format to transfer messages,\\nit work on protocol like HTML and SMTP.'"
      ]
     },
     "execution_count": 4,
     "metadata": {},
     "output_type": "execute_result"
    }
   ],
   "source": [
    "'''REST Architecture:-\n",
    "\n",
    "REST is Representatiional state transfer, REST Architacture is a set of rule to be used for creating web services and it allow requesting system and manipulate \n",
    "by using a uniform and predefined set of rule and REST is known for its simplicity,Scalability,Flexibilty,ease of use,stateless protocols.\n",
    "\n",
    "SOAP Architecture:-\n",
    "\n",
    "SOAP is simple object access protocol is a network protocols for exchanging structured data between nodes, its uses XML format to transfer messages,\n",
    "it work on protocol like HTML and SMTP.'''"
   ]
  },
  {
   "cell_type": "code",
   "execution_count": null,
   "id": "07f88a2c-c259-4abe-8ac4-f15bb9961e60",
   "metadata": {},
   "outputs": [],
   "source": []
  },
  {
   "cell_type": "markdown",
   "id": "bee96ec2-bdae-4268-ab8f-6001c1e25181",
   "metadata": {},
   "source": [
    "# Q5. Differentiate between REST and SOAP."
   ]
  },
  {
   "cell_type": "code",
   "execution_count": 6,
   "id": "f5059aad-2c31-4a3b-bb86-112768514669",
   "metadata": {},
   "outputs": [
    {
     "data": {
      "text/plain": [
       "'REST :-\\n- REST stands for Representational state format.\\n- REST use URL to expose business logic.\\n- REST require less bandwidth.\\n- REST more prefered than SOAP.\\n- REST is a architectural style\\n\\nSOAP :-\\n- SOAP is a protocal\\n- SOAP stands for simple object access protocol.\\n- SOAP uses services interface to expose the business logic.\\n- SOAP define its own security.\\n- SOAP permits XML data format only.\\n- SOAP is less prefered than REST. '"
      ]
     },
     "execution_count": 6,
     "metadata": {},
     "output_type": "execute_result"
    }
   ],
   "source": [
    "'''REST :-\n",
    "- REST stands for Representational state format.\n",
    "- REST use URL to expose business logic.\n",
    "- REST require less bandwidth.\n",
    "- REST more prefered than SOAP.\n",
    "- REST is a architectural style\n",
    "\n",
    "SOAP :-\n",
    "- SOAP is a protocal\n",
    "- SOAP stands for simple object access protocol.\n",
    "- SOAP uses services interface to expose the business logic.\n",
    "- SOAP define its own security.\n",
    "- SOAP permits XML data format only.\n",
    "- SOAP is less prefered than REST. '''"
   ]
  },
  {
   "cell_type": "code",
   "execution_count": null,
   "id": "e6cd0de3-463a-4acc-9943-5617d69f6c38",
   "metadata": {},
   "outputs": [],
   "source": []
  }
 ],
 "metadata": {
  "kernelspec": {
   "display_name": "Python 3 (ipykernel)",
   "language": "python",
   "name": "python3"
  },
  "language_info": {
   "codemirror_mode": {
    "name": "ipython",
    "version": 3
   },
   "file_extension": ".py",
   "mimetype": "text/x-python",
   "name": "python",
   "nbconvert_exporter": "python",
   "pygments_lexer": "ipython3",
   "version": "3.10.8"
  }
 },
 "nbformat": 4,
 "nbformat_minor": 5
}
