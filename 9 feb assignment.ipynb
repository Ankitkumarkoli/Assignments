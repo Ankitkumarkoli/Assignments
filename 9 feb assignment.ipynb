{
 "cells": [
  {
   "cell_type": "markdown",
   "id": "aecbe689-a416-471c-a745-aa3376f630c1",
   "metadata": {},
   "source": [
    "# Q1, Create a vehicle class with an init method having instance variables as name_of_vehicle, max_speed and average_of_vehicle."
   ]
  },
  {
   "cell_type": "code",
   "execution_count": 1,
   "id": "271a26fd-3af0-4c72-838a-6929a4aa5e24",
   "metadata": {},
   "outputs": [],
   "source": [
    "class vehicle :\n",
    "    \n",
    "    def __init__(self, name_of_vehicle, max_speed, average_of_vehicle):\n",
    "        self.name_of_vehicle = name_of_vehicle\n",
    "        self.max_speed = max_speed\n",
    "        self.average_of_vehicle = average_of_vehicle \n",
    "        "
   ]
  },
  {
   "cell_type": "markdown",
   "id": "837bd135-eedc-4aa9-a940-5227eaf67d48",
   "metadata": {},
   "source": [
    "# Q2.  Create a child class car from the vehicle class created in Que 1, which will inherit the vehicle class. Create a method named seating_capacity which takes capacity as an argument and returns the name of the vehicle and its seating capacity."
   ]
  },
  {
   "cell_type": "code",
   "execution_count": 67,
   "id": "02ef78a5-7077-40d1-8149-3850d6ac9f10",
   "metadata": {},
   "outputs": [],
   "source": [
    "class vehicle :\n",
    "    \n",
    "    def __init__(self, name_of_vehicle, seating_capacity_of_car):\n",
    "        self.name_of_vehicle = name_of_vehicle\n",
    "        self.seating_capacity_of_car = seating_capacity_of_car "
   ]
  },
  {
   "cell_type": "code",
   "execution_count": 72,
   "id": "4b51cb7c-bb22-4e01-8d82-846e4cff9923",
   "metadata": {},
   "outputs": [],
   "source": [
    "class car(vehicle) :\n",
    "    \n",
    "    def seating_capacity(self):\n",
    "        print(\"name of the vehicle: \",self.name_of_vehicle)\n",
    "        print(\"seating capacity: \",self.seating_capacity_of_car)\n",
    "        \n",
    "    "
   ]
  },
  {
   "cell_type": "code",
   "execution_count": 73,
   "id": "49dd76ea-83f1-4b96-87f0-5f81b2096fed",
   "metadata": {},
   "outputs": [],
   "source": [
    "details = car(\"Maruti_suzuki\", 6)"
   ]
  },
  {
   "cell_type": "code",
   "execution_count": 74,
   "id": "5282c134-3b5f-497d-afe4-a20e63cdeee0",
   "metadata": {},
   "outputs": [
    {
     "name": "stdout",
     "output_type": "stream",
     "text": [
      "name of the vehicle:  Maruti_suzuki\n",
      "seating capacity:  6\n"
     ]
    }
   ],
   "source": [
    "details.seating_capacity()"
   ]
  },
  {
   "cell_type": "markdown",
   "id": "4e141bfe-e1e4-494f-a28c-22bed5a96819",
   "metadata": {},
   "source": [
    "# Q3. What is multiple inheritance? Write a python code to demonstrate multiple inheritance."
   ]
  },
  {
   "cell_type": "code",
   "execution_count": 20,
   "id": "ba103c5e-fd92-42f1-bb3f-69e73a7baf73",
   "metadata": {},
   "outputs": [],
   "source": [
    "# multiple inheritence is that where a class can inherit from more than one class."
   ]
  },
  {
   "cell_type": "code",
   "execution_count": 23,
   "id": "5de3d4fa-7eab-40fc-a536-aeaf916ed755",
   "metadata": {},
   "outputs": [],
   "source": [
    "class test1 :\n",
    "    \n",
    "    def assignment_test1(self):\n",
    "        return \"I will my oops assignment\""
   ]
  },
  {
   "cell_type": "code",
   "execution_count": 24,
   "id": "0d491aaf-d7f7-426a-ab58-1e3aa0d3320a",
   "metadata": {},
   "outputs": [],
   "source": [
    "class test2 :\n",
    "    def assignment_test2(self):\n",
    "        return \"I completed my opps assignment\""
   ]
  },
  {
   "cell_type": "code",
   "execution_count": 25,
   "id": "aba21e10-9631-4051-8578-055e710abfbe",
   "metadata": {},
   "outputs": [],
   "source": [
    "class test3(test1,test2):\n",
    "    pass\n",
    "    "
   ]
  },
  {
   "cell_type": "code",
   "execution_count": 26,
   "id": "723e070b-52bf-47b1-919c-15a69f37e63c",
   "metadata": {},
   "outputs": [],
   "source": [
    "test4 = test3()"
   ]
  },
  {
   "cell_type": "code",
   "execution_count": 28,
   "id": "7dad01c5-6aa7-4a80-adae-ca0846383299",
   "metadata": {},
   "outputs": [
    {
     "data": {
      "text/plain": [
       "'I will my oops assignment'"
      ]
     },
     "execution_count": 28,
     "metadata": {},
     "output_type": "execute_result"
    }
   ],
   "source": [
    "test4.assignment_test1()"
   ]
  },
  {
   "cell_type": "code",
   "execution_count": 29,
   "id": "aba8ff55-848f-4808-ae74-8672ba7f03be",
   "metadata": {},
   "outputs": [
    {
     "data": {
      "text/plain": [
       "'I completed my opps assignment'"
      ]
     },
     "execution_count": 29,
     "metadata": {},
     "output_type": "execute_result"
    }
   ],
   "source": [
    "test4.assignment_test2()"
   ]
  },
  {
   "cell_type": "markdown",
   "id": "5a945e37-2843-453c-8684-28d01c6fc57f",
   "metadata": {},
   "source": [
    "# Q4. What are getter and setter in python? Create a class and create a getter and a setter method in this class."
   ]
  },
  {
   "cell_type": "code",
   "execution_count": 1,
   "id": "4ed7c352-473a-4e46-884a-bc53b1b23cce",
   "metadata": {},
   "outputs": [],
   "source": [
    "# Getter are the method in python that are used in OOPs to access a class's private attribute.\n",
    "# Setter are the method that is useful in OOPs to set the values of private attributes in a class."
   ]
  },
  {
   "cell_type": "code",
   "execution_count": 2,
   "id": "5890e56c-8a94-4761-9b4a-b8cead2989d2",
   "metadata": {},
   "outputs": [],
   "source": [
    "class pwskills :\n",
    "    \n",
    "    def __init__(self, course_price, course_name):\n",
    "        \n",
    "        self.__course_price = course_price\n",
    "        self._course_name = course_name\n",
    "        \n",
    "    @property\n",
    "    def course_dekhlo(self):\n",
    "        return self.__course_price\n",
    "    \n",
    "    @course_dekhlo.setter\n",
    "    def price_decide_krlo(self, price):\n",
    "        if price <= 3500:\n",
    "            pass\n",
    "        else:\n",
    "            self.__course_price = price"
   ]
  },
  {
   "cell_type": "code",
   "execution_count": 3,
   "id": "50b1f773-3e63-439b-a965-6d74cf2f9c18",
   "metadata": {},
   "outputs": [],
   "source": [
    "a = pwskills(3200,\"DataScience Masters\")"
   ]
  },
  {
   "cell_type": "code",
   "execution_count": 4,
   "id": "83037b37-f396-42e0-87cd-7f961b3b0dd7",
   "metadata": {},
   "outputs": [
    {
     "data": {
      "text/plain": [
       "3200"
      ]
     },
     "execution_count": 4,
     "metadata": {},
     "output_type": "execute_result"
    }
   ],
   "source": [
    "a.course_dekhlo"
   ]
  },
  {
   "cell_type": "code",
   "execution_count": 6,
   "id": "0cd21990-1ae0-43ca-a820-9d0e5ec9d719",
   "metadata": {},
   "outputs": [],
   "source": [
    "a.price_decide_krlo = 4000"
   ]
  },
  {
   "cell_type": "code",
   "execution_count": 7,
   "id": "3121f8be-cddd-4776-ab7a-32a9df8eb130",
   "metadata": {},
   "outputs": [
    {
     "data": {
      "text/plain": [
       "4000"
      ]
     },
     "execution_count": 7,
     "metadata": {},
     "output_type": "execute_result"
    }
   ],
   "source": [
    "a.course_dekhlo"
   ]
  },
  {
   "cell_type": "code",
   "execution_count": null,
   "id": "7eb72acb-5d65-439e-89e7-bb7da43e4f7f",
   "metadata": {},
   "outputs": [],
   "source": []
  },
  {
   "cell_type": "markdown",
   "id": "ffb4582b-eecc-478e-8017-4323e3a1cdc8",
   "metadata": {},
   "source": [
    "# Q5.What is method overriding in python? Write a python code to demonstrate method overriding."
   ]
  },
  {
   "cell_type": "code",
   "execution_count": 10,
   "id": "33ff9908-c064-46c9-9d1e-db1bd9a91234",
   "metadata": {},
   "outputs": [],
   "source": [
    "# Method overriding is that allows a child class to provide a specific implementation of a method that is already provided by one of its parent class."
   ]
  },
  {
   "cell_type": "code",
   "execution_count": 16,
   "id": "36248b12-1ea7-4ae5-b3fd-a05405d36622",
   "metadata": {},
   "outputs": [],
   "source": [
    "class parent :\n",
    "    \n",
    "    def __init__(ankit):\n",
    "        ankit.parent_thought = \"parent class ke ander hu\"\n",
    "        \n",
    "    def parent_class_dikha(ankit):\n",
    "        print(ankit.parent_thought)\n",
    "        \n",
    "\n",
    "class child(parent):\n",
    "    \n",
    "    def __init__(ankit):\n",
    "        ankit.child_thought = \"child class ke ander hu\"\n",
    "        \n",
    "    def child_class_dikha(ankit):\n",
    "        print(ankit.child_thought)\n",
    "            "
   ]
  },
  {
   "cell_type": "code",
   "execution_count": 17,
   "id": "b4c13ec3-0057-4af8-b213-832c72b90f17",
   "metadata": {},
   "outputs": [],
   "source": [
    "a = parent()\n",
    "b = child()"
   ]
  },
  {
   "cell_type": "code",
   "execution_count": 18,
   "id": "64679ecd-6d78-4b97-a3e5-cfac582ebbd2",
   "metadata": {},
   "outputs": [
    {
     "name": "stdout",
     "output_type": "stream",
     "text": [
      "parent class ke ander hu\n",
      "child class ke ander hu\n"
     ]
    }
   ],
   "source": [
    "a.parent_class_dikha()\n",
    "b.child_class_dikha()"
   ]
  },
  {
   "cell_type": "code",
   "execution_count": null,
   "id": "e0e3474f-9eff-4d9e-91eb-11f9f7de61a6",
   "metadata": {},
   "outputs": [],
   "source": []
  }
 ],
 "metadata": {
  "kernelspec": {
   "display_name": "Python 3 (ipykernel)",
   "language": "python",
   "name": "python3"
  },
  "language_info": {
   "codemirror_mode": {
    "name": "ipython",
    "version": 3
   },
   "file_extension": ".py",
   "mimetype": "text/x-python",
   "name": "python",
   "nbconvert_exporter": "python",
   "pygments_lexer": "ipython3",
   "version": "3.10.8"
  }
 },
 "nbformat": 4,
 "nbformat_minor": 5
}
