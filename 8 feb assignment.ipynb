{
 "cells": [
  {
   "cell_type": "markdown",
   "id": "ab86d4d4-d620-426d-a21c-1bab729bf814",
   "metadata": {},
   "source": [
    "# Q1. What is Abstraction in OOps? Explain with an example."
   ]
  },
  {
   "cell_type": "code",
   "execution_count": 1,
   "id": "7a25ccf4-d9f7-438a-b65f-0edc3edcc98f",
   "metadata": {},
   "outputs": [],
   "source": [
    "# It helps to hide the unnecessory concept from the users and help to show the necessory concept to the users."
   ]
  },
  {
   "cell_type": "code",
   "execution_count": 1,
   "id": "be3659c6-4acd-4ce4-b080-3300bc55d1dd",
   "metadata": {},
   "outputs": [],
   "source": [
    "from abc import ABC\n",
    "\n",
    "class Datascience(ABC):\n",
    "    def salary(self):\n",
    "        pass\n",
    "    \n",
    "class DataAnalyst(Datascience):\n",
    "    def salary(self):\n",
    "        print(\"salary is less as compare to data scientist\")\n",
    "        \n",
    "class BusinessAnalyst(Datascience):\n",
    "    def salary(self):\n",
    "        print(\"same as data analyst\")"
   ]
  },
  {
   "cell_type": "code",
   "execution_count": 2,
   "id": "2e2cc662-0dc2-4443-8e4c-fb81f00830fc",
   "metadata": {},
   "outputs": [],
   "source": [
    "a = Datascience()\n",
    "b = DataAnalyst()\n",
    "c = BusinessAnalyst()"
   ]
  },
  {
   "cell_type": "code",
   "execution_count": 3,
   "id": "598af88d-6d20-4941-9069-becf8ac4768e",
   "metadata": {},
   "outputs": [
    {
     "name": "stdout",
     "output_type": "stream",
     "text": [
      "salary is less as compare to data scientist\n",
      "same as data analyst\n"
     ]
    }
   ],
   "source": [
    "a.salary()\n",
    "b.salary()\n",
    "c.salary()"
   ]
  },
  {
   "cell_type": "code",
   "execution_count": null,
   "id": "0820cbc0-f36e-4395-b297-9daac5aa4d13",
   "metadata": {},
   "outputs": [],
   "source": []
  },
  {
   "cell_type": "markdown",
   "id": "197270b8-5c78-4531-aeac-23daa1b375de",
   "metadata": {},
   "source": [
    "# Q2. Differentiate between Abstraction and Encapsulation. Explain with an example."
   ]
  },
  {
   "cell_type": "code",
   "execution_count": null,
   "id": "287770bf-2b51-495b-857f-6fa81ca8d52c",
   "metadata": {},
   "outputs": [],
   "source": [
    "# Encapsulation is data hiding and Abstraction is hiding of complexity"
   ]
  },
  {
   "cell_type": "code",
   "execution_count": 4,
   "id": "815d4cd9-eacc-43d2-b208-16014b218108",
   "metadata": {},
   "outputs": [],
   "source": [
    "# Encapsulation example\n",
    "\n",
    "class car:\n",
    "    \n",
    "    def __init__(self, year, make, model, speed):\n",
    "        \n",
    "        self.__year = year\n",
    "        self.__make = make\n",
    "        self.__model = model\n",
    "        self.__speed = 0\n",
    "        \n",
    "    def set_speed(self,speed):\n",
    "        self.__speed = 0 if speed < 0 else speed\n",
    "        \n",
    "    def get_speed(self):\n",
    "        return self.__speed"
   ]
  },
  {
   "cell_type": "code",
   "execution_count": 5,
   "id": "c54cee39-08ab-4795-83f2-0caabf5d711c",
   "metadata": {},
   "outputs": [],
   "source": [
    "c = car(2000,\"Audi\",\"Audi_R8\",60)"
   ]
  },
  {
   "cell_type": "code",
   "execution_count": 6,
   "id": "c4716276-8e1b-4c19-936e-a61e0bddcdeb",
   "metadata": {},
   "outputs": [
    {
     "data": {
      "text/plain": [
       "'Audi_R8'"
      ]
     },
     "execution_count": 6,
     "metadata": {},
     "output_type": "execute_result"
    }
   ],
   "source": [
    "c._car__model"
   ]
  },
  {
   "cell_type": "code",
   "execution_count": 7,
   "id": "22084c27-524d-4abb-977a-656ddc48dc7b",
   "metadata": {},
   "outputs": [],
   "source": [
    "c.set_speed(-123)"
   ]
  },
  {
   "cell_type": "code",
   "execution_count": 8,
   "id": "4d2aca05-474d-4414-87cb-5f523d3aaa77",
   "metadata": {},
   "outputs": [
    {
     "data": {
      "text/plain": [
       "0"
      ]
     },
     "execution_count": 8,
     "metadata": {},
     "output_type": "execute_result"
    }
   ],
   "source": [
    "c.get_speed()"
   ]
  },
  {
   "cell_type": "code",
   "execution_count": 9,
   "id": "23a1e9d0-75dd-4e56-ad41-58548b15c1c6",
   "metadata": {},
   "outputs": [
    {
     "name": "stdout",
     "output_type": "stream",
     "text": [
      "salary is less as compare to data scientist\n",
      "same as data analyst\n"
     ]
    }
   ],
   "source": [
    "# Abstraction example\n",
    "\n",
    "from abc import ABC\n",
    "\n",
    "class Datascience(ABC):\n",
    "    def salary(self):\n",
    "        pass\n",
    "    \n",
    "class DataAnalyst(Datascience):\n",
    "    def salary(self):\n",
    "        print(\"salary is less as compare to data scientist\")\n",
    "        \n",
    "class BusinessAnalyst(Datascience):\n",
    "    def salary(self):\n",
    "        print(\"same as data analyst\")\n",
    "\n",
    "a = Datascience()\n",
    "b = DataAnalyst()\n",
    "c = BusinessAnalyst()\n",
    "\n",
    "a.salary()\n",
    "b.salary()\n",
    "c.salary()      "
   ]
  },
  {
   "cell_type": "code",
   "execution_count": null,
   "id": "90bbb379-7368-49da-9cba-219902e1397c",
   "metadata": {},
   "outputs": [],
   "source": []
  },
  {
   "cell_type": "code",
   "execution_count": null,
   "id": "91b71138-6419-42f6-8b20-de287a6432df",
   "metadata": {},
   "outputs": [],
   "source": []
  },
  {
   "cell_type": "code",
   "execution_count": null,
   "id": "8f20bb8c-829a-4802-a4f5-b0443505e512",
   "metadata": {},
   "outputs": [],
   "source": []
  },
  {
   "cell_type": "markdown",
   "id": "900fc5e9-98d8-453f-ab28-ac336f204bed",
   "metadata": {},
   "source": [
    "# Q3. What is abc module in python? Why is it used?"
   ]
  },
  {
   "cell_type": "code",
   "execution_count": 10,
   "id": "a41927ab-68da-408f-b4a6-d61f42236bcb",
   "metadata": {},
   "outputs": [],
   "source": [
    "# abc is Abstract Base Class \n",
    "# abstract base class(abc) is to provide a standardized way to test whether an object adheres to a given specification and It can also prevent any attempt to instantiate a subclass that doesn’t override a particular method in the superclass."
   ]
  },
  {
   "cell_type": "code",
   "execution_count": null,
   "id": "82665086-bbf2-49c6-ad6d-2bbba5aeeb64",
   "metadata": {},
   "outputs": [],
   "source": []
  },
  {
   "cell_type": "markdown",
   "id": "292211f6-34b1-41a0-a344-9d6b79a9c628",
   "metadata": {},
   "source": [
    "# Q4. How can we achieve data abstraction?"
   ]
  },
  {
   "cell_type": "code",
   "execution_count": null,
   "id": "bea0be39-88c8-4d40-a150-fb576002b93a",
   "metadata": {},
   "outputs": [],
   "source": [
    "# There are three level of data abstraction\n",
    "# 1) Physical :- It tells us how the data is actually stored in memory\n",
    "# 2) Logical :-  Inform that is actually stored in the database in the form of tables\n",
    "# 3) View :-  Only a part of the actual database is viewed by the users and  Only a part of the actual database is viewed by the users\n",
    "\n",
    "\n"
   ]
  },
  {
   "cell_type": "code",
   "execution_count": null,
   "id": "7c36eace-9c15-4c1a-8f20-d4da2aa1c92b",
   "metadata": {},
   "outputs": [],
   "source": []
  },
  {
   "cell_type": "markdown",
   "id": "97fdf1b0-2d8c-4a3b-ad8b-469fffc02201",
   "metadata": {},
   "source": [
    "# Q5. Can we create an instance of an abstract class? Explain your answer."
   ]
  },
  {
   "cell_type": "code",
   "execution_count": null,
   "id": "b639b0b7-5749-454f-a0de-27ad8e740a7c",
   "metadata": {},
   "outputs": [],
   "source": []
  },
  {
   "cell_type": "code",
   "execution_count": null,
   "id": "c9b2de00-b02f-4783-a8c0-ec22b043856f",
   "metadata": {},
   "outputs": [],
   "source": []
  }
 ],
 "metadata": {
  "kernelspec": {
   "display_name": "Python 3 (ipykernel)",
   "language": "python",
   "name": "python3"
  },
  "language_info": {
   "codemirror_mode": {
    "name": "ipython",
    "version": 3
   },
   "file_extension": ".py",
   "mimetype": "text/x-python",
   "name": "python",
   "nbconvert_exporter": "python",
   "pygments_lexer": "ipython3",
   "version": "3.10.8"
  }
 },
 "nbformat": 4,
 "nbformat_minor": 5
}
