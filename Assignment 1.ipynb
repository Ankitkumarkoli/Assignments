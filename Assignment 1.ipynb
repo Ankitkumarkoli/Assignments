{
 "cells": [
  {
   "cell_type": "markdown",
   "id": "e48b44c7-89a9-4619-80a5-af9f8285b9df",
   "metadata": {},
   "source": [
    "Question1: Who developed the python programming language"
   ]
  },
  {
   "cell_type": "code",
   "execution_count": 2,
   "id": "2180c4bf-48e8-4d56-806b-e902089f87d3",
   "metadata": {},
   "outputs": [],
   "source": [
    "Answer = (\"Guido Van Rossum\")"
   ]
  },
  {
   "cell_type": "markdown",
   "id": "38f581cb-c601-4ae3-81b3-7034886357d2",
   "metadata": {},
   "source": [
    "Question2: Which type of programming does python support"
   ]
  },
  {
   "cell_type": "code",
   "execution_count": 3,
   "id": "09311da1-984a-430f-bee8-9719ea0e6428",
   "metadata": {},
   "outputs": [],
   "source": [
    "Answer = \"OOPs,structured and functional programming\""
   ]
  },
  {
   "cell_type": "markdown",
   "id": "6032da2d-46df-442b-bc69-6eafc89a6345",
   "metadata": {},
   "source": [
    "Question3: Is python case sensitive when dealing with identifiers"
   ]
  },
  {
   "cell_type": "code",
   "execution_count": 4,
   "id": "3c6026ff-2fc6-4629-a6d0-cc6b7219a820",
   "metadata": {},
   "outputs": [],
   "source": [
    "Answer = (\"yes\")"
   ]
  },
  {
   "cell_type": "markdown",
   "id": "cbc3e655-3337-4098-a755-d128daa0f6eb",
   "metadata": {},
   "source": [
    "Question4: Is python code compiled or interpreted"
   ]
  },
  {
   "cell_type": "code",
   "execution_count": 5,
   "id": "c31f6d9a-0e95-425d-9b76-cc976cd7edb1",
   "metadata": {},
   "outputs": [],
   "source": [
    "Answer = (\"Interpreted\")"
   ]
  },
  {
   "cell_type": "markdown",
   "id": "436deb2e-6731-4205-969f-9c6d923382a8",
   "metadata": {},
   "source": [
    "Question5: Name a few block of code used to define in python language"
   ]
  },
  {
   "cell_type": "code",
   "execution_count": 6,
   "id": "1eea0710-a90d-4baf-bef2-e84939d4e50a",
   "metadata": {},
   "outputs": [
    {
     "name": "stdout",
     "output_type": "stream",
     "text": [
      "123\n"
     ]
    }
   ],
   "source": [
    "a = 123\n",
    "print(a)"
   ]
  },
  {
   "cell_type": "code",
   "execution_count": 7,
   "id": "ef914304-8c77-4dfe-a456-83d2765ed361",
   "metadata": {},
   "outputs": [],
   "source": [
    "s = (\"pwskills\")"
   ]
  },
  {
   "cell_type": "code",
   "execution_count": 8,
   "id": "bed78d79-f3f4-49f7-a4fe-9276641cc1c7",
   "metadata": {},
   "outputs": [
    {
     "name": "stdout",
     "output_type": "stream",
     "text": [
      "pwskills\n"
     ]
    }
   ],
   "source": [
    "print(s)"
   ]
  },
  {
   "cell_type": "code",
   "execution_count": 9,
   "id": "d03a5079-5cdf-425d-bbfa-a1a3f54f2a86",
   "metadata": {},
   "outputs": [
    {
     "name": "stdout",
     "output_type": "stream",
     "text": [
      "[1, 2, 3, 'boss', 12.34, True]\n"
     ]
    }
   ],
   "source": [
    "q = [1,2,3,'boss',12.34,True]\n",
    "print(q)"
   ]
  },
  {
   "cell_type": "code",
   "execution_count": 10,
   "id": "259f0d08-911f-4c5f-9156-1028b7473bca",
   "metadata": {},
   "outputs": [
    {
     "name": "stdout",
     "output_type": "stream",
     "text": [
      "(1, 2, 3, 'boss', 12.34, True)\n"
     ]
    }
   ],
   "source": [
    "w = (1,2,3,'boss',12.34,True)\n",
    "print(w)"
   ]
  },
  {
   "cell_type": "code",
   "execution_count": 11,
   "id": "ab4e5ef3-ae79-40a8-add6-be8b235e8115",
   "metadata": {},
   "outputs": [
    {
     "name": "stdout",
     "output_type": "stream",
     "text": [
      "{1, 2, 3, 4, 5, 6, 7, 8, 9}\n"
     ]
    }
   ],
   "source": [
    "e = {1,1,1,2,4,5,3,4,4,6,7,6,6,6,6,7,8,9,9,9,}\n",
    "print(e)"
   ]
  },
  {
   "cell_type": "code",
   "execution_count": 12,
   "id": "cb08454a-e07e-41d5-9901-c6390ee7b326",
   "metadata": {},
   "outputs": [
    {
     "data": {
      "text/plain": [
       "'p'"
      ]
     },
     "execution_count": 12,
     "metadata": {},
     "output_type": "execute_result"
    }
   ],
   "source": [
    "s[0]"
   ]
  },
  {
   "cell_type": "code",
   "execution_count": 13,
   "id": "f1b5b685-5d60-40f4-b431-b1d9b878f9ae",
   "metadata": {},
   "outputs": [
    {
     "data": {
      "text/plain": [
       "'pws'"
      ]
     },
     "execution_count": 13,
     "metadata": {},
     "output_type": "execute_result"
    }
   ],
   "source": [
    "s[0:3]"
   ]
  },
  {
   "cell_type": "markdown",
   "id": "44a28631-b024-40a4-82c5-32712f66cfa2",
   "metadata": {},
   "source": [
    "Question6: What is the correct extension of python file"
   ]
  },
  {
   "cell_type": "code",
   "execution_count": 14,
   "id": "df0c58f0-9513-4ae5-8d01-cfbcfb1b28cd",
   "metadata": {},
   "outputs": [],
   "source": [
    "Answer = (\"py\")"
   ]
  },
  {
   "cell_type": "markdown",
   "id": "44210423-bbdf-4238-8e65-ee2dc815c082",
   "metadata": {},
   "source": [
    "Question7: State a character used to give single line comment in python"
   ]
  },
  {
   "cell_type": "code",
   "execution_count": 15,
   "id": "48fb9f8f-94f5-4b49-b993-0731a94363e7",
   "metadata": {},
   "outputs": [],
   "source": [
    "#state a character used to give single line comment in python"
   ]
  },
  {
   "cell_type": "markdown",
   "id": "aa3138fa-8e17-4a22-963f-171e5d3dbfab",
   "metadata": {},
   "source": [
    "Question8: Mention functon which can help us to find the version of python that we are currently working on"
   ]
  },
  {
   "cell_type": "code",
   "execution_count": 16,
   "id": "da5688f9-855c-4b56-8628-709f44d971ef",
   "metadata": {},
   "outputs": [],
   "source": [
    "Answer = (\"sys.version\")"
   ]
  },
  {
   "cell_type": "markdown",
   "id": "d4da956b-6130-4761-865c-319e74eaf429",
   "metadata": {},
   "source": [
    "Question9: python support the creation of anonymous function at runtime,using a construct called ________________"
   ]
  },
  {
   "cell_type": "code",
   "execution_count": 17,
   "id": "703ea06b-6f3d-4649-9584-82b54529e0b8",
   "metadata": {},
   "outputs": [],
   "source": [
    "Answer = (\"Lambda\")"
   ]
  },
  {
   "cell_type": "markdown",
   "id": "d3f9187b-5d8f-4f9e-a5bd-25c5aed822db",
   "metadata": {},
   "source": [
    "Question10: what does pip stand for python"
   ]
  },
  {
   "cell_type": "code",
   "execution_count": 18,
   "id": "644a83be-3903-490f-8822-b36da822d7cf",
   "metadata": {},
   "outputs": [],
   "source": [
    "Answer = (\"PIP stand for package manager for python package\")"
   ]
  },
  {
   "cell_type": "markdown",
   "id": "acbb12e9-c622-489f-b2c0-f670a1fb3244",
   "metadata": {},
   "source": [
    "Question11: Mention a few in-built function in python"
   ]
  },
  {
   "cell_type": "code",
   "execution_count": 19,
   "id": "97c89a47-aba2-4887-b1ab-3ea66c98a363",
   "metadata": {},
   "outputs": [],
   "source": [
    "Answer = (\"append,insert,extend,sort,upper,lower,replace,reverse,pop,remove,update\")"
   ]
  },
  {
   "cell_type": "markdown",
   "id": "60813942-7bd1-41e9-bd6f-20b5375dde9e",
   "metadata": {},
   "source": [
    "Question12: What is the maximum possible length of an identifier in python "
   ]
  },
  {
   "cell_type": "code",
   "execution_count": 20,
   "id": "fd68e4a1-714b-4b02-a060-56e797571a97",
   "metadata": {},
   "outputs": [],
   "source": [
    "Answer = 79 "
   ]
  },
  {
   "cell_type": "markdown",
   "id": "e80a541b-5cf7-4332-8c5e-5af1a08f3674",
   "metadata": {},
   "source": [
    "Question13: What are the benefit of using python"
   ]
  },
  {
   "cell_type": "code",
   "execution_count": 21,
   "id": "2c81470d-052e-404a-86bf-8f4815909c3b",
   "metadata": {},
   "outputs": [],
   "source": [
    "## 1)easy to use\n",
    "## 2)writing less code\n",
    "## 3)Large community\n",
    "## 4)Open source\n",
    "    "
   ]
  },
  {
   "cell_type": "markdown",
   "id": "5231c4ec-b2fd-421c-a6b7-218801bd9bb3",
   "metadata": {},
   "source": [
    "Question14: How is memory managed in python"
   ]
  },
  {
   "cell_type": "code",
   "execution_count": 22,
   "id": "e2710e4d-c50c-4b60-adea-a8eb5f63e4c3",
   "metadata": {},
   "outputs": [],
   "source": [
    "Answer = (\"Heap\")"
   ]
  },
  {
   "cell_type": "markdown",
   "id": "11f47b3e-b757-48cd-a2ff-bde99d628dfd",
   "metadata": {},
   "source": [
    "Question15: How to install python in windows and set path variables"
   ]
  },
  {
   "cell_type": "code",
   "execution_count": 23,
   "id": "55fc97dc-8412-4997-9136-ed8b320124b3",
   "metadata": {},
   "outputs": [],
   "source": [
    "# Download python latest version \n",
    "# intsall the pyhton setup in windows\n",
    "# create path(like in c.drive)"
   ]
  },
  {
   "cell_type": "markdown",
   "id": "15e35fc3-5414-4cf2-a1e0-b01f8b77d4f9",
   "metadata": {},
   "source": [
    "Question16: Is Identation required in python"
   ]
  },
  {
   "cell_type": "code",
   "execution_count": 24,
   "id": "7f5baf14-ee72-477a-80ce-9d93d8789d3c",
   "metadata": {},
   "outputs": [],
   "source": [
    "Answer = (\"Yes\")"
   ]
  },
  {
   "cell_type": "code",
   "execution_count": null,
   "id": "436046fb-a337-40e3-897c-51209155b08e",
   "metadata": {},
   "outputs": [],
   "source": []
  }
 ],
 "metadata": {
  "kernelspec": {
   "display_name": "Python 3 (ipykernel)",
   "language": "python",
   "name": "python3"
  },
  "language_info": {
   "codemirror_mode": {
    "name": "ipython",
    "version": 3
   },
   "file_extension": ".py",
   "mimetype": "text/x-python",
   "name": "python",
   "nbconvert_exporter": "python",
   "pygments_lexer": "ipython3",
   "version": "3.10.6"
  }
 },
 "nbformat": 4,
 "nbformat_minor": 5
}
