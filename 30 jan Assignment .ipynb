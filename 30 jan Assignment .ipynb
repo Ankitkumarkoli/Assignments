{
 "cells": [
  {
   "cell_type": "markdown",
   "id": "459bc839-65e2-40d3-aae2-9eaae29aa5ac",
   "metadata": {},
   "source": [
    "Question1: wirte a program to accept percentage from the user and display the grade according to the following"
   ]
  },
  {
   "cell_type": "code",
   "execution_count": 3,
   "id": "a79c7350-6473-4cdd-a1b7-169af833fe01",
   "metadata": {},
   "outputs": [
    {
     "name": "stdin",
     "output_type": "stream",
     "text": [
      "enter your marks: 87\n"
     ]
    },
    {
     "name": "stdout",
     "output_type": "stream",
     "text": [
      "B\n"
     ]
    }
   ],
   "source": [
    "marks = int(input(\"enter your marks:\"))\n",
    "\n",
    "if marks >90:\n",
    "    print('A')\n",
    "elif marks >80 and marks<=90:\n",
    "    print('B')\n",
    "elif marks >=60 and marks<=80:\n",
    "    print('c')\n",
    "else:\n",
    "    print('D')"
   ]
  },
  {
   "cell_type": "code",
   "execution_count": null,
   "id": "6fd4ce34-2399-4dba-a67d-f2b2504a1a22",
   "metadata": {},
   "outputs": [],
   "source": []
  },
  {
   "cell_type": "markdown",
   "id": "fbdddff2-00d5-42f8-8409-a2fa64543639",
   "metadata": {},
   "source": [
    "Question2: write a program to accept the cost price of a bike and display the road tax to be paid according to the following criteria"
   ]
  },
  {
   "cell_type": "code",
   "execution_count": 9,
   "id": "43e9f11d-3246-483d-bfb3-5759601253b0",
   "metadata": {},
   "outputs": [
    {
     "name": "stdin",
     "output_type": "stream",
     "text": [
      "enter your tax(%):  70000\n"
     ]
    },
    {
     "name": "stdout",
     "output_type": "stream",
     "text": [
      "10\n"
     ]
    }
   ],
   "source": [
    "cost_price = int(input(\"enter your tax(%): \"))\n",
    "\n",
    "if cost_price > 100000:\n",
    "    print(15)\n",
    "elif cost_price>50000 and cost_price<=100000:\n",
    "    print(10)\n",
    "elif cost_price<=50000:\n",
    "    print(5)\n"
   ]
  },
  {
   "cell_type": "code",
   "execution_count": null,
   "id": "52bddd60-b0fb-427f-9f68-888a6216a6ad",
   "metadata": {},
   "outputs": [],
   "source": []
  },
  {
   "cell_type": "markdown",
   "id": "9991c5e7-65e8-4825-a837-c7fb4c6bec97",
   "metadata": {},
   "source": [
    "Question3: Acccept any city from the user and display monuments of that city"
   ]
  },
  {
   "cell_type": "code",
   "execution_count": 15,
   "id": "966c8ce0-e74d-48e5-bd00-8cbc35e6d16f",
   "metadata": {},
   "outputs": [
    {
     "name": "stdin",
     "output_type": "stream",
     "text": [
      "enter cityname:  Delhi\n"
     ]
    },
    {
     "name": "stdout",
     "output_type": "stream",
     "text": [
      "redfort\n"
     ]
    }
   ],
   "source": [
    "#Delhi == Redfort\n",
    "#Agra == Taj_Mahal\n",
    "#Jaipur == Jal_Mahal\n",
    "\n",
    "cityname = input(\"enter cityname: \")\n",
    "\n",
    "if cityname == \"Delhi\":\n",
    "    print(\"redfort\")\n",
    "elif cityname == \"Agra\":\n",
    "    print(\"Taj mahal\")\n",
    "elif cityname == \"Jaipur\":\n",
    "    print(\"Jal mahal\")\n"
   ]
  },
  {
   "cell_type": "code",
   "execution_count": null,
   "id": "dfe80124-555d-422e-905c-739d2e277f02",
   "metadata": {},
   "outputs": [],
   "source": []
  },
  {
   "cell_type": "markdown",
   "id": "60e2e3ff-af3b-4090-aff8-010542344e6b",
   "metadata": {},
   "source": [
    "Question4: Check how many times a given number can be divided by 3 before it is less than or equal to 10"
   ]
  },
  {
   "cell_type": "code",
   "execution_count": 18,
   "id": "62a87c26-7d14-4b73-aff4-19a051542be8",
   "metadata": {},
   "outputs": [
    {
     "name": "stdout",
     "output_type": "stream",
     "text": [
      "given number can be divided upto:  3\n"
     ]
    }
   ],
   "source": [
    "count=0\n",
    "number=210\n",
    "while number > 10:\n",
    "    number = number/3\n",
    "    count = count + 1\n",
    "print(\"given number can be divided upto: \", count)\n",
    "    "
   ]
  },
  {
   "cell_type": "code",
   "execution_count": null,
   "id": "bac0e04b-d1d6-4a9d-b16e-75642d12ea8c",
   "metadata": {},
   "outputs": [],
   "source": []
  },
  {
   "cell_type": "markdown",
   "id": "744620ab-ca9c-4f03-a0a0-e82eec1b9702",
   "metadata": {},
   "source": [
    "Question5: Check how many times a given number can be divided by 3 before it is less than or equal to 10Question5: why and when to use while loop in python give a detailed description aith example"
   ]
  },
  {
   "cell_type": "code",
   "execution_count": 2,
   "id": "22b20828-9227-42b6-8eb8-782d22e57931",
   "metadata": {},
   "outputs": [
    {
     "name": "stdout",
     "output_type": "stream",
     "text": [
      "1\n",
      "2\n",
      "3\n",
      "4\n",
      "5\n",
      "6\n",
      "7\n",
      "8\n",
      "9\n",
      "10\n"
     ]
    }
   ],
   "source": [
    "#Answer= while loop is use when certain condition is not mention,automate process,indefinte iteration and while the answer is not reached \n",
    "\n",
    "a = 1\n",
    "\n",
    "while a <= 10:\n",
    "    print(a)\n",
    "    \n",
    "    a = a + 1\n"
   ]
  },
  {
   "cell_type": "code",
   "execution_count": null,
   "id": "f5e199a1-1235-4a86-8b5c-67c0c0fda7fd",
   "metadata": {},
   "outputs": [],
   "source": []
  },
  {
   "cell_type": "markdown",
   "id": "4871cf6a-aef3-486f-9540-a8705dc3ef86",
   "metadata": {},
   "source": [
    "Question6: use nested while loop to print 3 different pattern"
   ]
  },
  {
   "cell_type": "code",
   "execution_count": 5,
   "id": "01b45889-d515-43e0-9600-dde96e5d06db",
   "metadata": {},
   "outputs": [
    {
     "name": "stdout",
     "output_type": "stream",
     "text": [
      "1\n",
      "33\n",
      "555\n",
      "7777\n",
      "99999\n"
     ]
    }
   ],
   "source": [
    "a = 5\n",
    "b = 1\n",
    "\n",
    "while b<=a:\n",
    "    c = 1\n",
    "    while c<=b:\n",
    "        print((b*2-1),end='')\n",
    "        c = c + 1\n",
    "        \n",
    "    b = b + 1\n",
    "    \n",
    "    print('')\n",
    "        \n",
    "        \n",
    "\n",
    "            \n",
    "            \n"
   ]
  },
  {
   "cell_type": "code",
   "execution_count": null,
   "id": "f68543b7-749b-4bc6-9db7-90296909b9f5",
   "metadata": {},
   "outputs": [],
   "source": []
  },
  {
   "cell_type": "markdown",
   "id": "62720087-19b1-43d6-a12a-f86423ad0267",
   "metadata": {},
   "source": [
    "Question7: Reverse a while to display number from 10 to 1"
   ]
  },
  {
   "cell_type": "code",
   "execution_count": 1,
   "id": "ccf0c4de-02b8-4082-9678-116a75622798",
   "metadata": {},
   "outputs": [
    {
     "name": "stdout",
     "output_type": "stream",
     "text": [
      "10\n",
      "9\n",
      "8\n",
      "7\n",
      "6\n",
      "5\n",
      "4\n",
      "3\n",
      "2\n",
      "1\n"
     ]
    }
   ],
   "source": [
    "a = 10\n",
    "\n",
    "while a>=1:\n",
    "    print(a)\n",
    "    a=a-1\n",
    "    "
   ]
  },
  {
   "cell_type": "code",
   "execution_count": null,
   "id": "3875be6f-d0dc-4fdc-9513-a2d71075748f",
   "metadata": {},
   "outputs": [],
   "source": []
  },
  {
   "cell_type": "code",
   "execution_count": null,
   "id": "c4dd99fb-53a5-4ff4-85cf-c10b13fb5c1a",
   "metadata": {},
   "outputs": [],
   "source": []
  }
 ],
 "metadata": {
  "kernelspec": {
   "display_name": "Python 3 (ipykernel)",
   "language": "python",
   "name": "python3"
  },
  "language_info": {
   "codemirror_mode": {
    "name": "ipython",
    "version": 3
   },
   "file_extension": ".py",
   "mimetype": "text/x-python",
   "name": "python",
   "nbconvert_exporter": "python",
   "pygments_lexer": "ipython3",
   "version": "3.10.8"
  }
 },
 "nbformat": 4,
 "nbformat_minor": 5
}
